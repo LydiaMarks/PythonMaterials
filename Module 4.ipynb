{
 "cells": [
  {
   "cell_type": "markdown",
   "metadata": {
    "deletable": true,
    "editable": true
   },
   "source": [
    "# Basics of Object Oriented Programming"
   ]
  },
  {
   "cell_type": "markdown",
   "metadata": {
    "deletable": true,
    "editable": true
   },
   "source": [
    "## Objects\n",
    "Everything in python is an object, except classes. \n",
    "\n",
    "Main ideas:\n",
    "- An object is a single data structure\n",
    "- Contains data and has its own functions\n",
    "- Functions of objects are called methods\n",
    "\n",
    "Reference and further reading:\n",
    "\n",
    "https://docs.python.org/3/tutorial/classes.html\n",
    "\n",
    "https://realpython.com/python3-object-oriented-programming/\n"
   ]
  },
  {
   "cell_type": "code",
   "execution_count": 62,
   "metadata": {
    "collapsed": false,
    "deletable": true,
    "editable": true,
    "jupyter": {
     "outputs_hidden": false
    }
   },
   "outputs": [
    {
     "data": {
      "text/plain": [
       "8"
      ]
     },
     "execution_count": 62,
     "metadata": {},
     "output_type": "execute_result"
    }
   ],
   "source": [
    "# Python is checking whether the string object has a length. \n",
    "len(\"Vikings!\")"
   ]
  },
  {
   "cell_type": "markdown",
   "metadata": {
    "deletable": true,
    "editable": true
   },
   "source": [
    "#### But what makes \"Vikings!\" a string?\n",
    "- It's an instance of the string class\n",
    "- It inherits all the properties and methods of the string class"
   ]
  },
  {
   "cell_type": "markdown",
   "metadata": {
    "deletable": true,
    "editable": true
   },
   "source": [
    "## Classes\n",
    "Think of classes a container to put together objects and functions with similar properties and methods.\n",
    "\n",
    "Classes are like the bluprint for creating objects. \n",
    "\n",
    "## Basic Syntax\n",
    "\n",
    "- Declare that you are creating a class\n",
    "- Class names are typically Capitalized (like this)\n",
    "- A class must contain something, so the basic class just contains a `pass` statement"
   ]
  },
  {
   "cell_type": "code",
   "execution_count": 63,
   "metadata": {
    "deletable": true,
    "editable": true
   },
   "outputs": [],
   "source": [
    "class MyCapitializedClassName():\n",
    "    pass # do stuff here"
   ]
  },
  {
   "cell_type": "markdown",
   "metadata": {
    "deletable": true,
    "editable": true
   },
   "source": [
    "### You've already been working with classes\n",
    "\n",
    "You've already been using classes when you import modules! A good example of this is the Pandas module, which provides additional data structures and tools for data analysis.\n",
    "\n",
    "https://pandas.pydata.org/docs/index.html"
   ]
  },
  {
   "cell_type": "code",
   "execution_count": 64,
   "metadata": {
    "deletable": true,
    "editable": true
   },
   "outputs": [],
   "source": [
    "# keyword class, followed by uppercase class name\n",
    "class Pandas():\n",
    "    \n",
    "    # characteristics = attributes\n",
    "    # these don't change and are global to all functions in the class\n",
    "    tsv = \"\\t\"\n",
    "    csv = \",\"\n",
    "    \n",
    "    # behavior = method\n",
    "    # your functions that can be called outside of the class/script\n",
    "    def read_csv(self, input_csv):\n",
    "        # function to read in a csv and parse it\n",
    "        pass"
   ]
  },
  {
   "cell_type": "code",
   "execution_count": 65,
   "metadata": {
    "deletable": true,
    "editable": true
   },
   "outputs": [],
   "source": [
    "# here we are importing the Pandas module class\n",
    "import pandas as pd\n",
    "\n",
    "# and here is how we use a method from the imported class\n",
    "in_file = pd.read_csv(\"support_files/datasets/cars_dataset.csv\")"
   ]
  },
  {
   "cell_type": "markdown",
   "metadata": {
    "deletable": true,
    "editable": true
   },
   "source": [
    "When we read in files using pandas (or any other package) we are calling the read_csv function from the Pandas class, which also contains all the other related functions from the pandas package. "
   ]
  },
  {
   "cell_type": "markdown",
   "metadata": {
    "deletable": true,
    "editable": true
   },
   "source": [
    "#### Why do we need to pass the \"self\" argument? \n"
   ]
  },
  {
   "cell_type": "code",
   "execution_count": 66,
   "metadata": {
    "deletable": true,
    "editable": true
   },
   "outputs": [],
   "source": [
    " def read_csv(self, input_csv):\n",
    "        # function to read in a csv and parse it\n",
    "        pass"
   ]
  },
  {
   "cell_type": "markdown",
   "metadata": {
    "deletable": true,
    "editable": true
   },
   "source": [
    "- Each method in a class must have one special first argument, conventionally called \"self\"\n",
    "- This lets Python know that the method is being inherited from the class\n",
    "- It passes along the information about the object that is calling it and grabs all the class information that the object can access. This is also called the context\n",
    "- You never actually use the *self* argument directly, but methods won't work without the context\n",
    "  \n",
    "We'll see this in action below"
   ]
  },
  {
   "cell_type": "markdown",
   "metadata": {
    "deletable": true,
    "editable": true
   },
   "source": [
    "## Let's work through a more detailed example"
   ]
  },
  {
   "cell_type": "code",
   "execution_count": 67,
   "metadata": {
    "deletable": true,
    "editable": true
   },
   "outputs": [],
   "source": [
    "# define a class with an uppercase name\n",
    "class Critter():\n",
    "    \n",
    "    # define a method, using the self parameter\n",
    "    def talk(self):\n",
    "        print(\"Hi. I'm an instance of class Critter\")"
   ]
  },
  {
   "cell_type": "markdown",
   "metadata": {
    "deletable": true,
    "editable": true
   },
   "source": [
    "### Instantiating a class\n",
    "- Assign the class to a variable which makes a callable *instance* of the class"
   ]
  },
  {
   "cell_type": "code",
   "execution_count": 68,
   "metadata": {
    "deletable": true,
    "editable": true
   },
   "outputs": [],
   "source": [
    "# assignment is done using the class method, so it requires ()\n",
    "crit = Critter()"
   ]
  },
  {
   "cell_type": "markdown",
   "metadata": {
    "deletable": true,
    "editable": true
   },
   "source": [
    "### Using a class method"
   ]
  },
  {
   "cell_type": "code",
   "execution_count": 69,
   "metadata": {
    "collapsed": false,
    "deletable": true,
    "editable": true,
    "jupyter": {
     "outputs_hidden": false
    }
   },
   "outputs": [
    {
     "name": "stdout",
     "output_type": "stream",
     "text": [
      "Hi. I'm an instance of class Critter\n"
     ]
    }
   ],
   "source": [
    "crit.talk()"
   ]
  },
  {
   "cell_type": "markdown",
   "metadata": {
    "deletable": true,
    "editable": true
   },
   "source": [
    "### Creating a Constructor (Initialization Method)\n",
    "- The constructor is the first thing that the script calls after the class is instantiated\n",
    "- Here you can pass in arguments during instantiation that you can use as parameters in your class methods"
   ]
  },
  {
   "cell_type": "code",
   "execution_count": 70,
   "metadata": {
    "deletable": true,
    "editable": true
   },
   "outputs": [],
   "source": [
    "# define a class with an uppercase name\n",
    "class Critter():\n",
    "    \n",
    "    def __init__(self, name):\n",
    "       print(\"A new critter has been born!\")\n",
    "    \n",
    "    # define a method, using the self parameter\n",
    "    def talk(self):\n",
    "        print(\"Hi. I'm an instance of class Critter\")"
   ]
  },
  {
   "cell_type": "markdown",
   "metadata": {
    "deletable": true,
    "editable": true
   },
   "source": [
    "We've added an argument to init, so this must be passed when instantiating the class: "
   ]
  },
  {
   "cell_type": "code",
   "execution_count": 71,
   "metadata": {
    "collapsed": false,
    "deletable": true,
    "editable": true,
    "jupyter": {
     "outputs_hidden": false
    }
   },
   "outputs": [
    {
     "name": "stdout",
     "output_type": "stream",
     "text": [
      "A new critter has been born!\n"
     ]
    }
   ],
   "source": [
    "crit = Critter(name=\"Benjamin\")"
   ]
  },
  {
   "cell_type": "markdown",
   "metadata": {
    "deletable": true,
    "editable": true
   },
   "source": [
    "### Instance Attributes\n",
    "Instance attributes are specific to each instance of the class"
   ]
  },
  {
   "cell_type": "code",
   "execution_count": 72,
   "metadata": {
    "deletable": true,
    "editable": true
   },
   "outputs": [],
   "source": [
    "class Critter():\n",
    "    \n",
    "    def __init__(self, name):\n",
    "       # name is an attribute of the Critter class\n",
    "        self.name = name\n",
    "        print(\"A new critter, {}, has been born!\".format(self.name))\n",
    "    \n",
    "    # define a method, using the self parameter\n",
    "    def talk(self):\n",
    "        print(\"Hi. I'm {}\".format(self.name))\n",
    "\n",
    "    # return the critter's name\n",
    "    def name(self):\n",
    "        return self.name\n"
   ]
  },
  {
   "cell_type": "code",
   "execution_count": 73,
   "metadata": {
    "collapsed": false,
    "deletable": true,
    "editable": true,
    "jupyter": {
     "outputs_hidden": false
    }
   },
   "outputs": [
    {
     "name": "stdout",
     "output_type": "stream",
     "text": [
      "A new critter, Benjamin, has been born!\n",
      "A new critter, Scooby, has been born!\n"
     ]
    }
   ],
   "source": [
    "''' Here self refers to an instance of Critter \n",
    "class instantiated with the name Benjamin'''\n",
    "Benji = Critter(name=\"Benjamin\")\n",
    "'''Here self refers to an instance of Critter \n",
    "class instantiated with the name Scooby'''\n",
    "Scooby = Critter(name=\"Scooby\")"
   ]
  },
  {
   "cell_type": "markdown",
   "metadata": {},
   "source": [
    "#### The value of *talk* is different for each instance of the class"
   ]
  },
  {
   "cell_type": "code",
   "execution_count": 74,
   "metadata": {
    "collapsed": false,
    "deletable": true,
    "editable": true,
    "jupyter": {
     "outputs_hidden": false
    }
   },
   "outputs": [
    {
     "name": "stdout",
     "output_type": "stream",
     "text": [
      "Hi. I'm Benjamin\n"
     ]
    }
   ],
   "source": [
    "Benji.talk()"
   ]
  },
  {
   "cell_type": "code",
   "execution_count": 75,
   "metadata": {
    "collapsed": false,
    "deletable": true,
    "editable": true,
    "jupyter": {
     "outputs_hidden": false
    }
   },
   "outputs": [
    {
     "name": "stdout",
     "output_type": "stream",
     "text": [
      "Hi. I'm Scooby\n"
     ]
    }
   ],
   "source": [
    "Scooby.talk()"
   ]
  },
  {
   "cell_type": "markdown",
   "metadata": {
    "deletable": true,
    "editable": true
   },
   "source": [
    "## Python Special Built-In Functions"
   ]
  },
  {
   "cell_type": "markdown",
   "metadata": {
    "deletable": true,
    "editable": true
   },
   "source": [
    "#### The \\__str\\__ method\n",
    "- Creates a string that will be printed when someone prints the Class name"
   ]
  },
  {
   "cell_type": "code",
   "execution_count": 76,
   "metadata": {
    "deletable": true,
    "editable": true
   },
   "outputs": [],
   "source": [
    "class Critter():\n",
    "    \n",
    "    def __init__(self, name):\n",
    "       # name is an attribute of the Critter class\n",
    "        self.name = name\n",
    "        print(\"A new critter, {}, has been born!\".format(self.name))\n",
    "    \n",
    "    # define a method, using the self parameter\n",
    "    def talk(self):\n",
    "        print(\"Hi. I'm {}\".format(self.name))\n",
    "\n",
    "    # return the critter's name\n",
    "    def name(self):\n",
    "        return self.name\n",
    "    \n",
    "    # using python's __str__ method\n",
    "    def __str__(self):\n",
    "        rep = \"Critter object\\n \"\n",
    "        rep += \"name: {} \\n\".format(self.name)\n",
    "        return rep\n"
   ]
  },
  {
   "cell_type": "code",
   "execution_count": 77,
   "metadata": {
    "collapsed": false,
    "deletable": true,
    "editable": true,
    "jupyter": {
     "outputs_hidden": false
    }
   },
   "outputs": [
    {
     "name": "stdout",
     "output_type": "stream",
     "text": [
      "<__main__.Critter object at 0x7f7bdf4bf6d0>\n"
     ]
    }
   ],
   "source": [
    "print(Benji)"
   ]
  },
  {
   "cell_type": "code",
   "execution_count": 78,
   "metadata": {
    "collapsed": false,
    "deletable": true,
    "editable": true,
    "jupyter": {
     "outputs_hidden": false
    }
   },
   "outputs": [
    {
     "name": "stdout",
     "output_type": "stream",
     "text": [
      "<__main__.Critter object at 0x7f7bdf39e340>\n"
     ]
    }
   ],
   "source": [
    "print(Scooby)"
   ]
  },
  {
   "cell_type": "code",
   "execution_count": 79,
   "metadata": {
    "collapsed": false,
    "deletable": true,
    "editable": true,
    "jupyter": {
     "outputs_hidden": false
    }
   },
   "outputs": [
    {
     "data": {
      "text/plain": [
       "'Benjamin'"
      ]
     },
     "execution_count": 79,
     "metadata": {},
     "output_type": "execute_result"
    }
   ],
   "source": [
    "Benji.name"
   ]
  },
  {
   "cell_type": "code",
   "execution_count": 80,
   "metadata": {
    "collapsed": false,
    "deletable": true,
    "editable": true,
    "jupyter": {
     "outputs_hidden": false
    }
   },
   "outputs": [
    {
     "data": {
      "text/plain": [
       "'Scooby'"
      ]
     },
     "execution_count": 80,
     "metadata": {},
     "output_type": "execute_result"
    }
   ],
   "source": [
    "Scooby.name"
   ]
  },
  {
   "cell_type": "markdown",
   "metadata": {
    "deletable": true,
    "editable": true
   },
   "source": [
    "### The \\__repr\\__ method\n",
    "Similar to the string method, but more for developers as it is often used for debugging: \n",
    "- Yields a valid python expression that can be evaluated\n",
    "- __str__ on the other hand, only returns a string"
   ]
  },
  {
   "cell_type": "code",
   "execution_count": 81,
   "metadata": {
    "collapsed": false,
    "deletable": true,
    "editable": true,
    "jupyter": {
     "outputs_hidden": false
    }
   },
   "outputs": [
    {
     "data": {
      "text/plain": [
       "'2024-11-03 20:56:44.588033'"
      ]
     },
     "execution_count": 81,
     "metadata": {},
     "output_type": "execute_result"
    }
   ],
   "source": [
    "import datetime\n",
    "now = datetime.datetime.now() \n",
    "\n",
    "str(now)"
   ]
  },
  {
   "cell_type": "code",
   "execution_count": 82,
   "metadata": {
    "collapsed": false,
    "deletable": true,
    "editable": true,
    "jupyter": {
     "outputs_hidden": false
    }
   },
   "outputs": [
    {
     "data": {
      "text/plain": [
       "'datetime.datetime(2024, 11, 3, 20, 56, 44, 588033)'"
      ]
     },
     "execution_count": 82,
     "metadata": {},
     "output_type": "execute_result"
    }
   ],
   "source": [
    "repr(now)"
   ]
  },
  {
   "cell_type": "markdown",
   "metadata": {
    "deletable": true,
    "editable": true
   },
   "source": [
    "[More info here](http://brennerm.github.io/posts/python-str-vs-repr.html)"
   ]
  },
  {
   "cell_type": "markdown",
   "metadata": {
    "deletable": true,
    "editable": true
   },
   "source": [
    "### The \\__dict\\__ method\n",
    "View all the attributes for a class"
   ]
  },
  {
   "cell_type": "code",
   "execution_count": 83,
   "metadata": {
    "collapsed": false,
    "deletable": true,
    "editable": true,
    "jupyter": {
     "outputs_hidden": false
    }
   },
   "outputs": [
    {
     "data": {
      "text/plain": [
       "{'name': 'Scooby'}"
      ]
     },
     "execution_count": 83,
     "metadata": {},
     "output_type": "execute_result"
    }
   ],
   "source": [
    "Scooby.__dict__"
   ]
  },
  {
   "cell_type": "markdown",
   "metadata": {
    "collapsed": true,
    "deletable": true,
    "editable": true,
    "jupyter": {
     "outputs_hidden": true
    }
   },
   "source": [
    "#### *dir* : What other methods are available? "
   ]
  },
  {
   "cell_type": "code",
   "execution_count": 84,
   "metadata": {
    "collapsed": false,
    "deletable": true,
    "editable": true,
    "jupyter": {
     "outputs_hidden": false
    }
   },
   "outputs": [
    {
     "data": {
      "text/plain": [
       "['__class__',\n",
       " '__delattr__',\n",
       " '__dict__',\n",
       " '__dir__',\n",
       " '__doc__',\n",
       " '__eq__',\n",
       " '__format__',\n",
       " '__ge__',\n",
       " '__getattribute__',\n",
       " '__gt__',\n",
       " '__hash__',\n",
       " '__init__',\n",
       " '__init_subclass__',\n",
       " '__le__',\n",
       " '__lt__',\n",
       " '__module__',\n",
       " '__ne__',\n",
       " '__new__',\n",
       " '__reduce__',\n",
       " '__reduce_ex__',\n",
       " '__repr__',\n",
       " '__setattr__',\n",
       " '__sizeof__',\n",
       " '__str__',\n",
       " '__subclasshook__',\n",
       " '__weakref__',\n",
       " 'name',\n",
       " 'talk']"
      ]
     },
     "execution_count": 84,
     "metadata": {},
     "output_type": "execute_result"
    }
   ],
   "source": [
    "dir(Scooby)"
   ]
  },
  {
   "cell_type": "markdown",
   "metadata": {},
   "source": [
    "## Class attributes \n",
    "Attributes are shared by all instances of the class, and not a particular instance of the class"
   ]
  },
  {
   "cell_type": "code",
   "execution_count": 85,
   "metadata": {},
   "outputs": [],
   "source": [
    "class Critter():\n",
    "    \n",
    "    total = 0\n",
    "    \n",
    "    def __init__(self, name):\n",
    "       # name is an attribute of the Critter class\n",
    "        self.name = name\n",
    "        print(\"A new critter, {}, has been born!\".format(self.name))\n",
    "        Critter.total += 1\n",
    "    \n",
    "    # define a method, using the self parameter\n",
    "    def talk(self):\n",
    "        print(\"Hi. I'm {}\".format(self.name))\n",
    "\n",
    "    # return the critter's name\n",
    "    def name(self):\n",
    "        return self.name\n",
    "        \n",
    "    # using python's __str__ method\n",
    "    def __str__(self):\n",
    "        rep = \"Critter object\\n \"\n",
    "        rep += \"name: {} \\n\".format(self.name)\n",
    "        return rep"
   ]
  },
  {
   "cell_type": "code",
   "execution_count": 86,
   "metadata": {},
   "outputs": [
    {
     "name": "stdout",
     "output_type": "stream",
     "text": [
      "A new critter, Fred, has been born!\n"
     ]
    }
   ],
   "source": [
    "crit = Critter(\"Fred\")"
   ]
  },
  {
   "cell_type": "code",
   "execution_count": 87,
   "metadata": {},
   "outputs": [
    {
     "data": {
      "text/plain": [
       "1"
      ]
     },
     "execution_count": 87,
     "metadata": {},
     "output_type": "execute_result"
    }
   ],
   "source": [
    "crit.total"
   ]
  },
  {
   "cell_type": "code",
   "execution_count": 88,
   "metadata": {},
   "outputs": [
    {
     "name": "stdout",
     "output_type": "stream",
     "text": [
      "A new critter, Sally Lue, has been born!\n"
     ]
    }
   ],
   "source": [
    "crit2 = Critter(\"Sally Lue\")"
   ]
  },
  {
   "cell_type": "code",
   "execution_count": 89,
   "metadata": {},
   "outputs": [
    {
     "data": {
      "text/plain": [
       "2"
      ]
     },
     "execution_count": 89,
     "metadata": {},
     "output_type": "execute_result"
    }
   ],
   "source": [
    "crit2.total"
   ]
  },
  {
   "cell_type": "markdown",
   "metadata": {},
   "source": [
    "<div style=\"background: #DFF0D8; border-radius: 3px; padding: 10px;\">\n",
    "<b>Exercise 4.1</b>\n",
    "\n",
    "What do you think has happened to `crit.total`?\n",
    "</div>"
   ]
  },
  {
   "cell_type": "code",
   "execution_count": 90,
   "metadata": {},
   "outputs": [
    {
     "data": {
      "text/plain": [
       "2"
      ]
     },
     "execution_count": 90,
     "metadata": {},
     "output_type": "execute_result"
    }
   ],
   "source": [
    "crit.total"
   ]
  },
  {
   "cell_type": "markdown",
   "metadata": {},
   "source": [
    "## Static Methods\n",
    "Similar to class attributes, these are functions that belong to the class, and not to any particular instance of the class. Since they don't rely on instance attributes they don't take the *self* context."
   ]
  },
  {
   "cell_type": "code",
   "execution_count": 91,
   "metadata": {},
   "outputs": [],
   "source": [
    "class Critter():\n",
    "    \n",
    "    total = 0\n",
    "    \n",
    "    def __init__(self, name):\n",
    "       # name is an attribute of the Critter class\n",
    "        self.name = name\n",
    "        print(\"A new critter, {}, has been born!\".format(self.name))\n",
    "        Critter.total += 1\n",
    "    \n",
    "    # define a method, using the self parameter\n",
    "    def talk(self):\n",
    "        print(\"Hi. I'm {}\".format(self.name))\n",
    "\n",
    "    # return the critter's name\n",
    "    def name(self):\n",
    "        return self.name\n",
    "        \n",
    "    # using python's __str__ method\n",
    "    def __str__(self):\n",
    "        rep = \"Critter object\\n \"\n",
    "        rep += \"name: {} \\n\".format(self.name)\n",
    "        return rep\n",
    "\n",
    "    @staticmethod\n",
    "    def status():\n",
    "        print(\"There are {} critters\".format(Critter.total))\n",
    "        return Critter.total\n",
    "        "
   ]
  },
  {
   "cell_type": "code",
   "execution_count": 92,
   "metadata": {},
   "outputs": [
    {
     "name": "stdout",
     "output_type": "stream",
     "text": [
      "A new critter, Jimbo, has been born!\n"
     ]
    }
   ],
   "source": [
    "static_crit = Critter(\"Jimbo\")"
   ]
  },
  {
   "cell_type": "code",
   "execution_count": 93,
   "metadata": {},
   "outputs": [
    {
     "name": "stdout",
     "output_type": "stream",
     "text": [
      "There are 1 critters\n"
     ]
    },
    {
     "data": {
      "text/plain": [
       "1"
      ]
     },
     "execution_count": 93,
     "metadata": {},
     "output_type": "execute_result"
    }
   ],
   "source": [
    "Critter.status()"
   ]
  },
  {
   "cell_type": "code",
   "execution_count": 94,
   "metadata": {},
   "outputs": [
    {
     "name": "stdout",
     "output_type": "stream",
     "text": [
      "A new critter, Schubert, has been born!\n"
     ]
    }
   ],
   "source": [
    "static_crit2 = Critter(\"Schubert\")"
   ]
  },
  {
   "cell_type": "code",
   "execution_count": 95,
   "metadata": {},
   "outputs": [
    {
     "name": "stdout",
     "output_type": "stream",
     "text": [
      "There are 2 critters\n"
     ]
    },
    {
     "data": {
      "text/plain": [
       "2"
      ]
     },
     "execution_count": 95,
     "metadata": {},
     "output_type": "execute_result"
    }
   ],
   "source": [
    "Critter.status()"
   ]
  },
  {
   "cell_type": "markdown",
   "metadata": {},
   "source": [
    "<div style=\"background: #DFF0D8; border-radius: 3px; padding: 10px;\">\n",
    "<b>Exercise 4.2</b>\n",
    "\n",
    "Create a class named Counter.  Add an `__init__` method that takes a parameter named `start_value` with a default of 0 and set an instance attribute called `count`.\n",
    "</div>"
   ]
  },
  {
   "cell_type": "code",
   "execution_count": 96,
   "metadata": {},
   "outputs": [],
   "source": [
    "class Counter:\n",
    "\n",
    "    def __init__(self, start_value=0):\n",
    "        self.count = start_value"
   ]
  },
  {
   "cell_type": "markdown",
   "metadata": {},
   "source": [
    "<div style=\"background: #DFF0D8; border-radius: 3px; padding: 10px;\">\n",
    "<b>Exercise 4.3</b>\n",
    "\n",
    "Add a method to Counter that increments the count by one and returns the count.  Test to see that it works\n",
    "</div>"
   ]
  },
  {
   "cell_type": "code",
   "execution_count": 97,
   "metadata": {},
   "outputs": [],
   "source": [
    "class Counter:\n",
    "\n",
    "    def __init__(self, start_value=0):\n",
    "            self._count = start_value\n",
    "\n",
    "    def increment(self):\n",
    "        self._count += 1\n",
    "        return self._count\n"
   ]
  },
  {
   "cell_type": "code",
   "execution_count": 98,
   "metadata": {},
   "outputs": [
    {
     "data": {
      "text/plain": [
       "6"
      ]
     },
     "execution_count": 98,
     "metadata": {},
     "output_type": "execute_result"
    }
   ],
   "source": [
    "c = Counter(5)\n",
    "c.increment()"
   ]
  },
  {
   "cell_type": "markdown",
   "metadata": {},
   "source": [
    "<div style=\"background: #DFF0D8; border-radius: 3px; padding: 10px;\">\n",
    "<b>Exercise 4.4</b>\n",
    "\n",
    "Add a method to Counter that decrements the count by one, prevents the count from going below 0, then returns the count.  Test to see that it works\n",
    "</div>"
   ]
  },
  {
   "cell_type": "code",
   "execution_count": 99,
   "metadata": {},
   "outputs": [],
   "source": [
    "class Counter:\n",
    "\n",
    "    def __init__(self, start_value=0):\n",
    "            self._count = start_value\n",
    "\n",
    "    def increment(self):\n",
    "        self._count += 1\n",
    "        return self._count\n",
    "\n",
    "    def decrement(self):\n",
    "        # counter cannot go below 0\n",
    "        if self._count - 1 < 0:\n",
    "            self._count = 0\n",
    "        else:\n",
    "            self._count -= 1\n",
    "        return self._count"
   ]
  },
  {
   "cell_type": "code",
   "execution_count": 100,
   "metadata": {},
   "outputs": [
    {
     "data": {
      "text/plain": [
       "4"
      ]
     },
     "execution_count": 100,
     "metadata": {},
     "output_type": "execute_result"
    }
   ],
   "source": [
    "c = Counter(5)\n",
    "c.decrement()"
   ]
  },
  {
   "cell_type": "markdown",
   "metadata": {},
   "source": [
    "<div style=\"background: #DFF0D8; border-radius: 3px; padding: 10px;\">\n",
    "<b>Exercise 4.5</b>\n",
    "\n",
    "Add a method to Counter that prints the count for a user, and test that it works.\n",
    "</div>"
   ]
  },
  {
   "cell_type": "code",
   "execution_count": 101,
   "metadata": {},
   "outputs": [],
   "source": [
    "class Counter:\n",
    "\n",
    "    def __init__(self, start_value=0):\n",
    "            self.count = start_value\n",
    "\n",
    "    def increment(self):\n",
    "        self.count += 1\n",
    "        return self.count\n",
    "\n",
    "    def decrement(self):\n",
    "        # counter cannot go below 0\n",
    "        if self.count - 1 < 0:\n",
    "            self.count = 0\n",
    "        else:\n",
    "            self.count -= 1\n",
    "        return self.count\n",
    "    \n",
    "    def check_count(self):\n",
    "        print(\"Counter is currently at {}\".format(self.count))"
   ]
  },
  {
   "cell_type": "code",
   "execution_count": 102,
   "metadata": {},
   "outputs": [
    {
     "name": "stdout",
     "output_type": "stream",
     "text": [
      "Counter is currently at 5\n"
     ]
    }
   ],
   "source": [
    "c = Counter(5)\n",
    "c.check_count()"
   ]
  },
  {
   "cell_type": "markdown",
   "metadata": {},
   "source": [
    "<div style=\"background: #DFF0D8; border-radius: 3px; padding: 10px;\">\n",
    "<b>Exercise 4.6</b>\n",
    "\n",
    "Why can't the method that checks the count be a `staticmethod`?\n",
    "</div>"
   ]
  },
  {
   "cell_type": "markdown",
   "metadata": {},
   "source": [
    "Answer 4.6: Because it needs to access an instance variable"
   ]
  },
  {
   "cell_type": "markdown",
   "metadata": {},
   "source": [
    "# Testing\n",
    "\n",
    "One of the advantages of functions and classes is that you can write tests for them to ensure your code is working as intended.\n",
    "\n",
    "Python has a built-in module named `unittest` that can be used to write tests.\n",
    "\n",
    "https://docs.python.org/3/library/unittest.html#basic-example\n",
    "\n",
    "\n",
    "\n",
    "Let's write tests for our `Critter` class functionality.\n",
    "\n",
    "First we import the `unittest` module and then we define a class to contain our tests.\n",
    "\n",
    "This class inherits from the `unittest.TestCase` class because we're using `unittest` to write tests.\n",
    "\n",
    "Then we write a function that starts with `test_` and takes `self` then performs our test.\n",
    "\n",
    "Let's test that the name we're providing is returned correctly."
   ]
  },
  {
   "cell_type": "code",
   "execution_count": 103,
   "metadata": {},
   "outputs": [
    {
     "name": "stderr",
     "output_type": "stream",
     "text": [
      "test_decrement (__main__.TestCounter) ... ok\n",
      "test_increment (__main__.TestCounter) ... ok\n",
      "test_status (__main__.TestCritter) ... "
     ]
    },
    {
     "name": "stdout",
     "output_type": "stream",
     "text": [
      "A new critter, Tom, has been born!\n"
     ]
    },
    {
     "name": "stderr",
     "output_type": "stream",
     "text": [
      "ok\n",
      "\n",
      "----------------------------------------------------------------------\n",
      "Ran 3 tests in 0.002s\n",
      "\n",
      "OK\n"
     ]
    },
    {
     "data": {
      "text/plain": [
       "<unittest.main.TestProgram at 0x7f7bdf438dc0>"
      ]
     },
     "execution_count": 103,
     "metadata": {},
     "output_type": "execute_result"
    }
   ],
   "source": [
    "import unittest\n",
    "\n",
    "class TestCritter(unittest.TestCase):\n",
    "    \n",
    "    def test_status(self):\n",
    "        tom = Critter(\"Tom\")\n",
    "        self.assertEqual(tom.name, \"Tom\")\n",
    "        \n",
    "\n",
    "unittest.main(argv=[''], verbosity=2, exit=False)"
   ]
  },
  {
   "cell_type": "markdown",
   "metadata": {},
   "source": [
    "When we run this test it prints the number of tests it run and the outcome as `OK` if the test passed."
   ]
  },
  {
   "cell_type": "markdown",
   "metadata": {},
   "source": [
    "<div style=\"background: #DFF0D8; border-radius: 3px; padding: 10px;\">\n",
    "<b>Exercise 4.7</b>\n",
    "\n",
    "Write a test for our Counter class.\n",
    "</div>"
   ]
  },
  {
   "cell_type": "code",
   "execution_count": 104,
   "metadata": {},
   "outputs": [
    {
     "name": "stderr",
     "output_type": "stream",
     "text": [
      "test_decrement (__main__.TestCounter) ... ok\n",
      "test_increment (__main__.TestCounter) ... ok\n",
      "test_status (__main__.TestCritter) ... "
     ]
    },
    {
     "name": "stdout",
     "output_type": "stream",
     "text": [
      "A new critter, Tom, has been born!\n"
     ]
    },
    {
     "name": "stderr",
     "output_type": "stream",
     "text": [
      "ok\n",
      "\n",
      "----------------------------------------------------------------------\n",
      "Ran 3 tests in 0.002s\n",
      "\n",
      "OK\n"
     ]
    },
    {
     "data": {
      "text/plain": [
       "<unittest.main.TestProgram at 0x7f7bdf56cfa0>"
      ]
     },
     "execution_count": 104,
     "metadata": {},
     "output_type": "execute_result"
    }
   ],
   "source": [
    "import unittest\n",
    "\n",
    "class TestCounter(unittest.TestCase):\n",
    "    \n",
    "    def test_increment(self):\n",
    "        five = Counter(5)\n",
    "        self.assertEqual(five.increment(), 6)\n",
    "        \n",
    "    def test_decrement(self):\n",
    "        five = Counter(5)\n",
    "        self.assertEqual(five.decrement(), 4)\n",
    "        \n",
    "unittest.main(argv=[''], verbosity=2, exit=False)"
   ]
  },
  {
   "cell_type": "markdown",
   "metadata": {},
   "source": [
    "##  Testing is important!\n",
    "\n",
    "Testing your code is very important to make sure that you don't have any logic errors. It is also faster, and safer for your data, to test with fixture data that mimics real data values but \n",
    "\n",
    "https://realpython.com/python-testing/\n",
    "\n",
    "https://www.freecodecamp.org/news/how-to-write-unit-tests-for-instance-methods-in-python/\n"
   ]
  }
 ],
 "metadata": {
  "kernelspec": {
   "display_name": "Python 3 (ipykernel)",
   "language": "python",
   "name": "python3"
  },
  "language_info": {
   "codemirror_mode": {
    "name": "ipython",
    "version": 3
   },
   "file_extension": ".py",
   "mimetype": "text/x-python",
   "name": "python",
   "nbconvert_exporter": "python",
   "pygments_lexer": "ipython3",
   "version": "3.8.0"
  }
 },
 "nbformat": 4,
 "nbformat_minor": 4
}
