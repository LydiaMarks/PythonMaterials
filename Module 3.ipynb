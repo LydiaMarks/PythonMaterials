{
 "cells": [
  {
   "cell_type": "markdown",
   "metadata": {
    "cell_id": "213ce08e5fb044bbb3b1c6e1990c5ee0",
    "deepnote_cell_type": "text-cell-h1",
    "formattedRanges": []
   },
   "source": [
    "# Functions"
   ]
  },
  {
   "cell_type": "markdown",
   "metadata": {
    "cell_id": "abd9bd390169440d82f4140cb2677d52",
    "deepnote_cell_type": "markdown"
   },
   "source": [
    "Code execution is often very repetitive; we have seen this above with for-loops. What happens when you need the same block of code to be executed from two different parts of your program? Beginning programmers are often tempted to copy-and-paste snippets of code, a practice that is highly discouraged. In the vast majority of cases, code duplication results in programs that are difficult to read, maintain, and debug.\n",
    "\n",
    "<p>To avoid code duplication, we define blocks of re-usable code called <b>functions</b>. These are one of the most ubiquitous and powerful features across all programming languages. We have already seen a few of Python's built-in functions above--<code>len()</code>, <code>enumerate()</code>, etc. In this section we will see how to define new functions for our own use.\n",
    "\n",
    "<p>In Python, we define new functions by using the following syntax:\n"
   ]
  },
  {
   "cell_type": "code",
   "execution_count": 1,
   "metadata": {
    "cell_id": "fbc9c5a23d954bedb09d80d44bf6cda9",
    "deepnote_cell_type": "code",
    "deepnote_to_be_reexecuted": false,
    "execution_millis": 146,
    "execution_start": 1726197268812,
    "scrolled": true,
    "source_hash": null
   },
   "outputs": [
    {
     "name": "stdout",
     "output_type": "stream",
     "text": [
      "8\n"
     ]
    }
   ],
   "source": [
    "# Define a function called \"my_add_func\" \n",
    "# It will require two parameters called \"x\" and \"y\"\n",
    "def my_add_func(x, y):   \n",
    "    # The indented code block defines the behavior of the function\n",
    "    z = x + y\n",
    "    return z\n",
    "\n",
    "# Run the function here, with x=3 and y=5 as the arguments\n",
    "print(my_add_func(3, 5))"
   ]
  },
  {
   "cell_type": "markdown",
   "metadata": {
    "cell_id": "184129c08f704feba32a58b8015419c7",
    "deepnote_cell_type": "markdown"
   },
   "source": [
    "<p>In the final line above (9) we actually execute the function that we have just defined.  The Python interpreter reads through all the lines and when it encounters this line, it immediately jumps to the first line of <code>my_add_func</code>, with the value 3 assigned to <code>x</code> and 5 assigned to <code>y</code>. The function returns the sum <code>x + y</code>, which is then passed to the <code>print()</code> function. \n",
    "\n",
    "<p>The indented code block defines what will actually happen whenever the function is run. All functions must either return an object--the output of the function--or raise an exception if an error occurred. Any type of object may be returned, including tuples for returning multiple values:"
   ]
  },
  {
   "cell_type": "code",
   "execution_count": 2,
   "metadata": {
    "cell_id": "0c6ffd7c2bd64dad82439ba3523a8991",
    "deepnote_cell_type": "code",
    "deepnote_to_be_reexecuted": false,
    "execution_millis": 146,
    "execution_start": 1726197268813,
    "source_hash": null
   },
   "outputs": [
    {
     "name": "stdout",
     "output_type": "stream",
     "text": [
      "(8, -2)\n"
     ]
    }
   ],
   "source": [
    "def my_new_coordinates(x, y):\n",
    "    return x+y, x-y\n",
    "\n",
    "print(my_new_coordinates(3,5))"
   ]
  },
  {
   "cell_type": "markdown",
   "metadata": {
    "cell_id": "3e3ccf579c6144bda73b6b0048792ffc",
    "deepnote_cell_type": "markdown"
   },
   "source": [
    "<div style=\"border-left: 3px solid #000; padding: 1px; padding-left: 10px; background: #F0FAFF; \">\n",
    "<p>Another nice feature of Python is that it allows documentation to be embedded within the code.\n",
    "\n",
    "<p>We document functions by adding a string just below the declaration, as discussed in Module 0.  Now that we're creating our own functions, let's try it out.  This documentation is called the \"docstring\" and generally contains information about the function.  Calling \"help\" on a function returns the docstring.\n",
    "\n",
    "<p>Note that the triple-quote <code>'''</code> below allows the string to span multiple lines.\n",
    "</div>"
   ]
  },
  {
   "cell_type": "code",
   "execution_count": 3,
   "metadata": {
    "cell_id": "bbb60af552184e978e4612cfdd66bc7b",
    "deepnote_cell_type": "code",
    "deepnote_to_be_reexecuted": false,
    "execution_millis": 145,
    "execution_start": 1726197268814,
    "source_hash": null
   },
   "outputs": [
    {
     "name": "stdout",
     "output_type": "stream",
     "text": [
      "Help on function my_new_coordinates in module __main__:\n",
      "\n",
      "my_new_coordinates(x, y)\n",
      "    Returns a tuple consisting of the sum (x+y) and difference (x-y) of the arguments (x,y).\n",
      "    \n",
      "    This function is intended primarily for nefarious purposes.\n",
      "\n"
     ]
    }
   ],
   "source": [
    "def my_new_coordinates(x, y):\n",
    "    '''\n",
    "    Returns a tuple consisting of the sum (x+y) and difference (x-y) of the arguments (x,y).\n",
    "    \n",
    "    This function is intended primarily for nefarious purposes.\n",
    "    '''\n",
    "    return x+y, x-y\n",
    "\n",
    "help(my_new_coordinates)"
   ]
  },
  {
   "cell_type": "markdown",
   "metadata": {
    "cell_id": "fda43073d9894121b04382b327670d0c",
    "deepnote_cell_type": "markdown"
   },
   "source": [
    "<div style=\"border-left: 3px solid #000; padding: 1px; padding-left: 10px; background: #F0FAFF; \">\n",
    "A function's arguments can be given a default value by using <code>argname=value</code> in the declared list of arguments.  These are called \"keyword arguments\", and they must appear <b>after</b> all other arguments.  When we call the function, argument values can be specified many different ways, as we will see below:\n",
    "</div>"
   ]
  },
  {
   "cell_type": "code",
   "execution_count": 4,
   "metadata": {
    "cell_id": "94fe26ba88fb4668b93e769ddf73365d",
    "deepnote_cell_type": "code",
    "deepnote_to_be_reexecuted": false,
    "execution_millis": 263,
    "execution_start": 1726197268825,
    "source_hash": null
   },
   "outputs": [
    {
     "name": "stdout",
     "output_type": "stream",
     "text": [
      "6\n",
      "8\n",
      "13\n",
      "12\n"
     ]
    }
   ],
   "source": [
    "def add_to_x(x, y=1):\n",
    "    \"\"\"Return the sum of x and y.\n",
    "    If y is not specified, then its default value is 1.\n",
    "    \"\"\"\n",
    "    return x+y\n",
    "\n",
    "# Many different ways we can call add_to_x():\n",
    "print(add_to_x(5))\n",
    "print(add_to_x(5, 3))\n",
    "print(add_to_x(6, y=7))\n",
    "print(add_to_x(y=8, x=4))"
   ]
  },
  {
   "cell_type": "markdown",
   "metadata": {
    "cell_id": "a3c4035202434f33bf89f32a98293b78",
    "deepnote_cell_type": "markdown"
   },
   "source": [
    "<div style=\"border-left: 3px solid #000; padding: 1px; padding-left: 10px; background: #F0FAFF; \">\n",
    "You can also \"unpack\" the values inside lists and tuples to fill multiple arguments:\n",
    "</div>"
   ]
  },
  {
   "cell_type": "code",
   "execution_count": 5,
   "metadata": {
    "cell_id": "f7dd52253eb649349f556c2a8be2644f",
    "deepnote_cell_type": "code",
    "deepnote_to_be_reexecuted": false,
    "execution_millis": 263,
    "execution_start": 1726197268826,
    "source_hash": null
   },
   "outputs": [
    {
     "name": "stdout",
     "output_type": "stream",
     "text": [
      "8\n"
     ]
    }
   ],
   "source": [
    "args = (3,5)\n",
    "\n",
    "print(add_to_x(*args))   # equivalent to add_to_x(args[0],args[1])"
   ]
  },
  {
   "cell_type": "markdown",
   "metadata": {
    "cell_id": "1b35a55e1a1d4e51b5e4491881feb22c",
    "deepnote_cell_type": "markdown"
   },
   "source": [
    "<div style=\"border-left: 3px solid #000; padding: 1px; padding-left: 10px; background: #F0FAFF; \">\n",
    "Alternatively, you can unpack a dictionary that contains the names and values to assign for multiple <strong>keyword arguments</strong> (also called **kwargs):\n",
    "</div>"
   ]
  },
  {
   "cell_type": "code",
   "execution_count": 6,
   "metadata": {
    "cell_id": "7e8348ff826244268bb1523865586c54",
    "deepnote_cell_type": "code",
    "deepnote_to_be_reexecuted": false,
    "execution_millis": 263,
    "execution_start": 1726197268826,
    "source_hash": null
   },
   "outputs": [
    {
     "name": "stdout",
     "output_type": "stream",
     "text": [
      "8\n"
     ]
    }
   ],
   "source": [
    "arg_dict = {'x':3, 'y':5}\n",
    "\n",
    "print(add_to_x(**arg_dict))"
   ]
  },
  {
   "cell_type": "markdown",
   "metadata": {
    "cell_id": "d4465625f1b343bdb315499312ef9e11",
    "deepnote_cell_type": "markdown"
   },
   "source": [
    "<div style=\"border-left: 3px solid #000; padding: 1px; padding-left: 10px; background: #F0FAFF; \">\n",
    "<h2>Function arguments are passed by reference</h2>\n",
    "<p>Let's revisit a point we made earlier about variable names.\n",
    "\n",
    "<p>A variable in Python is a <b>reference</b> to an object. If you have multiple variables that all reference the same object, then any modifications made to the object will appear to affect all of those variables.\n",
    "\n",
    "For example:\n",
    "</div>"
   ]
  },
  {
   "cell_type": "code",
   "execution_count": 7,
   "metadata": {
    "cell_id": "af7ea454071d444fb91ab15699fd96e3",
    "deepnote_cell_type": "code",
    "deepnote_to_be_reexecuted": false,
    "execution_millis": 222,
    "execution_start": 1726197268868,
    "source_hash": null
   },
   "outputs": [
    {
     "name": "stdout",
     "output_type": "stream",
     "text": [
      "[1, 2, 3]\n",
      "[3, 2, 1]\n",
      "[3, 2, 1]\n"
     ]
    }
   ],
   "source": [
    "# Here's a simple function:\n",
    "def print_backward(list_to_print):\n",
    "    \"\"\"Print the contents of a list in reverse order.\"\"\"\n",
    "    list_to_print.reverse()\n",
    "    print(list_to_print)\n",
    "\n",
    "# Define a list of numbers\n",
    "my_list = [1,2,3]\n",
    "print(my_list)\n",
    "\n",
    "# Use our function to print it backward\n",
    "print_backward(my_list)\n",
    "\n",
    "# Now let's look at the original list again\n",
    "print(my_list)"
   ]
  },
  {
   "cell_type": "markdown",
   "metadata": {
    "cell_id": "fda507d7c2d849ea9b7a96ad74e0a854",
    "deepnote_cell_type": "markdown"
   },
   "source": [
    "<div style=\"border-left: 3px solid #000; padding: 1px; padding-left: 10px; background: #F0FAFF; \">\n",
    "<p>What happened in the code above? We printed <code>my_list</code> twice, but got a different result the second time.\n",
    "\n",
    "<p>This is because we have two variables--<code>my_list</code> and <code>list_to_print</code>--that both reference the <b>same</b> list. When we used the <code>.reverse()</code> method on <code>list_to_print</code> from inside <code>print_backward()</code>, it mutated <code>my_list</code>. Some functions change (aka mutate) the original data and some output a new copy of the data.  Refer to the function documentation for each function to determine whether it mutates the original data or creates a new copy.\n",
    "\n",
    "<p>If we wanted to avoid this side-effect, we would need to somehow avoid modifying the original list. If the side-effect is <b>intended</b>, however, then it should be described in the docstring:\n",
    "\n",
    "</div>"
   ]
  },
  {
   "cell_type": "code",
   "execution_count": 8,
   "metadata": {
    "cell_id": "a85e83c3a067438fbbe97199dcf7d078",
    "deepnote_cell_type": "code",
    "deepnote_to_be_reexecuted": false,
    "execution_millis": 221,
    "execution_start": 1726197268869,
    "source_hash": null
   },
   "outputs": [],
   "source": [
    "# Solution 1: copy the list before reversing\n",
    "def print_backward(list_to_print):\n",
    "    \"\"\"Print the contents of a list in reverse order.\"\"\"\n",
    "    list_copy = list_to_print[:]  \n",
    "    print(list_copy)\n",
    "\n",
    "# Solution 2: fix the docstring\n",
    "def print_backward(list_to_print):\n",
    "    \"\"\"Reverse a list and print its contents.\"\"\"\n",
    "    list_to_print.reverse()\n",
    "    print(list_to_print)"
   ]
  },
  {
   "cell_type": "markdown",
   "metadata": {
    "cell_id": "2938bd6bb4224ede994ad29625f1ce3d",
    "deepnote_cell_type": "markdown"
   },
   "source": [
    "Note: the [:] syntax creates a copy of the list, just the same as the **.copy()** method did in Module 1. We already used this copying technique when we changed the extension of our file from .txt to .pdf. "
   ]
  },
  {
   "cell_type": "markdown",
   "metadata": {
    "cell_id": "005af742bdc54ffba596554ef3d9f808",
    "deepnote_cell_type": "markdown"
   },
   "source": [
    "<div style=\"border-left: 3px solid #000; padding: 1px; padding-left: 10px; background: #F0FAFF; \">\n",
    "<h2>Variable Scope</h2>\n",
    "\n",
    "<p>When working with large programs, we might create so many variables that we lose track of which names have been used and which have not. To mitigate this problem, most programming languages use a concept called \"scope\" to confine most variable names to a smaller portion of the program. \n",
    "\n",
    "<p>In Python, the scope for any particular variable depends on the location where it is first defined. Most of the variables we have defined in this notebook so far are \"global\" variables, which means that we should be able to access them from anywhere else in the notebook. However, variables that are assigned inside a function (including the function's arguments) have a more restricted scope--these can only be accessed from within the function. Note that unlike with functions, this does not apply to the other control flow structures we have seen; for-loops and if-blocks do not have a local scope.\n",
    "\n",
    "<p>Let's see an example of local scoping in a function:\n",
    "</div>"
   ]
  },
  {
   "cell_type": "code",
   "execution_count": 9,
   "metadata": {
    "cell_id": "3cfbd84eea9b424b9ffa769388c231a0",
    "deepnote_cell_type": "code",
    "deepnote_to_be_reexecuted": false,
    "execution_millis": 703,
    "execution_start": 1726197268879,
    "source_hash": null
   },
   "outputs": [
    {
     "name": "stdout",
     "output_type": "stream",
     "text": [
      "hi\n"
     ]
    },
    {
     "ename": "NameError",
     "evalue": "name 'message' is not defined",
     "output_type": "error",
     "traceback": [
      "\u001b[0;31m---------------------------------------------------------------------------\u001b[0m",
      "\u001b[0;31mNameError\u001b[0m                                 Traceback (most recent call last)",
      "Cell \u001b[0;32mIn[9], line 9\u001b[0m\n\u001b[1;32m      5\u001b[0m print_hi()\n\u001b[1;32m      7\u001b[0m \u001b[38;5;66;03m# This generates a NameError because the variable `message` does not exist in this scope;\u001b[39;00m\n\u001b[1;32m      8\u001b[0m \u001b[38;5;66;03m# it can only be accessed from inside the function.\u001b[39;00m\n\u001b[0;32m----> 9\u001b[0m \u001b[38;5;28mprint\u001b[39m(\u001b[43mmessage\u001b[49m)\n",
      "\u001b[0;31mNameError\u001b[0m: name 'message' is not defined"
     ]
    }
   ],
   "source": [
    "def print_hi():\n",
    "    message = \"hi\"\n",
    "    print(message)\n",
    "\n",
    "print_hi()\n",
    "\n",
    "# This generates a NameError because the variable `message` does not exist in this scope;\n",
    "# it can only be accessed from inside the function.\n",
    "print(message)"
   ]
  },
  {
   "cell_type": "markdown",
   "metadata": {
    "cell_id": "dad4e7b321e14989ab84383343be4208",
    "deepnote_cell_type": "markdown"
   },
   "source": [
    "<div style=\"border-left: 3px solid #000; padding: 1px; padding-left: 10px; background: #F0FAFF; \">\n",
    "<p>The above example generates a <code>NameError</code> because the variable <code>message</code> only exists within the scope of the <code>print_hi()</code> function. By the time we try to print it again, <code>message</code> is no longer available. \n",
    "\n",
    "<p>The reverse of this example is when we try to access a global variable from within a function:\n",
    "</div>"
   ]
  },
  {
   "cell_type": "code",
   "execution_count": 10,
   "metadata": {
    "cell_id": "e4b6c21caf5049a5ba45a4014311be2f",
    "deepnote_cell_type": "code",
    "deepnote_to_be_reexecuted": false,
    "execution_millis": 76,
    "execution_start": 1725950730224,
    "source_hash": null
   },
   "outputs": [
    {
     "name": "stdout",
     "output_type": "stream",
     "text": [
      "hi\n",
      "goodbye\n"
     ]
    }
   ],
   "source": [
    "message = \"hi\"\n",
    "\n",
    "def print_hi():\n",
    "    print(message)\n",
    "\n",
    "print_hi()\n",
    "\n",
    "message = \"goodbye\"\n",
    "\n",
    "print_hi()"
   ]
  },
  {
   "cell_type": "markdown",
   "metadata": {
    "cell_id": "a5412cb8933340709759c1b190a3fb65",
    "deepnote_cell_type": "markdown"
   },
   "source": [
    "<div style=\"border-left: 3px solid #000; padding: 1px; padding-left: 10px; background: #F0FAFF; \">\n",
    "    <p>In this case, we <b>are</b> able to access the variable <code>message</code> from within the function, because the variable is defined in the global scope. \n",
    "    <p>However, this practice is generally discouraged because it can make your code more difficult to maintain and debug.\n",
    "</div>"
   ]
  },
  {
   "cell_type": "markdown",
   "metadata": {
    "cell_id": "7b2440af24254a5cb1ee75997914d8e7",
    "deepnote_cell_type": "text-cell-h2",
    "formattedRanges": []
   },
   "source": [
    "## Modules"
   ]
  },
  {
   "cell_type": "markdown",
   "metadata": {
    "cell_id": "7f30adcef152402bac2d2ccc6bf1564b",
    "deepnote_cell_type": "markdown"
   },
   "source": [
    "Now that we can make functions, we can combine these building blocks into larger programs.  When we want to re-use functions across multiple programs, we turn to modules.  A module is a collection of functions that can be used over and over again in different programs.\n",
    "\n",
    "Programmers share these modules with each other so that we don't have to reinvent the wheel.  \n",
    "\n",
    "- Any python script that ends in .py can be a module\n",
    "- People have written helper modules for most common tasks in python\n",
    "- You choose which modules to load so python starts up quickly\n"
   ]
  },
  {
   "cell_type": "markdown",
   "metadata": {
    "cell_id": "fc86019896ea4b5e953514ae04d81554",
    "deepnote_cell_type": "markdown"
   },
   "source": [
    "### PyPi: Python Package Index\n",
    "- The place where you can find all these nifty modules\n",
    "- https://pypi.python.org/pypi\n",
    "- Wheels- pre-built distribution format that provides faster installation than installing a package from source"
   ]
  },
  {
   "cell_type": "markdown",
   "metadata": {
    "cell_id": "c06d65d7eba94215a3e962bff4f0753b",
    "deepnote_cell_type": "markdown"
   },
   "source": [
    "### Using Packages\n",
    "\n",
    "Jupyterlite uses a variation of Python's \"pip\" installer much the same way a command line or terminal does. In a new code block you would type \n",
    "*pip install -q <package_name>* \n",
    "then wait for the process to complete; this usually takes only a few seconds but JupyterLite being a browser app, it can take up to a minute. \n",
    "\n"
   ]
  },
  {
   "cell_type": "markdown",
   "metadata": {
    "cell_id": "be473ad48aee4e399709de5e8290805d",
    "deepnote_cell_type": "text-cell-h2",
    "formattedRanges": []
   },
   "source": [
    "## Importing modules"
   ]
  },
  {
   "cell_type": "markdown",
   "metadata": {
    "cell_id": "54133745d56445e1882454508f33a100",
    "deepnote_cell_type": "markdown"
   },
   "source": [
    "Now that we've installed a package, how do we use it?  We use the `import` statement!  \n",
    "Let's install a common python module of useful functions - **numpy**\n",
    "https://numpy.org/doc/stable/index.html\n",
    "\n",
    "\n",
    "Numpy also contains a basic tutorial that can be useful to go through the information about lists again and to learn more about numpy methods - https://numpy.org/doc/stable/user/absolute_beginners.html\n",
    "\n",
    "We will use numpy throughout this course for array functions and mathmatical operations."
   ]
  },
  {
   "cell_type": "markdown",
   "metadata": {
    "cell_id": "52d7ff5e6d944c5eaa199c92fdbac2a1",
    "deepnote_cell_type": "markdown"
   },
   "source": [
    "In a new JupyterLite code block, type\n",
    "pip install -q numpy"
   ]
  },
  {
   "cell_type": "code",
   "execution_count": 11,
   "metadata": {
    "cell_id": "733fe978415e489e897a274e771b3db0",
    "deepnote_cell_type": "code",
    "deepnote_to_be_reexecuted": false,
    "execution_millis": 74,
    "execution_start": 1726200403888,
    "source_hash": null
   },
   "outputs": [
    {
     "data": {
      "text/plain": [
       "array([1, 2, 3])"
      ]
     },
     "execution_count": 11,
     "metadata": {},
     "output_type": "execute_result"
    }
   ],
   "source": [
    "# import all modules, submodules, and functions\n",
    "import numpy\n",
    "numpy.array([1,2,3])"
   ]
  },
  {
   "cell_type": "code",
   "execution_count": 12,
   "metadata": {
    "cell_id": "5b821ac2f84b47ba802406c070192e7e",
    "deepnote_cell_type": "code",
    "deepnote_to_be_reexecuted": true,
    "source_hash": null
   },
   "outputs": [
    {
     "data": {
      "text/plain": [
       "array([1, 2, 3])"
      ]
     },
     "execution_count": 12,
     "metadata": {},
     "output_type": "execute_result"
    }
   ],
   "source": [
    "# alias it for lazy typing\n",
    "import numpy as np\n",
    "np.array([1,2,3])"
   ]
  },
  {
   "cell_type": "code",
   "execution_count": 13,
   "metadata": {
    "cell_id": "10dfc8839c364360afc49388afec683f",
    "deepnote_cell_type": "code",
    "deepnote_to_be_reexecuted": true,
    "execution_millis": 83,
    "execution_start": 1725950888094,
    "source_hash": null
   },
   "outputs": [
    {
     "data": {
      "text/plain": [
       "array([1, 2, 3])"
      ]
     },
     "execution_count": 13,
     "metadata": {},
     "output_type": "execute_result"
    }
   ],
   "source": [
    "# preferred method, import only the functions you need\n",
    "from numpy import array as na, vectorize as nv\n",
    "\n",
    "na([1,2,3])"
   ]
  },
  {
   "cell_type": "markdown",
   "metadata": {
    "cell_id": "8d0005bd567143afad12fe0b98f5d8de",
    "deepnote_cell_type": "text-cell-p",
    "formattedRanges": []
   },
   "source": [
    "To see all of the methods available, we can use the `dir` function on the module.  This can be very large for modules that have a lot of functions like numpy."
   ]
  },
  {
   "cell_type": "code",
   "execution_count": 14,
   "metadata": {
    "cell_id": "b6c1f4fe4ddf4f0f9b948c301e163d1f",
    "deepnote_cell_type": "code",
    "deepnote_to_be_reexecuted": true,
    "execution_millis": 95,
    "execution_start": 1725950950600,
    "source_hash": null
   },
   "outputs": [
    {
     "data": {
      "text/plain": [
       "['ALLOW_THREADS',\n",
       " 'AxisError',\n",
       " 'BUFSIZE',\n",
       " 'CLIP',\n",
       " 'ComplexWarning',\n",
       " 'DataSource',\n",
       " 'ERR_CALL',\n",
       " 'ERR_DEFAULT',\n",
       " 'ERR_IGNORE',\n",
       " 'ERR_LOG',\n",
       " 'ERR_PRINT',\n",
       " 'ERR_RAISE',\n",
       " 'ERR_WARN',\n",
       " 'FLOATING_POINT_SUPPORT',\n",
       " 'FPE_DIVIDEBYZERO',\n",
       " 'FPE_INVALID',\n",
       " 'FPE_OVERFLOW',\n",
       " 'FPE_UNDERFLOW',\n",
       " 'False_',\n",
       " 'Inf',\n",
       " 'Infinity',\n",
       " 'MAXDIMS',\n",
       " 'MAY_SHARE_BOUNDS',\n",
       " 'MAY_SHARE_EXACT',\n",
       " 'ModuleDeprecationWarning',\n",
       " 'NAN',\n",
       " 'NINF',\n",
       " 'NZERO',\n",
       " 'NaN',\n",
       " 'PINF',\n",
       " 'PZERO',\n",
       " 'RAISE',\n",
       " 'RankWarning',\n",
       " 'SHIFT_DIVIDEBYZERO',\n",
       " 'SHIFT_INVALID',\n",
       " 'SHIFT_OVERFLOW',\n",
       " 'SHIFT_UNDERFLOW',\n",
       " 'ScalarType',\n",
       " 'Tester',\n",
       " 'TooHardError',\n",
       " 'True_',\n",
       " 'UFUNC_BUFSIZE_DEFAULT',\n",
       " 'UFUNC_PYVALS_NAME',\n",
       " 'VisibleDeprecationWarning',\n",
       " 'WRAP',\n",
       " '_CopyMode',\n",
       " '_NoValue',\n",
       " '_UFUNC_API',\n",
       " '__NUMPY_SETUP__',\n",
       " '__all__',\n",
       " '__builtins__',\n",
       " '__cached__',\n",
       " '__config__',\n",
       " '__deprecated_attrs__',\n",
       " '__dir__',\n",
       " '__doc__',\n",
       " '__expired_functions__',\n",
       " '__file__',\n",
       " '__former_attrs__',\n",
       " '__future_scalars__',\n",
       " '__getattr__',\n",
       " '__git_version__',\n",
       " '__loader__',\n",
       " '__name__',\n",
       " '__package__',\n",
       " '__path__',\n",
       " '__spec__',\n",
       " '__version__',\n",
       " '_add_newdoc_ufunc',\n",
       " '_builtins',\n",
       " '_distributor_init',\n",
       " '_financial_names',\n",
       " '_get_promotion_state',\n",
       " '_globals',\n",
       " '_int_extended_msg',\n",
       " '_mat',\n",
       " '_no_nep50_warning',\n",
       " '_pyinstaller_hooks_dir',\n",
       " '_pytesttester',\n",
       " '_set_promotion_state',\n",
       " '_specific_msg',\n",
       " '_version',\n",
       " 'abs',\n",
       " 'absolute',\n",
       " 'add',\n",
       " 'add_docstring',\n",
       " 'add_newdoc',\n",
       " 'add_newdoc_ufunc',\n",
       " 'all',\n",
       " 'allclose',\n",
       " 'alltrue',\n",
       " 'amax',\n",
       " 'amin',\n",
       " 'angle',\n",
       " 'any',\n",
       " 'append',\n",
       " 'apply_along_axis',\n",
       " 'apply_over_axes',\n",
       " 'arange',\n",
       " 'arccos',\n",
       " 'arccosh',\n",
       " 'arcsin',\n",
       " 'arcsinh',\n",
       " 'arctan',\n",
       " 'arctan2',\n",
       " 'arctanh',\n",
       " 'argmax',\n",
       " 'argmin',\n",
       " 'argpartition',\n",
       " 'argsort',\n",
       " 'argwhere',\n",
       " 'around',\n",
       " 'array',\n",
       " 'array2string',\n",
       " 'array_equal',\n",
       " 'array_equiv',\n",
       " 'array_repr',\n",
       " 'array_split',\n",
       " 'array_str',\n",
       " 'asanyarray',\n",
       " 'asarray',\n",
       " 'asarray_chkfinite',\n",
       " 'ascontiguousarray',\n",
       " 'asfarray',\n",
       " 'asfortranarray',\n",
       " 'asmatrix',\n",
       " 'atleast_1d',\n",
       " 'atleast_2d',\n",
       " 'atleast_3d',\n",
       " 'average',\n",
       " 'bartlett',\n",
       " 'base_repr',\n",
       " 'binary_repr',\n",
       " 'bincount',\n",
       " 'bitwise_and',\n",
       " 'bitwise_not',\n",
       " 'bitwise_or',\n",
       " 'bitwise_xor',\n",
       " 'blackman',\n",
       " 'block',\n",
       " 'bmat',\n",
       " 'bool_',\n",
       " 'broadcast',\n",
       " 'broadcast_arrays',\n",
       " 'broadcast_shapes',\n",
       " 'broadcast_to',\n",
       " 'busday_count',\n",
       " 'busday_offset',\n",
       " 'busdaycalendar',\n",
       " 'byte',\n",
       " 'byte_bounds',\n",
       " 'bytes_',\n",
       " 'c_',\n",
       " 'can_cast',\n",
       " 'cast',\n",
       " 'cbrt',\n",
       " 'cdouble',\n",
       " 'ceil',\n",
       " 'cfloat',\n",
       " 'char',\n",
       " 'character',\n",
       " 'chararray',\n",
       " 'choose',\n",
       " 'clip',\n",
       " 'clongdouble',\n",
       " 'clongfloat',\n",
       " 'column_stack',\n",
       " 'common_type',\n",
       " 'compare_chararrays',\n",
       " 'compat',\n",
       " 'complex128',\n",
       " 'complex256',\n",
       " 'complex64',\n",
       " 'complex_',\n",
       " 'complexfloating',\n",
       " 'compress',\n",
       " 'concatenate',\n",
       " 'conj',\n",
       " 'conjugate',\n",
       " 'convolve',\n",
       " 'copy',\n",
       " 'copysign',\n",
       " 'copyto',\n",
       " 'corrcoef',\n",
       " 'correlate',\n",
       " 'cos',\n",
       " 'cosh',\n",
       " 'count_nonzero',\n",
       " 'cov',\n",
       " 'cross',\n",
       " 'csingle',\n",
       " 'ctypeslib',\n",
       " 'cumprod',\n",
       " 'cumproduct',\n",
       " 'cumsum',\n",
       " 'datetime64',\n",
       " 'datetime_as_string',\n",
       " 'datetime_data',\n",
       " 'deg2rad',\n",
       " 'degrees',\n",
       " 'delete',\n",
       " 'deprecate',\n",
       " 'deprecate_with_doc',\n",
       " 'diag',\n",
       " 'diag_indices',\n",
       " 'diag_indices_from',\n",
       " 'diagflat',\n",
       " 'diagonal',\n",
       " 'diff',\n",
       " 'digitize',\n",
       " 'disp',\n",
       " 'divide',\n",
       " 'divmod',\n",
       " 'dot',\n",
       " 'double',\n",
       " 'dsplit',\n",
       " 'dstack',\n",
       " 'dtype',\n",
       " 'e',\n",
       " 'ediff1d',\n",
       " 'einsum',\n",
       " 'einsum_path',\n",
       " 'emath',\n",
       " 'empty',\n",
       " 'empty_like',\n",
       " 'equal',\n",
       " 'error_message',\n",
       " 'errstate',\n",
       " 'euler_gamma',\n",
       " 'exp',\n",
       " 'exp2',\n",
       " 'expand_dims',\n",
       " 'expm1',\n",
       " 'extract',\n",
       " 'eye',\n",
       " 'fabs',\n",
       " 'fastCopyAndTranspose',\n",
       " 'fft',\n",
       " 'fill_diagonal',\n",
       " 'find_common_type',\n",
       " 'finfo',\n",
       " 'fix',\n",
       " 'flatiter',\n",
       " 'flatnonzero',\n",
       " 'flexible',\n",
       " 'flip',\n",
       " 'fliplr',\n",
       " 'flipud',\n",
       " 'float128',\n",
       " 'float16',\n",
       " 'float32',\n",
       " 'float64',\n",
       " 'float_',\n",
       " 'float_power',\n",
       " 'floating',\n",
       " 'floor',\n",
       " 'floor_divide',\n",
       " 'fmax',\n",
       " 'fmin',\n",
       " 'fmod',\n",
       " 'format_float_positional',\n",
       " 'format_float_scientific',\n",
       " 'format_parser',\n",
       " 'frexp',\n",
       " 'from_dlpack',\n",
       " 'frombuffer',\n",
       " 'fromfile',\n",
       " 'fromfunction',\n",
       " 'fromiter',\n",
       " 'frompyfunc',\n",
       " 'fromregex',\n",
       " 'fromstring',\n",
       " 'full',\n",
       " 'full_like',\n",
       " 'gcd',\n",
       " 'generic',\n",
       " 'genfromtxt',\n",
       " 'geomspace',\n",
       " 'get_array_wrap',\n",
       " 'get_include',\n",
       " 'get_printoptions',\n",
       " 'getbufsize',\n",
       " 'geterr',\n",
       " 'geterrcall',\n",
       " 'geterrobj',\n",
       " 'gradient',\n",
       " 'greater',\n",
       " 'greater_equal',\n",
       " 'half',\n",
       " 'hamming',\n",
       " 'hanning',\n",
       " 'heaviside',\n",
       " 'histogram',\n",
       " 'histogram2d',\n",
       " 'histogram_bin_edges',\n",
       " 'histogramdd',\n",
       " 'hsplit',\n",
       " 'hstack',\n",
       " 'hypot',\n",
       " 'i0',\n",
       " 'identity',\n",
       " 'iinfo',\n",
       " 'imag',\n",
       " 'in1d',\n",
       " 'index_exp',\n",
       " 'indices',\n",
       " 'inexact',\n",
       " 'inf',\n",
       " 'info',\n",
       " 'infty',\n",
       " 'inner',\n",
       " 'insert',\n",
       " 'int16',\n",
       " 'int32',\n",
       " 'int64',\n",
       " 'int8',\n",
       " 'int_',\n",
       " 'intc',\n",
       " 'integer',\n",
       " 'interp',\n",
       " 'intersect1d',\n",
       " 'intp',\n",
       " 'invert',\n",
       " 'is_busday',\n",
       " 'isclose',\n",
       " 'iscomplex',\n",
       " 'iscomplexobj',\n",
       " 'isfinite',\n",
       " 'isfortran',\n",
       " 'isin',\n",
       " 'isinf',\n",
       " 'isnan',\n",
       " 'isnat',\n",
       " 'isneginf',\n",
       " 'isposinf',\n",
       " 'isreal',\n",
       " 'isrealobj',\n",
       " 'isscalar',\n",
       " 'issctype',\n",
       " 'issubclass_',\n",
       " 'issubdtype',\n",
       " 'issubsctype',\n",
       " 'iterable',\n",
       " 'ix_',\n",
       " 'kaiser',\n",
       " 'kron',\n",
       " 'lcm',\n",
       " 'ldexp',\n",
       " 'left_shift',\n",
       " 'less',\n",
       " 'less_equal',\n",
       " 'lexsort',\n",
       " 'lib',\n",
       " 'linalg',\n",
       " 'linspace',\n",
       " 'little_endian',\n",
       " 'load',\n",
       " 'loadtxt',\n",
       " 'log',\n",
       " 'log10',\n",
       " 'log1p',\n",
       " 'log2',\n",
       " 'logaddexp',\n",
       " 'logaddexp2',\n",
       " 'logical_and',\n",
       " 'logical_not',\n",
       " 'logical_or',\n",
       " 'logical_xor',\n",
       " 'logspace',\n",
       " 'longcomplex',\n",
       " 'longdouble',\n",
       " 'longfloat',\n",
       " 'longlong',\n",
       " 'lookfor',\n",
       " 'ma',\n",
       " 'mask_indices',\n",
       " 'mat',\n",
       " 'math',\n",
       " 'matmul',\n",
       " 'matrix',\n",
       " 'max',\n",
       " 'maximum',\n",
       " 'maximum_sctype',\n",
       " 'may_share_memory',\n",
       " 'mean',\n",
       " 'median',\n",
       " 'memmap',\n",
       " 'meshgrid',\n",
       " 'mgrid',\n",
       " 'min',\n",
       " 'min_scalar_type',\n",
       " 'minimum',\n",
       " 'mintypecode',\n",
       " 'mod',\n",
       " 'modf',\n",
       " 'moveaxis',\n",
       " 'msort',\n",
       " 'multiply',\n",
       " 'nan',\n",
       " 'nan_to_num',\n",
       " 'nanargmax',\n",
       " 'nanargmin',\n",
       " 'nancumprod',\n",
       " 'nancumsum',\n",
       " 'nanmax',\n",
       " 'nanmean',\n",
       " 'nanmedian',\n",
       " 'nanmin',\n",
       " 'nanpercentile',\n",
       " 'nanprod',\n",
       " 'nanquantile',\n",
       " 'nanstd',\n",
       " 'nansum',\n",
       " 'nanvar',\n",
       " 'nbytes',\n",
       " 'ndarray',\n",
       " 'ndenumerate',\n",
       " 'ndim',\n",
       " 'ndindex',\n",
       " 'nditer',\n",
       " 'negative',\n",
       " 'nested_iters',\n",
       " 'newaxis',\n",
       " 'nextafter',\n",
       " 'nonzero',\n",
       " 'not_equal',\n",
       " 'numarray',\n",
       " 'number',\n",
       " 'obj2sctype',\n",
       " 'object_',\n",
       " 'ogrid',\n",
       " 'oldnumeric',\n",
       " 'ones',\n",
       " 'ones_like',\n",
       " 'outer',\n",
       " 'packbits',\n",
       " 'pad',\n",
       " 'partition',\n",
       " 'percentile',\n",
       " 'pi',\n",
       " 'piecewise',\n",
       " 'place',\n",
       " 'poly',\n",
       " 'poly1d',\n",
       " 'polyadd',\n",
       " 'polyder',\n",
       " 'polydiv',\n",
       " 'polyfit',\n",
       " 'polyint',\n",
       " 'polymul',\n",
       " 'polynomial',\n",
       " 'polysub',\n",
       " 'polyval',\n",
       " 'positive',\n",
       " 'power',\n",
       " 'printoptions',\n",
       " 'prod',\n",
       " 'product',\n",
       " 'promote_types',\n",
       " 'ptp',\n",
       " 'put',\n",
       " 'put_along_axis',\n",
       " 'putmask',\n",
       " 'quantile',\n",
       " 'r_',\n",
       " 'rad2deg',\n",
       " 'radians',\n",
       " 'random',\n",
       " 'ravel',\n",
       " 'ravel_multi_index',\n",
       " 'real',\n",
       " 'real_if_close',\n",
       " 'rec',\n",
       " 'recarray',\n",
       " 'recfromcsv',\n",
       " 'recfromtxt',\n",
       " 'reciprocal',\n",
       " 'record',\n",
       " 'remainder',\n",
       " 'repeat',\n",
       " 'require',\n",
       " 'reshape',\n",
       " 'resize',\n",
       " 'result_type',\n",
       " 'right_shift',\n",
       " 'rint',\n",
       " 'roll',\n",
       " 'rollaxis',\n",
       " 'roots',\n",
       " 'rot90',\n",
       " 'round',\n",
       " 'round_',\n",
       " 'row_stack',\n",
       " 's_',\n",
       " 'safe_eval',\n",
       " 'save',\n",
       " 'savetxt',\n",
       " 'savez',\n",
       " 'savez_compressed',\n",
       " 'sctype2char',\n",
       " 'sctypeDict',\n",
       " 'sctypes',\n",
       " 'searchsorted',\n",
       " 'select',\n",
       " 'set_numeric_ops',\n",
       " 'set_printoptions',\n",
       " 'set_string_function',\n",
       " 'setbufsize',\n",
       " 'setdiff1d',\n",
       " 'seterr',\n",
       " 'seterrcall',\n",
       " 'seterrobj',\n",
       " 'setxor1d',\n",
       " 'shape',\n",
       " 'shares_memory',\n",
       " 'short',\n",
       " 'show_config',\n",
       " 'show_runtime',\n",
       " 'sign',\n",
       " 'signbit',\n",
       " 'signedinteger',\n",
       " 'sin',\n",
       " 'sinc',\n",
       " 'single',\n",
       " 'singlecomplex',\n",
       " 'sinh',\n",
       " 'size',\n",
       " 'sometrue',\n",
       " 'sort',\n",
       " 'sort_complex',\n",
       " 'source',\n",
       " 'spacing',\n",
       " 'split',\n",
       " 'sqrt',\n",
       " 'square',\n",
       " 'squeeze',\n",
       " 'stack',\n",
       " 'std',\n",
       " 'str_',\n",
       " 'string_',\n",
       " 'subtract',\n",
       " 'sum',\n",
       " 'swapaxes',\n",
       " 'take',\n",
       " 'take_along_axis',\n",
       " 'tan',\n",
       " 'tanh',\n",
       " 'tensordot',\n",
       " 'test',\n",
       " 'testing',\n",
       " 'tile',\n",
       " 'timedelta64',\n",
       " 'trace',\n",
       " 'tracemalloc_domain',\n",
       " 'transpose',\n",
       " 'trapz',\n",
       " 'tri',\n",
       " 'tril',\n",
       " 'tril_indices',\n",
       " 'tril_indices_from',\n",
       " 'trim_zeros',\n",
       " 'triu',\n",
       " 'triu_indices',\n",
       " 'triu_indices_from',\n",
       " 'true_divide',\n",
       " 'trunc',\n",
       " 'typecodes',\n",
       " 'typename',\n",
       " 'ubyte',\n",
       " 'ufunc',\n",
       " 'uint',\n",
       " 'uint16',\n",
       " 'uint32',\n",
       " 'uint64',\n",
       " 'uint8',\n",
       " 'uintc',\n",
       " 'uintp',\n",
       " 'ulonglong',\n",
       " 'unicode_',\n",
       " 'union1d',\n",
       " 'unique',\n",
       " 'unpackbits',\n",
       " 'unravel_index',\n",
       " 'unsignedinteger',\n",
       " 'unwrap',\n",
       " 'use_hugepage',\n",
       " 'ushort',\n",
       " 'vander',\n",
       " 'var',\n",
       " 'vdot',\n",
       " 'vectorize',\n",
       " 'version',\n",
       " 'void',\n",
       " 'vsplit',\n",
       " 'vstack',\n",
       " 'w',\n",
       " 'where',\n",
       " 'who',\n",
       " 'zeros',\n",
       " 'zeros_like']"
      ]
     },
     "execution_count": 14,
     "metadata": {},
     "output_type": "execute_result"
    }
   ],
   "source": [
    "dir(numpy)"
   ]
  },
  {
   "cell_type": "markdown",
   "metadata": {
    "cell_id": "14bc5eec9b8a44bc9b4daf8ec370bd1e",
    "deepnote_cell_type": "text-cell-p",
    "formattedRanges": []
   },
   "source": [
    "To find more information on a specific function, we use `help`"
   ]
  },
  {
   "cell_type": "code",
   "execution_count": 15,
   "metadata": {
    "cell_id": "17ae21b414fe4dc6a52e3c3f43c2352c",
    "deepnote_cell_type": "code",
    "deepnote_to_be_reexecuted": true,
    "execution_millis": 56,
    "execution_start": 1725950989989,
    "source_hash": null
   },
   "outputs": [
    {
     "name": "stdout",
     "output_type": "stream",
     "text": [
      "Help on built-in function array in module numpy:\n",
      "\n",
      "array(...)\n",
      "    array(object, dtype=None, *, copy=True, order='K', subok=False, ndmin=0,\n",
      "          like=None)\n",
      "    \n",
      "    Create an array.\n",
      "    \n",
      "    Parameters\n",
      "    ----------\n",
      "    object : array_like\n",
      "        An array, any object exposing the array interface, an object whose\n",
      "        __array__ method returns an array, or any (nested) sequence.\n",
      "        If object is a scalar, a 0-dimensional array containing object is\n",
      "        returned.\n",
      "    dtype : data-type, optional\n",
      "        The desired data-type for the array.  If not given, then the type will\n",
      "        be determined as the minimum type required to hold the objects in the\n",
      "        sequence.\n",
      "    copy : bool, optional\n",
      "        If true (default), then the object is copied.  Otherwise, a copy will\n",
      "        only be made if __array__ returns a copy, if obj is a nested sequence,\n",
      "        or if a copy is needed to satisfy any of the other requirements\n",
      "        (`dtype`, `order`, etc.).\n",
      "    order : {'K', 'A', 'C', 'F'}, optional\n",
      "        Specify the memory layout of the array. If object is not an array, the\n",
      "        newly created array will be in C order (row major) unless 'F' is\n",
      "        specified, in which case it will be in Fortran order (column major).\n",
      "        If object is an array the following holds.\n",
      "    \n",
      "        ===== ========= ===================================================\n",
      "        order  no copy                     copy=True\n",
      "        ===== ========= ===================================================\n",
      "        'K'   unchanged F & C order preserved, otherwise most similar order\n",
      "        'A'   unchanged F order if input is F and not C, otherwise C order\n",
      "        'C'   C order   C order\n",
      "        'F'   F order   F order\n",
      "        ===== ========= ===================================================\n",
      "    \n",
      "        When ``copy=False`` and a copy is made for other reasons, the result is\n",
      "        the same as if ``copy=True``, with some exceptions for 'A', see the\n",
      "        Notes section. The default order is 'K'.\n",
      "    subok : bool, optional\n",
      "        If True, then sub-classes will be passed-through, otherwise\n",
      "        the returned array will be forced to be a base-class array (default).\n",
      "    ndmin : int, optional\n",
      "        Specifies the minimum number of dimensions that the resulting\n",
      "        array should have.  Ones will be prepended to the shape as\n",
      "        needed to meet this requirement.\n",
      "    like : array_like, optional\n",
      "        Reference object to allow the creation of arrays which are not\n",
      "        NumPy arrays. If an array-like passed in as ``like`` supports\n",
      "        the ``__array_function__`` protocol, the result will be defined\n",
      "        by it. In this case, it ensures the creation of an array object\n",
      "        compatible with that passed in via this argument.\n",
      "    \n",
      "        .. versionadded:: 1.20.0\n",
      "    \n",
      "    Returns\n",
      "    -------\n",
      "    out : ndarray\n",
      "        An array object satisfying the specified requirements.\n",
      "    \n",
      "    See Also\n",
      "    --------\n",
      "    empty_like : Return an empty array with shape and type of input.\n",
      "    ones_like : Return an array of ones with shape and type of input.\n",
      "    zeros_like : Return an array of zeros with shape and type of input.\n",
      "    full_like : Return a new array with shape of input filled with value.\n",
      "    empty : Return a new uninitialized array.\n",
      "    ones : Return a new array setting values to one.\n",
      "    zeros : Return a new array setting values to zero.\n",
      "    full : Return a new array of given shape filled with value.\n",
      "    \n",
      "    \n",
      "    Notes\n",
      "    -----\n",
      "    When order is 'A' and `object` is an array in neither 'C' nor 'F' order,\n",
      "    and a copy is forced by a change in dtype, then the order of the result is\n",
      "    not necessarily 'C' as expected. This is likely a bug.\n",
      "    \n",
      "    Examples\n",
      "    --------\n",
      "    >>> np.array([1, 2, 3])\n",
      "    array([1, 2, 3])\n",
      "    \n",
      "    Upcasting:\n",
      "    \n",
      "    >>> np.array([1, 2, 3.0])\n",
      "    array([ 1.,  2.,  3.])\n",
      "    \n",
      "    More than one dimension:\n",
      "    \n",
      "    >>> np.array([[1, 2], [3, 4]])\n",
      "    array([[1, 2],\n",
      "           [3, 4]])\n",
      "    \n",
      "    Minimum dimensions 2:\n",
      "    \n",
      "    >>> np.array([1, 2, 3], ndmin=2)\n",
      "    array([[1, 2, 3]])\n",
      "    \n",
      "    Type provided:\n",
      "    \n",
      "    >>> np.array([1, 2, 3], dtype=complex)\n",
      "    array([ 1.+0.j,  2.+0.j,  3.+0.j])\n",
      "    \n",
      "    Data-type consisting of more than one element:\n",
      "    \n",
      "    >>> x = np.array([(1,2),(3,4)],dtype=[('a','<i4'),('b','<i4')])\n",
      "    >>> x['a']\n",
      "    array([1, 3])\n",
      "    \n",
      "    Creating an array from sub-classes:\n",
      "    \n",
      "    >>> np.array(np.mat('1 2; 3 4'))\n",
      "    array([[1, 2],\n",
      "           [3, 4]])\n",
      "    \n",
      "    >>> np.array(np.mat('1 2; 3 4'), subok=True)\n",
      "    matrix([[1, 2],\n",
      "            [3, 4]])\n",
      "\n"
     ]
    }
   ],
   "source": [
    "help(numpy.array)"
   ]
  },
  {
   "cell_type": "markdown",
   "metadata": {
    "cell_id": "9efc60cecb0d44e6a1d350e04755f402",
    "deepnote_cell_type": "text-cell-p",
    "formattedRanges": []
   },
   "source": []
  },
  {
   "cell_type": "markdown",
   "metadata": {
    "cell_id": "8d335e81137d4ce69fd2e2c3b480bf2b",
    "deepnote_cell_type": "text-cell-h2",
    "formattedRanges": []
   },
   "source": [
    "## Exercises 3"
   ]
  },
  {
   "cell_type": "markdown",
   "metadata": {
    "cell_id": "4766238f59f1443981f78614a3ca192f",
    "deepnote_cell_type": "markdown"
   },
   "source": [
    "<div style=\"background: #DFF0D8; border-radius: 3px; padding: 10px;\">\n",
    "<p><b>Exercise 3:</b> Consider the function in the following code block.  Does this function work as expected?  What happens to the list passed in as <code>my_list</code> when you run it?  Experiment with a list of numbers.\n",
    "\n",
    "```python\n",
    "def square_ith(i,my_list):\n",
    "    '''Return the square of the ith element of a list'''\n",
    "    x = my_list.pop(i)\n",
    "    return x*x\n",
    "\n",
    "X = [1,2,3,4,5]\n",
    "print square_ith(3,X)  # Should output 16\n",
    "```\n",
    "</div>"
   ]
  },
  {
   "cell_type": "code",
   "execution_count": 16,
   "metadata": {
    "cell_id": "1d786bfbf62f481f8fbdfaa3d7d6331e",
    "deepnote_cell_type": "code",
    "deepnote_to_be_reexecuted": true,
    "source_hash": null
   },
   "outputs": [
    {
     "name": "stdout",
     "output_type": "stream",
     "text": [
      "16\n",
      "[1, 2, 3, 5]\n"
     ]
    }
   ],
   "source": [
    "def square_ith(i,my_list):\n",
    "    '''Return the square of the ith element of a list'''\n",
    "    x = my_list.pop(i)\n",
    "    return x*x\n",
    "\n",
    "X = [1,2,3,4,5]\n",
    "print(square_ith(3,X))  # Should output 16\n",
    "print(X) # uh oh! where did 4 go?"
   ]
  },
  {
   "cell_type": "markdown",
   "metadata": {
    "cell_id": "bdfe24e265cd4e12ba3149b91002a02e",
    "deepnote_cell_type": "markdown"
   },
   "source": [
    "<div style=\"background: #DFF0D8; border-radius: 3px; padding: 10px;\">\n",
    "<p><b>Exercise 2:</b> Write a function to create a string consisting of a single character repeated <code>100</code> times.\n",
    "</div>\n",
    "      "
   ]
  },
  {
   "cell_type": "code",
   "execution_count": 17,
   "metadata": {
    "cell_id": "f5a69b687f7547fda93d4f584263fe2a",
    "deepnote_cell_type": "code",
    "deepnote_to_be_reexecuted": false,
    "execution_millis": 16,
    "execution_start": 1726200564784,
    "source_hash": null
   },
   "outputs": [],
   "source": [
    "def repeat_string(char):\n",
    "    return [char] * 100"
   ]
  },
  {
   "cell_type": "markdown",
   "metadata": {
    "cell_id": "befaf3295969471a987b66c2b37ba1ac",
    "deepnote_cell_type": "markdown"
   },
   "source": [
    "<div style=\"background: #DFF0D8; border-radius: 3px; padding: 10px;\">\n",
    "<p><b>Exercise 3:</b>  Write a function to transpose a dictionary (swap keys and values).\n",
    "</div>"
   ]
  },
  {
   "cell_type": "code",
   "execution_count": 18,
   "metadata": {
    "cell_id": "bd933a181e204596b34803dca9aeca99",
    "deepnote_cell_type": "code",
    "deepnote_to_be_reexecuted": true,
    "source_hash": null
   },
   "outputs": [],
   "source": [
    "def transpose_dict(obj):\n",
    "    return { value:key for key,value in obj.items() }"
   ]
  },
  {
   "cell_type": "markdown",
   "metadata": {
    "cell_id": "6c4b7492c2bf47099655d82ed0175ef8",
    "deepnote_cell_type": "markdown"
   },
   "source": [
    "<div style=\"background: #DFF0D8; border-radius: 3px; padding: 10px;\">\n",
    "<p><b>Exercise 4:</b>  Suppose you are given a list of dictionaries, each with the same keys. Write a function that converts this to a dictionary of lists.  \n",
    "</div>\n",
    "\n",
    "```\n",
    "    [{'a':0, 'b':1},{'a':4, 'b':7}] ->  {'a':[0, 4], 'b':[1, 7]}\n",
    "```"
   ]
  },
  {
   "cell_type": "code",
   "execution_count": 19,
   "metadata": {
    "cell_id": "368f1854cff142ac938286c9527ab429",
    "deepnote_cell_type": "code",
    "deepnote_to_be_reexecuted": true,
    "source_hash": null
   },
   "outputs": [
    {
     "name": "stdout",
     "output_type": "stream",
     "text": [
      "{'a': [0, 4], 'b': [1, 7]}\n",
      "{'a': [0, 4], 'b': [1, 7]}\n"
     ]
    }
   ],
   "source": [
    "list_of_dicts = [{'a':0, 'b':1}, {'a':4, 'b':7}]\n",
    "\n",
    "def dict_of_lists(list_of_dicts):\n",
    "    obj = {}\n",
    "    \n",
    "    for d in list_of_dicts:\n",
    "        for k,v in d.items():\n",
    "            if k not in obj:\n",
    "                obj[k] = [v]\n",
    "            else:\n",
    "                obj[k].append(v)\n",
    "    return obj\n",
    "\n",
    "print(dict_of_lists(list_of_dicts))\n",
    "\n",
    "# using defaultdict\n",
    "from collections import defaultdict\n",
    "def dict_of_lists_defaultdict(list_of_dicts):\n",
    "    # initial default value is an empty list\n",
    "    obj = defaultdict(list)\n",
    "    \n",
    "    for d in list_of_dicts:\n",
    "        for k,v in d.items():\n",
    "            obj[k].append(v)\n",
    "            \n",
    "    return dict(obj)\n",
    "\n",
    "print(dict_of_lists_defaultdict(list_of_dicts))    "
   ]
  },
  {
   "cell_type": "markdown",
   "metadata": {
    "cell_id": "e49d8f5383f64b7784a28cc45c95a511",
    "deepnote_cell_type": "markdown"
   },
   "source": [
    "<div style=\"background: #DFF0D8; border-radius: 3px; padding: 10px;\">\n",
    "<p><b>Exercise 5:</b>  Write a function to sort the words in a string by the number of characters in each word.  (Hint:  <code>list</code>s have a method called <code>sort</code> that takes an optional argument called <code>key</code>.  <code>key</code> allows you to specify how elements are compared for the sorting process.  Try passing the function <code>len</code> as a <code>key</code> argument to <code>sort</code>.)\n",
    "</div>"
   ]
  },
  {
   "cell_type": "code",
   "execution_count": 20,
   "metadata": {
    "cell_id": "c791f8b7b5dd4047852a7730c5d8420b",
    "deepnote_cell_type": "code",
    "deepnote_to_be_reexecuted": true,
    "source_hash": null
   },
   "outputs": [
    {
     "name": "stdout",
     "output_type": "stream",
     "text": [
      "['1', '22', '333', '4444']\n"
     ]
    }
   ],
   "source": [
    "strings = [ \"1\", \"4444\", \"333\", \"22\" ]\n",
    "strings.sort(key=len)\n",
    "print (strings)"
   ]
  },
  {
   "cell_type": "markdown",
   "metadata": {
    "cell_id": "7fb0feb0b58249b6a71e2686478028ac",
    "deepnote_cell_type": "markdown"
   },
   "source": [
    "<div style=\"background: #DFF0D8; border-radius: 3px; padding: 10px;\">\n",
    "<p><b>Exercise 6:</b>  Write a function to determine whether an integer is prime.  (Hint:  a number X is prime if it has no divisors other than 1 or itself.  This means that there will be no integers smaller than X that divide it evenly, i.e. there will be no number y &lt; X such that X%y==0.)\n",
    "</div>\n",
    "\n",
    "```\n",
    "    is_prime(9) -> False\n",
    "    is_prime(11) -> True\n",
    "```"
   ]
  },
  {
   "cell_type": "code",
   "execution_count": 21,
   "metadata": {
    "cell_id": "935a4a4061b0432d874ff7d67272fb8d",
    "deepnote_cell_type": "code",
    "deepnote_to_be_reexecuted": true,
    "source_hash": null
   },
   "outputs": [],
   "source": [
    "def is_prime(n):\n",
    "    for i in range(2,n):\n",
    "        if n % i == 0:\n",
    "            return False\n",
    "    return True"
   ]
  },
  {
   "cell_type": "markdown",
   "metadata": {
    "cell_id": "0c145215274b470791a8d9994bb43074",
    "deepnote_cell_type": "markdown"
   },
   "source": [
    "<div style=\"background: #DFF0D8; border-radius: 3px; padding: 10px;\">\n",
    "<p><b>Exercise 7:</b> Write a function that returns a list of all prime numbers less than an input value X.\n",
    "</div>"
   ]
  },
  {
   "cell_type": "code",
   "execution_count": 22,
   "metadata": {
    "cell_id": "c07df3222cef4cb681bcff3a72db8fbb",
    "deepnote_cell_type": "code",
    "deepnote_to_be_reexecuted": true,
    "source_hash": null
   },
   "outputs": [
    {
     "name": "stdout",
     "output_type": "stream",
     "text": [
      "[0, 1, 2, 3, 5, 7]\n"
     ]
    }
   ],
   "source": [
    "def all_primes(n):\n",
    "    return [ i for i in range(n) if is_prime(i) ]\n",
    "print(all_primes(10))"
   ]
  },
  {
   "cell_type": "markdown",
   "metadata": {
    "cell_id": "afa9305f36ed4db89a5d78cae97273c6",
    "deepnote_cell_type": "markdown"
   },
   "source": [
    "<div style=\"background: #DFF0D8; border-radius: 3px; padding: 10px;\">\n",
    "<p><b>Exercise 8:</b>  Write a function to generate the Fibonnaci sequence.  The first two elements of this sequence are the number 1.  The next elements are generated by computing the sum of the previous two elements.\n",
    "\n",
    "\n",
    "```\n",
    "    1,1,2,3,5,8,...\n",
    "```\n",
    "</div>"
   ]
  },
  {
   "cell_type": "code",
   "execution_count": 23,
   "metadata": {
    "cell_id": "4339a6f0151f46edb5e1222f8477205d",
    "deepnote_cell_type": "code",
    "deepnote_to_be_reexecuted": false,
    "execution_millis": 118,
    "execution_start": 1726201302056,
    "source_hash": null
   },
   "outputs": [
    {
     "name": "stdout",
     "output_type": "stream",
     "text": [
      "[1, 1, 2, 3, 5, 8, 13, 21, 34, 55]\n"
     ]
    }
   ],
   "source": [
    "def fib(n, seq=[]):\n",
    "    if n == 0:\n",
    "        return seq\n",
    "    \n",
    "    nseq = len(seq)\n",
    "    if nseq < 2:\n",
    "        return fib(n-1, [1] * (nseq+1))\n",
    "    \n",
    "    return fib(n-1, seq + [seq[-2] + seq[-1]])\n",
    "    \n",
    "    \n",
    "print(fib(10))"
   ]
  },
  {
   "cell_type": "markdown",
   "metadata": {
    "cell_id": "e2b13c20c3534192a79896c3b36cbad3",
    "deepnote_cell_type": "markdown"
   },
   "source": [
    "Note: there is a lot going on in the code block above. If you can explain what each line is doing you can pat yourself on the back. If not, try using print statements to see what's going on."
   ]
  },
  {
   "cell_type": "markdown",
   "metadata": {
    "cell_id": "4644fe04f19942c381308cb9c58dd933",
    "deepnote_cell_type": "markdown"
   },
   "source": [
    "<div style=\"background: #DFF0D8; border-radius: 3px; padding: 10px;\">\n",
    "<p><b>Exercise 9:</b>  The string method <code>find</code> will return the index of the beginning of the first substring that matches a pattern,e.g.\n",
    "</div>\n",
    "\n",
    "```python\n",
    "    'hello, world'.find('lo') -> 3\n",
    "```\n",
    "\n",
    "<div style=\"background: #DFF0D8; border-radius: 3px; padding: 10px;\">\n",
    "Write a function that will return a list of the initial positions of  *all* matching substrings.\n",
    "</div>\n",
    "\n",
    "```python\n",
    "    find_all_substrings('hello, hello, world', 'lo') -> [3, 10] \n",
    "```"
   ]
  },
  {
   "cell_type": "code",
   "execution_count": 24,
   "metadata": {
    "cell_id": "f2b6c9cdf6454b3bb0a440accbfb39a0",
    "deepnote_cell_type": "code",
    "deepnote_to_be_reexecuted": true,
    "source_hash": null
   },
   "outputs": [
    {
     "data": {
      "text/plain": [
       "[3, 10]"
      ]
     },
     "execution_count": 24,
     "metadata": {},
     "output_type": "execute_result"
    }
   ],
   "source": [
    "def find_all_substrings(s, subs):\n",
    "    out_indices = []\n",
    "    start_index = 0        \n",
    "    while start_index >= 0:        \n",
    "        start_index = s.find(subs)\n",
    "                          \n",
    "        out_indices.append(start_index)\n",
    "        s = s[start_index+1:]      \n",
    "        \n",
    "    for i in range(1,len(out_indices)):\n",
    "        out_indices[i] += out_indices[i-1] + 1\n",
    "        \n",
    "    # the array has a duplicate from the -1 at the end\n",
    "    return out_indices[:-1]\n",
    "\n",
    "find_all_substrings('hello, hello, world', 'lo')"
   ]
  },
  {
   "cell_type": "markdown",
   "metadata": {
    "cell_id": "8003d40f10b7491eb5728101869dfeb3",
    "deepnote_cell_type": "markdown"
   },
   "source": [
    "    \n",
    "<div style=\"background: #DFF0D8; border-radius: 3px; padding: 10px;\">\n",
    "<p><b>Exercise 10:</b>  Write a function that will compute the sum of all numbers less than X that are divisible by either y or z (say 3 or 5). \n",
    "</div>"
   ]
  },
  {
   "cell_type": "code",
   "execution_count": 25,
   "metadata": {
    "cell_id": "879640fe451f4a56b7388145be8d3be3",
    "deepnote_cell_type": "code",
    "deepnote_to_be_reexecuted": true,
    "source_hash": null
   },
   "outputs": [
    {
     "name": "stdout",
     "output_type": "stream",
     "text": [
      "23\n"
     ]
    }
   ],
   "source": [
    "def complicated_sum(x, y, z):\n",
    "    return sum([i for i in range(x)\n",
    "               if (i % y == 0) or (i % z == 0)])\n",
    "print(complicated_sum(10,3,5))"
   ]
  },
  {
   "cell_type": "markdown",
   "metadata": {
    "cell_id": "bc66598e91d04d0ea62c11e58a632b16",
    "deepnote_cell_type": "markdown"
   },
   "source": [
    "<div style=\"background: #DFF0D8; border-radius: 3px; padding: 10px;\">\n",
    "<p><b>Exercise 11:</b>  Write a function that tests whether a string is a palindrome.\n",
    "</div>\n",
    "\n",
    "```\n",
    "      \"0908090\" ->  True\n",
    "      \"212555655533\" -> False\n",
    "      \"Doc, note: I dissent. A fast never prevents a fatness. I diet on cod\" -> True\n",
    "```"
   ]
  },
  {
   "cell_type": "code",
   "execution_count": 26,
   "metadata": {
    "cell_id": "4e27eb58d9ba471a82501db1bca42a2d",
    "deepnote_cell_type": "code",
    "deepnote_to_be_reexecuted": true,
    "source_hash": null
   },
   "outputs": [
    {
     "name": "stdout",
     "output_type": "stream",
     "text": [
      "True\n",
      "False\n",
      "True\n"
     ]
    }
   ],
   "source": [
    "def is_palindrome(s, ignore_chars=' ,.:'):\n",
    "    forward = [c.lower() for c in s if c not in ignore_chars]\n",
    "    reverse = forward[::-1]\n",
    "    return forward == reverse\n",
    "\n",
    "print(is_palindrome(\"0908090\"))\n",
    "print(is_palindrome(\"212555655533\"))\n",
    "print(is_palindrome(\"Doc, note: I dissent. A fast never prevents a fatness. I diet on cod\"))"
   ]
  }
 ],
 "metadata": {
  "deepnote_execution_queue": [],
  "deepnote_notebook_id": "115ef695086d4b38bbd8f3b12abc9946",
  "kernelspec": {
   "display_name": "Python 3 (ipykernel)",
   "language": "python",
   "name": "python3"
  },
  "language_info": {
   "codemirror_mode": {
    "name": "ipython",
    "version": 3
   },
   "file_extension": ".py",
   "mimetype": "text/x-python",
   "name": "python",
   "nbconvert_exporter": "python",
   "pygments_lexer": "ipython3",
   "version": "3.8.0"
  }
 },
 "nbformat": 4,
 "nbformat_minor": 4
}
