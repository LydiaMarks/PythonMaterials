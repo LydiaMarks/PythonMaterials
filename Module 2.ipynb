{
 "cells": [
  {
   "cell_type": "markdown",
   "metadata": {
    "cell_id": "c11fafb270424e35b04d3c4045ba560b",
    "deepnote_cell_type": "text-cell-h1",
    "formattedRanges": []
   },
   "source": [
    "# Flow Control"
   ]
  },
  {
   "cell_type": "markdown",
   "metadata": {
    "cell_id": "9135f40b9fda42c596c96a45f6c024a4",
    "deepnote_cell_type": "markdown"
   },
   "source": [
    "Flow control is the order in which a program's instructions are executed.  When we're creating a Python program, we're trying to achieve a goal by taking manual steps and automating them.  Ideally this program will be used multiple times in different situations.\n",
    "\n",
    "Flow of control is based on conditions and decisions, and it allows programs to make decisions, loop through instructions, and execute code blocks\n"
   ]
  },
  {
   "cell_type": "markdown",
   "metadata": {
    "cell_id": "f48dfcfe597642af8107927078a86927",
    "deepnote_cell_type": "text-cell-h2",
    "formattedRanges": []
   },
   "source": [
    "## Indentation"
   ]
  },
  {
   "cell_type": "markdown",
   "metadata": {
    "cell_id": "68cf150ebe684a0b8935884520a24b07",
    "deepnote_cell_type": "markdown"
   },
   "source": [
    "Python is a **space delimited** language, the way we create a block is using a colon and indentation.  \n",
    "\n",
    "If the indentation is incorrect, then Python will throw an IndentationError\n"
   ]
  },
  {
   "cell_type": "code",
   "execution_count": 44,
   "metadata": {
    "cell_id": "e2f8d9e3114b4437b5a7e8f1631c45f1",
    "deepnote_cell_type": "code",
    "deepnote_to_be_reexecuted": false,
    "execution_millis": 23,
    "execution_start": 1725944736824,
    "source_hash": null
   },
   "outputs": [
    {
     "ename": "IndentationError",
     "evalue": "expected an indented block (1124119845.py, line 2)",
     "output_type": "error",
     "traceback": [
      "\u001b[0;36m  Cell \u001b[0;32mIn[44], line 2\u001b[0;36m\u001b[0m\n\u001b[0;31m    print(x)\u001b[0m\n\u001b[0m    ^\u001b[0m\n\u001b[0;31mIndentationError\u001b[0m\u001b[0;31m:\u001b[0m expected an indented block\n"
     ]
    }
   ],
   "source": [
    "if x == 5:\n",
    "print(x)"
   ]
  },
  {
   "cell_type": "markdown",
   "metadata": {
    "cell_id": "e4d7e61d74394d13b41b0b9d0cc2fd3f",
    "deepnote_cell_type": "markdown"
   },
   "source": [
    "<div style=\"border-left: 3px solid #000; padding: 1px; padding-left: 10px; background: #F0FAFF; \">\n",
    "<p>The code in the previous cell gives an <code>IndentationError</code>, which tells us that we need to fix the indentation of the line that says <code>print(i)</code>.\n",
    "\n",
    "<p>How much should you indent?  By convention, most Python code indents using 4 spaces.  This is good practice.  Technically, you can choose as much white space you would like as long as it is <b>consistent</b>, but please do not use tabs*!  This can confuse other people trying to use your code on a different platform or with a different editor.  Most Python environments will by default or can be configured to convert the use of the tab key to 4 spaces.  Many will also auto-indent what should be a new code block.\n",
    "\n",
    "<p>We will see many more examples of code indentation below.\n",
    "\n",
    "<p>* by tabs we mean the full 5-space tabs that you get when using a word processor. Sometimes the 'tab' will also carry other word processing metadata that confuses Python and will give you weird errors in your code Many development environments will let you change the number of spaces that the tab key uses.</p>\n",
    "</div>"
   ]
  },
  {
   "cell_type": "markdown",
   "metadata": {
    "cell_id": "f8cc72e72f7f41afa69d64432863be49",
    "deepnote_cell_type": "text-cell-h2",
    "formattedRanges": []
   },
   "source": [
    "## Comparison operators"
   ]
  },
  {
   "cell_type": "markdown",
   "metadata": {
    "cell_id": "5d809d4a762d4ffcaca1836f4e438285",
    "deepnote_cell_type": "markdown"
   },
   "source": [
    "Python uses comparison operators to test between two objects.  The result of a comparison is always a boolean.\n",
    "\n",
    "| **Operator** | **True if:** |\n",
    "| -------- | ------- |\n",
    "|\"x == y\" | \"X is equal to Y\" |\n",
    "|\"x != y\" | \"x is not equal to y\"\n",
    "|\"x > y\" | \"x is greater than y\"\n",
    "|\"x < y\" | \"x is less than y\"\n",
    "|\"x >= y\" | \"x is greater than or equal to y\"\n",
    "|\"x <= y\" | \"x is less than or equal to y\""
   ]
  },
  {
   "cell_type": "markdown",
   "metadata": {
    "cell_id": "edad4135e14846608abca650a84f2374",
    "deepnote_cell_type": "markdown"
   },
   "source": [
    "<div style=\"background: #DFF0D8; border-radius: 3px; padding: 10px;\">\n",
    "<p><b>Exercise 2.1:</b>\n",
    "    \n",
    "Write a test to see if x is equal to 5 and print it\n",
    "What type is returned?\n",
    "</div>"
   ]
  },
  {
   "cell_type": "code",
   "execution_count": 45,
   "metadata": {
    "cell_id": "ffdd0dfabe3844fbbf0b8d412609219a",
    "deepnote_cell_type": "code",
    "deepnote_to_be_reexecuted": true,
    "source_hash": null
   },
   "outputs": [
    {
     "name": "stdout",
     "output_type": "stream",
     "text": [
      "True\n",
      "<class 'bool'>\n"
     ]
    }
   ],
   "source": [
    "x=5\n",
    "\n",
    "print(x==5)\n",
    "print(type(x==5))"
   ]
  },
  {
   "cell_type": "markdown",
   "metadata": {
    "cell_id": "7c23fde256c746258f0d6b4bb0b18922",
    "deepnote_cell_type": "markdown"
   },
   "source": [
    "<div style=\"background: #DFF0D8; border-radius: 3px; padding: 10px;\">\n",
    "<p><b>Exercise 2.2:</b> \n",
    "    \n",
    "Go through the other comparison operators and test them.\n",
    "</div>"
   ]
  },
  {
   "cell_type": "code",
   "execution_count": 46,
   "metadata": {
    "cell_id": "fccc40949e064ca5b3c91a4d21bcabbf",
    "deepnote_cell_type": "code",
    "deepnote_to_be_reexecuted": false,
    "execution_millis": 87,
    "execution_start": 1725945667600,
    "source_hash": null
   },
   "outputs": [
    {
     "name": "stdout",
     "output_type": "stream",
     "text": [
      "False\n",
      "False\n",
      "False\n",
      "True\n",
      "True\n"
     ]
    }
   ],
   "source": [
    "x=5\n",
    "\n",
    "print(x != 5)  # not equal\n",
    "print(x > 5)   # greater than\n",
    "print(x < 5)   # less than\n",
    "print(x >= 5)  # greater than or equal\n",
    "print(x <= 5)  # less than or equal\n"
   ]
  },
  {
   "cell_type": "markdown",
   "metadata": {
    "cell_id": "a9ab5ef1489e4629b5a9dd762c963afd",
    "deepnote_cell_type": "text-cell-h3",
    "formattedRanges": []
   },
   "source": [
    "### Compound comparison operators"
   ]
  },
  {
   "cell_type": "markdown",
   "metadata": {
    "cell_id": "d00bd75256e04c46845c369d40e5ed63",
    "deepnote_cell_type": "markdown"
   },
   "source": [
    "We can combine multiple comparison operators together using **and** and **or**. We can negate the operator by using **not**. Python, unlike some languages, uses human-readable 'and', 'or', and 'not' so it does not have operators such as '&&', '||', and '!'.\n",
    "\n",
    "\n",
    "|Operator |True if: |\n",
    "|----- | ------- |\n",
    "|x **and** y | x and y are true\n",
    "|x **or** y | x, y or both are true\n",
    "|x **not** y | x is true and y is not true\n",
    "\n"
   ]
  },
  {
   "cell_type": "code",
   "execution_count": 47,
   "metadata": {
    "cell_id": "683750242c054766a8d88c9d01a72795",
    "deepnote_cell_type": "code",
    "deepnote_to_be_reexecuted": true,
    "source_hash": null
   },
   "outputs": [
    {
     "name": "stdout",
     "output_type": "stream",
     "text": [
      "True\n",
      "True\n"
     ]
    }
   ],
   "source": [
    "# Compound boolean tests\n",
    "print((x > 2) and (x < 10))\n",
    "print((x < 2) or not (x > 10))"
   ]
  },
  {
   "cell_type": "markdown",
   "metadata": {
    "cell_id": "f4fb6ecd820d45669095dc739ba22c67",
    "deepnote_cell_type": "text-cell-h3",
    "formattedRanges": []
   },
   "source": [
    "### Inclusion tests"
   ]
  },
  {
   "cell_type": "markdown",
   "metadata": {
    "cell_id": "e447ad5b55404f8f9e5107fab51dcff5",
    "deepnote_cell_type": "markdown"
   },
   "source": [
    "We can test if a value is in a list or if a value is not in a list using **in** and **not in**"
   ]
  },
  {
   "cell_type": "code",
   "execution_count": 48,
   "metadata": {
    "cell_id": "78bb6259d70943499f04829df25d07c5",
    "deepnote_cell_type": "code",
    "deepnote_to_be_reexecuted": true,
    "source_hash": null
   },
   "outputs": [
    {
     "name": "stdout",
     "output_type": "stream",
     "text": [
      "True\n",
      "True\n"
     ]
    }
   ],
   "source": [
    "# Tests for inclusion\n",
    "print(7 in range(10))\n",
    "print('x' not in ['a', 'b', 'c'])"
   ]
  },
  {
   "cell_type": "markdown",
   "metadata": {
    "cell_id": "9cb372930ae54ba7bcae10533329a411",
    "deepnote_cell_type": "text-cell-h2",
    "formattedRanges": []
   },
   "source": [
    "## Conditional Evaluation"
   ]
  },
  {
   "cell_type": "markdown",
   "metadata": {
    "cell_id": "eb0bcee2b43a4a498c456ae8694b0fd8",
    "deepnote_cell_type": "markdown"
   },
   "source": [
    "An **if** statement allows your code to make decisions based on the value of an object. The code can check the condition, then execute other code or skip it.  We can use conditional operators in an evaluation to perform logic checks and control what code executes!\n",
    "\n",
    "\n",
    "To create a conditional, the line must start with **if** and then a conditional expression follows that and then the line ends with a colon.  The following line must be indented and this contains the code that will execute if the condition expression is true.  The code block is defined by indentation and can continue indefinitely until the next line that is not indented.\n"
   ]
  },
  {
   "cell_type": "code",
   "execution_count": 49,
   "metadata": {
    "cell_id": "588a1bc94a6646f88472bb9912e44696",
    "deepnote_cell_type": "code",
    "deepnote_to_be_reexecuted": true,
    "source_hash": null
   },
   "outputs": [
    {
     "name": "stdout",
     "output_type": "stream",
     "text": [
      "x equals 5!\n"
     ]
    }
   ],
   "source": [
    "# assignment\n",
    "x = 5\n",
    "\n",
    "# conditional evaluation\n",
    "if x == 5:\n",
    "    # this line will be executed\n",
    "    print(\"x equals 5!\")\n",
    "    \n",
    "if x < 2:\n",
    "    # this line will NOT be executed\n",
    "    print(\"x is less than two.\")"
   ]
  },
  {
   "cell_type": "markdown",
   "metadata": {
    "cell_id": "21691fbce37e4eecae78c6cc20689db0",
    "deepnote_cell_type": "markdown"
   },
   "source": [
    "<div style=\"border-left: 3px solid #000; padding: 1px; padding-left: 10px; background: #F0FAFF; \">\n",
    "<p>Again, the body of the <code>if</code> code block is defined by indentation. \n",
    "\n",
    "<p>Note the use of the double-equal sign to indicate a test for equality. Remember: \n",
    "\n",
    "<ul>\n",
    "    <li> A single-equal <code>=</code> is an <b>assignment</b>; this changes the value of a variable.\n",
    "    <li> A double-equal <code>==</code> is a <b>question</b>; it returns True if the objects on either side are equal.\n",
    "</ul>\n",
    "\n",
    "</div>"
   ]
  },
  {
   "cell_type": "code",
   "execution_count": 50,
   "metadata": {
    "cell_id": "6b0f1d76668b4746a5c30516cc327789",
    "deepnote_cell_type": "code",
    "deepnote_to_be_reexecuted": false,
    "execution_millis": 83,
    "execution_start": 1725945149884,
    "source_hash": null
   },
   "outputs": [
    {
     "ename": "SyntaxError",
     "evalue": "invalid syntax (3608310708.py, line 3)",
     "output_type": "error",
     "traceback": [
      "\u001b[0;36m  Cell \u001b[0;32mIn[50], line 3\u001b[0;36m\u001b[0m\n\u001b[0;31m    if x = 5:\u001b[0m\n\u001b[0m         ^\u001b[0m\n\u001b[0;31mSyntaxError\u001b[0m\u001b[0;31m:\u001b[0m invalid syntax\n"
     ]
    }
   ],
   "source": [
    "x = 5\n",
    "\n",
    "if x = 5:\n",
    "    # this line will be executed\n",
    "    print(\"x equals 5!\")"
   ]
  },
  {
   "cell_type": "markdown",
   "metadata": {
    "cell_id": "99f57fd2b1e94b22ada7e4fb70f88ccb",
    "deepnote_cell_type": "markdown"
   },
   "source": [
    "If want to have additional conditions that can only be executed once, we can use `elif`.  The `elif` block adds another conditional to be tested in case the first is false.  If we have code that should be run only if all of the other conditions are false, we can use the `else` block.\n",
    "\n",
    "The `elif` and `else` blocks are both optional.\n"
   ]
  },
  {
   "cell_type": "code",
   "execution_count": 51,
   "metadata": {
    "cell_id": "8230339f284142bfb782e9b87af08515",
    "deepnote_cell_type": "code",
    "deepnote_to_be_reexecuted": true,
    "scrolled": true,
    "source_hash": null
   },
   "outputs": [
    {
     "name": "stdout",
     "output_type": "stream",
     "text": [
      "x is positive\n"
     ]
    }
   ],
   "source": [
    "x = 5\n",
    "\n",
    "# There are three possible blocks for Python to execute here.\n",
    "# Only the *first* block to pass its conditional test will be executed.\n",
    "if x == 0:\n",
    "    print(\"x is 0\")\n",
    "elif x < 0:\n",
    "    print(\"x is negative\")\n",
    "else:\n",
    "    print(\"x is positive\")"
   ]
  },
  {
   "cell_type": "markdown",
   "metadata": {
    "cell_id": "b0977399ae574ee7b4297e1b6e8deacb",
    "deepnote_cell_type": "text-cell-h2",
    "formattedRanges": []
   },
   "source": [
    "## Iteration"
   ]
  },
  {
   "cell_type": "markdown",
   "metadata": {
    "cell_id": "bdcbefda3e7149a7b6357f794ee77773",
    "deepnote_cell_type": "markdown"
   },
   "source": [
    "Python has a number of ways to iterate, or \"loop\" over data.  The most common is the `for` loop, which allows a single block of code to be executed multiple times in sequence:"
   ]
  },
  {
   "cell_type": "code",
   "execution_count": 52,
   "metadata": {
    "cell_id": "48dc610a90b344d58a18d0dec2932745",
    "deepnote_cell_type": "code",
    "deepnote_to_be_reexecuted": true,
    "scrolled": true,
    "source_hash": null
   },
   "outputs": [
    {
     "name": "stdout",
     "output_type": "stream",
     "text": [
      "0\n",
      "1\n",
      "2\n",
      "3\n",
      "4\n",
      "5\n",
      "All done.\n"
     ]
    }
   ],
   "source": [
    "for i in range(6):\n",
    "    print(i)\n",
    "    \n",
    "print(\"All done.\")"
   ]
  },
  {
   "cell_type": "markdown",
   "metadata": {
    "cell_id": "446ee50f2cb34610a3c6a7b0577f3d13",
    "deepnote_cell_type": "markdown"
   },
   "source": [
    "The code above does the following:\n",
    "\n",
    "1. `range(6)` creates an iterable of 6 consecutive integers starting at 0.\n",
    "2. For each integer in the list, assign the integer to the variable <code>i</code> and then execute the code inside the <code>for</code> loop. This means that the statement <code>print(i)</code> is executed 6 times, each time with a different value assigned to <code>i</code>.\n",
    "3. Print \"All done.'\n"
   ]
  },
  {
   "cell_type": "markdown",
   "metadata": {
    "cell_id": "d7a4349b2ef549559885b2ece2e30fd2",
    "deepnote_cell_type": "markdown"
   },
   "source": [
    "<div style=\"background: #DFF0D8; border-radius: 3px; padding: 10px;\">\n",
    "<p><b>Exercise 2.3:</b> \n",
    "    \n",
    "Try typing the above for-loop into the cell below.  Notice that when you press <code>enter</code> at the end of the first line, Jupyter will automatically begin an indented code block.\n",
    "</div>"
   ]
  },
  {
   "cell_type": "code",
   "execution_count": 53,
   "metadata": {
    "cell_id": "2b314805928d4669886725ab58653866",
    "deepnote_cell_type": "code",
    "deepnote_to_be_reexecuted": true,
    "source_hash": null
   },
   "outputs": [
    {
     "name": "stdout",
     "output_type": "stream",
     "text": [
      "0\n",
      "1\n",
      "2\n",
      "3\n",
      "4\n",
      "5\n",
      "6\n",
      "7\n",
      "8\n",
      "9\n"
     ]
    }
   ],
   "source": [
    "for i in range(10):\n",
    "    print(i)"
   ]
  },
  {
   "cell_type": "markdown",
   "metadata": {
    "cell_id": "3cb5e26f53b74bc8939c29f9193ca0f2",
    "deepnote_cell_type": "markdown"
   },
   "source": [
    "<div style=\"background: #DFF0D8; border-radius: 3px; padding: 10px;\">\n",
    "<p><b>Exercise 2.4:</b> \n",
    "    \n",
    "Print out the squares of the first ten integers.\n",
    "</div>"
   ]
  },
  {
   "cell_type": "code",
   "execution_count": 54,
   "metadata": {
    "cell_id": "fea87ec03ee34f14a46829c0f5d246ec",
    "deepnote_cell_type": "code",
    "deepnote_to_be_reexecuted": true,
    "source_hash": null
   },
   "outputs": [
    {
     "name": "stdout",
     "output_type": "stream",
     "text": [
      "0\n",
      "1\n",
      "4\n",
      "9\n",
      "16\n",
      "25\n",
      "36\n",
      "49\n",
      "64\n",
      "81\n"
     ]
    }
   ],
   "source": [
    "for i in range(10):\n",
    "    print(i*i)"
   ]
  },
  {
   "cell_type": "markdown",
   "metadata": {
    "cell_id": "2f6358f9c88a4b638ba05d2b58d1f91f",
    "deepnote_cell_type": "markdown"
   },
   "source": [
    "<div style=\"background: #DFF0D8; border-radius: 3px; padding: 10px;\">\n",
    "<p><b>Exercise 2.5:</b> \n",
    "    \n",
    "Print out the sum of the first ten integers.\n",
    "</div>"
   ]
  },
  {
   "cell_type": "code",
   "execution_count": 55,
   "metadata": {
    "cell_id": "9298e37dacf548b6ace545b4241b0495",
    "deepnote_cell_type": "code",
    "deepnote_to_be_reexecuted": false,
    "execution_millis": 100,
    "execution_start": 1725945940128,
    "source_hash": null
   },
   "outputs": [
    {
     "name": "stdout",
     "output_type": "stream",
     "text": [
      "45\n",
      "45\n"
     ]
    }
   ],
   "source": [
    "# simple way\n",
    "isum = 0\n",
    "for i in range(10):\n",
    "    isum += i\n",
    "print(isum)\n",
    "\n",
    "# one-liner using built-in function\n",
    "print(sum(range(10)))"
   ]
  },
  {
   "cell_type": "markdown",
   "metadata": {
    "cell_id": "a3bbf545b8ed4cdda5a4c2c5267463ef",
    "deepnote_cell_type": "markdown"
   },
   "source": [
    "<div style=\"background: #DFF0D8; border-radius: 3px; padding: 10px;\">\n",
    "<p><b>Exercise 2.6:</b> \n",
    "    \n",
    "Add two equal length lists of numbers element-wise.\n",
    "</div>"
   ]
  },
  {
   "cell_type": "code",
   "execution_count": 56,
   "metadata": {
    "cell_id": "981521027ce14340ac059e56f556de8e",
    "deepnote_cell_type": "code",
    "deepnote_to_be_reexecuted": false,
    "execution_millis": 33,
    "execution_start": 1725945945016,
    "source_hash": null
   },
   "outputs": [
    {
     "name": "stdout",
     "output_type": "stream",
     "text": [
      "[8, 8, 6, 7, 9]\n"
     ]
    }
   ],
   "source": [
    "X = [1,2,3,4,5]\n",
    "Y = [7,6,3,3,4]\n",
    "\n",
    "Z = []\n",
    "for i in range(len(X)):\n",
    "    Z.append(X[i] + Y[i])\n",
    "print(Z)"
   ]
  },
  {
   "cell_type": "markdown",
   "metadata": {
    "cell_id": "c6281b977798478eb84bb98541aa03fa",
    "deepnote_cell_type": "text-cell-h2",
    "formattedRanges": []
   },
   "source": [
    "## Mixing for-loops and conditionals"
   ]
  },
  {
   "cell_type": "markdown",
   "metadata": {
    "cell_id": "7852b3115ce04fd0bbf66479a72ef34f",
    "deepnote_cell_type": "markdown"
   },
   "source": [
    "\n",
    "<p><code>for</code> loops also support <code>break</code> and <code>continue</code> statements. These follow the standard behavior used in many other languages:\n",
    "\n",
    "<code>break</code> causes the currently-running loop to exit immediately--execution jumps to the first line <b>after</b> the end of the for-loop's block.\n",
    "<code>continue</code> causes the current iteration of the for-loop to end--execution jumps back to the beginning of the for-loop's block, and the next iteration begins."
   ]
  },
  {
   "cell_type": "code",
   "execution_count": 57,
   "metadata": {
    "cell_id": "d617f16df3bc4f429dba751327080109",
    "deepnote_cell_type": "code",
    "deepnote_to_be_reexecuted": true,
    "source_hash": null
   },
   "outputs": [
    {
     "name": "stdout",
     "output_type": "stream",
     "text": [
      "0\n",
      "1\n",
      "2\n"
     ]
    }
   ],
   "source": [
    "for i in range(10):\n",
    "    if i == 3:\n",
    "        break\n",
    "    print(i)"
   ]
  },
  {
   "cell_type": "code",
   "execution_count": 58,
   "metadata": {
    "cell_id": "827b407ce0f2437f9eeef1d9f9c4b792",
    "deepnote_cell_type": "code",
    "deepnote_to_be_reexecuted": false,
    "execution_millis": 32,
    "execution_start": 1725946082148,
    "source_hash": null
   },
   "outputs": [
    {
     "name": "stdout",
     "output_type": "stream",
     "text": [
      "1\n",
      "3\n",
      "5\n",
      "7\n",
      "9\n"
     ]
    }
   ],
   "source": [
    "for i in range(10):\n",
    "    if i % 2 == 0:\n",
    "        continue\n",
    "    print(i)"
   ]
  },
  {
   "cell_type": "markdown",
   "metadata": {
    "cell_id": "835ecf8a72874b8d9a6386b118918f88",
    "deepnote_cell_type": "markdown"
   },
   "source": [
    "<div style=\"border-left: 3px solid #000; padding: 1px; padding-left: 10px; background: #F0FAFF; \">\n",
    "    Note the use of <b>nested</b> indentation--we have an <code>if</code> block nested inside a <code>for</code>-loop.\n",
    "</div>"
   ]
  },
  {
   "cell_type": "markdown",
   "metadata": {
    "cell_id": "fb5943bdcc214b6a9a1939f73d807abd",
    "deepnote_cell_type": "markdown"
   },
   "source": [
    "<div style=\"background: #DFF0D8; border-radius: 3px; padding: 10px;\">\n",
    "<p><b>Exercise 2.7:</b> \n",
    "    \n",
    "Most code editors provide some means to automatically indent and de-indent whole blocks of code. In the cell below, select the last three lines and then press <code>tab</code> to increase their indentation, and <code>shift-tab</code> to decrease their indentation.\n",
    "</div>"
   ]
  },
  {
   "cell_type": "code",
   "execution_count": 59,
   "metadata": {
    "cell_id": "ed4c5ef1a7894d089af00619e0548d31",
    "deepnote_cell_type": "code",
    "deepnote_to_be_reexecuted": false,
    "execution_millis": 113,
    "execution_start": 1725946110156,
    "source_hash": null
   },
   "outputs": [
    {
     "name": "stdout",
     "output_type": "stream",
     "text": [
      "1\n",
      "3\n",
      "5\n",
      "7\n",
      "9\n"
     ]
    }
   ],
   "source": [
    "for i in range(10):\n",
    "    if i % 2 == 0:\n",
    "        continue\n",
    "    print(i)"
   ]
  },
  {
   "cell_type": "markdown",
   "metadata": {
    "cell_id": "f751682752b94d9995fa7cbe01c59b2f",
    "deepnote_cell_type": "markdown"
   },
   "source": [
    "A 'classic' coding challenge is a 'game' called \"Fizz Buzz.\" In this game, you have to say whether a number is divisible by 3 (\"Fizz\"), 5 (\"Buzz\"), or both (\"Fizz Buzz\"). Now that we have loops and iteration we can give this a try."
   ]
  },
  {
   "cell_type": "code",
   "execution_count": 60,
   "metadata": {
    "cell_id": "d3b42d8500ee48418d4fde5b8d58e008",
    "deepnote_cell_type": "code"
   },
   "outputs": [
    {
     "name": "stdout",
     "output_type": "stream",
     "text": [
      "1\n",
      "2\n",
      "Fizz\n",
      "4\n",
      "Buzz\n",
      "Fizz\n",
      "7\n",
      "8\n",
      "Fizz\n",
      "Buzz\n",
      "11\n",
      "Fizz\n",
      "13\n",
      "14\n",
      "FizzBuzz\n",
      "16\n",
      "17\n",
      "Fizz\n",
      "19\n",
      "Buzz\n",
      "Fizz\n",
      "22\n",
      "23\n",
      "Fizz\n",
      "Buzz\n",
      "26\n",
      "Fizz\n",
      "28\n",
      "29\n",
      "FizzBuzz\n",
      "31\n",
      "32\n",
      "Fizz\n",
      "34\n",
      "Buzz\n",
      "Fizz\n",
      "37\n",
      "38\n",
      "Fizz\n",
      "Buzz\n",
      "41\n",
      "Fizz\n",
      "43\n",
      "44\n",
      "FizzBuzz\n",
      "46\n",
      "47\n",
      "Fizz\n",
      "49\n",
      "Buzz\n",
      "Fizz\n",
      "52\n",
      "53\n",
      "Fizz\n",
      "Buzz\n",
      "56\n",
      "Fizz\n",
      "58\n",
      "59\n",
      "FizzBuzz\n",
      "61\n",
      "62\n",
      "Fizz\n",
      "64\n",
      "Buzz\n",
      "Fizz\n",
      "67\n",
      "68\n",
      "Fizz\n",
      "Buzz\n",
      "71\n",
      "Fizz\n",
      "73\n",
      "74\n",
      "FizzBuzz\n",
      "76\n",
      "77\n",
      "Fizz\n",
      "79\n",
      "Buzz\n",
      "Fizz\n",
      "82\n",
      "83\n",
      "Fizz\n",
      "Buzz\n",
      "86\n",
      "Fizz\n",
      "88\n",
      "89\n",
      "FizzBuzz\n",
      "91\n",
      "92\n",
      "Fizz\n",
      "94\n",
      "Buzz\n",
      "Fizz\n",
      "97\n",
      "98\n",
      "Fizz\n",
      "Buzz\n"
     ]
    }
   ],
   "source": [
    "# Simple Fizz Buzz\n",
    "for i in range(1, 101):\n",
    "    if i % 3 == 0 and i % 5 == 0:\n",
    "        print(\"FizzBuzz\")\n",
    "    elif i % 3 == 0:\n",
    "        print(\"Fizz\")\n",
    "    elif i % 5 == 0:\n",
    "        print(\"Buzz\")\n",
    "    else:\n",
    "        print(i)"
   ]
  },
  {
   "cell_type": "markdown",
   "metadata": {
    "cell_id": "aef0dff47ee0444eaed52cfc26af33dc",
    "deepnote_cell_type": "markdown"
   },
   "source": [
    "Did you notice \"the thing\" about FizzBuzz? We have to evaluate the condition where the number is divisible by both 3 and 5 first. If we evaluate for \"i % 3\" then the program returns the appropriate string and goes on to the next number. So 15 should return \"FizzBuzz\" but if we start our program with \"if i % 3...\" then the program returns \"Fizz\" and goes on to the next number. "
   ]
  },
  {
   "cell_type": "markdown",
   "metadata": {
    "cell_id": "fbdf1596794f47a19821807dff6cdce8",
    "deepnote_cell_type": "markdown"
   },
   "source": [
    "<div style=\"border-left: 3px solid #000; padding: 1px; padding-left: 10px; background: #F0FAFF; \">\n",
    "<h2>Iterating over lists, tuples, and dicts</h2>\n",
    "\n",
    "<p>A very common operation in programming is to loop over a list, performing the same action once for each item in the list. How does this work in Python? \n",
    "\n",
    "<p>For example, if you want to print each item in a list, one at a time, then you might try the following:\n",
    "</div>"
   ]
  },
  {
   "cell_type": "code",
   "execution_count": 61,
   "metadata": {
    "cell_id": "1d40789180d24ea1b538e020a92e983d",
    "deepnote_cell_type": "code",
    "deepnote_to_be_reexecuted": true,
    "source_hash": null
   },
   "outputs": [
    {
     "name": "stdout",
     "output_type": "stream",
     "text": [
      "hello,\n",
      "world.\n",
      "How\n",
      "are\n",
      "you?\n"
     ]
    }
   ],
   "source": [
    "words_from_hello = 'hello, world.  How are you?'.split()\n",
    "\n",
    "number_of_words = len(words_from_hello)\n",
    "\n",
    "for i in range(number_of_words):\n",
    "    print(words_from_hello[i])"
   ]
  },
  {
   "cell_type": "markdown",
   "metadata": {
    "cell_id": "f00a4d547f5343bb97dbba8238f28a18",
    "deepnote_cell_type": "markdown"
   },
   "source": [
    "<div style=\"border-left: 3px solid #000; padding: 1px; padding-left: 10px; background: #F0FAFF; \">\n",
    "<p>Is there a better way?\n",
    "\n",
    "<p>When we originally used <code>for i in range(6)</code>, we said that <code>range(6)</code> just generates a sequence of integers, and that the for-loop simply executes its code block once for each item in the sequence. \n",
    "\n",
    "<p>In this case, we already <b>have</b> the list of items we want to iterate over in <code>words_from_hello</code>, so there is no need to introduce a second sequence of integers:\n",
    "</div>"
   ]
  },
  {
   "cell_type": "code",
   "execution_count": 62,
   "metadata": {
    "cell_id": "3b65e58c3a324fd2bfdc54aa4571ee82",
    "deepnote_cell_type": "code",
    "deepnote_to_be_reexecuted": true,
    "source_hash": null
   },
   "outputs": [
    {
     "name": "stdout",
     "output_type": "stream",
     "text": [
      "hello,\n",
      "world.\n",
      "How\n",
      "are\n",
      "you?\n"
     ]
    }
   ],
   "source": [
    "for word in words_from_hello:\n",
    "    print(word)"
   ]
  },
  {
   "cell_type": "markdown",
   "metadata": {
    "cell_id": "6e20dd18c2dd4e46a7d5a8fda5d80a8c",
    "deepnote_cell_type": "markdown"
   },
   "source": [
    "<div style=\"border-left: 3px solid #000; padding: 1px; padding-left: 10px; background: #F0FAFF; \">\n",
    "<p>In each iteration of the loop, the next succesive element in the list <code>words_from_hello</code> is assigned to the value <code>word</code>.  The variable <code>word</code> can then be used inside the loop. It is \"Pythonic\" to use the singular of a word for the iterator and the plural for the list/tuple/dict. E.g. \"word in words_from_hello\".\n",
    "\n",
    "<p>We can also iterate over <code>tuple</code>s and <code>dict</code>s. Iterating over a <code>tuple</code> works exactly as with <code>list</code>s:\n",
    "</div>"
   ]
  },
  {
   "cell_type": "code",
   "execution_count": 63,
   "metadata": {
    "cell_id": "4c832c22cbb749d5a441e7815ee7957a",
    "deepnote_cell_type": "code",
    "deepnote_to_be_reexecuted": true,
    "source_hash": null
   },
   "outputs": [
    {
     "name": "stdout",
     "output_type": "stream",
     "text": [
      "1\n",
      "2\n",
      "3\n",
      "4\n"
     ]
    }
   ],
   "source": [
    "for i in (1,2,3,4):\n",
    "    print(i)"
   ]
  },
  {
   "cell_type": "markdown",
   "metadata": {
    "cell_id": "9069ddd9870042dd82fe8204ee3c913c",
    "deepnote_cell_type": "markdown"
   },
   "source": [
    "<div style=\"border-left: 3px solid #000; padding: 1px; padding-left: 10px; background: #F0FAFF; \">\n",
    "    <p>If we use a <code>dict</code> in a for-loop, then the behavior is to iterate over the <b>keys</b> of the <code>dict</code>:\n",
    "</div>"
   ]
  },
  {
   "cell_type": "code",
   "execution_count": 64,
   "metadata": {
    "cell_id": "d19903337b114d65943ec2f81e28b783",
    "deepnote_cell_type": "code",
    "deepnote_to_be_reexecuted": false,
    "execution_millis": 27,
    "execution_start": 1725946339480,
    "source_hash": null
   },
   "outputs": [
    {
     "name": "stdout",
     "output_type": "stream",
     "text": [
      "red\n",
      "orange\n",
      "yellow\n"
     ]
    }
   ],
   "source": [
    "fruit_dict = {'apple':'red',  'orange':'orange',  'banana':'yellow'}\n",
    "\n",
    "# inside the for-loop, fruit will be assigned to the *keys* from fruit_dict,\n",
    "# not the *values*.\n",
    "for fruit in fruit_dict:\n",
    "    # for each key, retrieve and print the corresponding value\n",
    "    print(fruit_dict[fruit])\n"
   ]
  },
  {
   "cell_type": "markdown",
   "metadata": {
    "cell_id": "28e92c40e3ef4ec8ad2c82d44b6064a5",
    "deepnote_cell_type": "markdown"
   },
   "source": [
    "<div style=\"border-left: 3px solid #000; padding: 1px; padding-left: 10px; background: #F0FAFF; \">\n",
    "<p>Are the values printed in the order you expected? Be careful! <code>dict</code>s and <code>set</code>s are not ordered, so you cannot rely on the order of the sequence that is returned.\n",
    "\n",
    "<p>There are actually a few different ways to iterate over a <code>dict</code>:\n",
    "</div>"
   ]
  },
  {
   "cell_type": "code",
   "execution_count": 65,
   "metadata": {
    "cell_id": "72fe2eb5a5c244908c9b4c185b440fb9",
    "deepnote_cell_type": "code",
    "deepnote_to_be_reexecuted": true,
    "source_hash": null
   },
   "outputs": [
    {
     "name": "stdout",
     "output_type": "stream",
     "text": [
      "Iterate over keys:\n",
      "apple\n",
      "orange\n",
      "banana\n",
      "\n",
      "Iterate over values:\n",
      "red\n",
      "orange\n",
      "yellow\n",
      "\n",
      "Iterate over keys AND values simultaneously:\n",
      "apple red\n",
      "orange orange\n",
      "banana yellow\n"
     ]
    }
   ],
   "source": [
    "print(\"Iterate over keys:\")\n",
    "# (this is the same behavior as shown above)\n",
    "for key in fruit_dict.keys():\n",
    "    print(key)\n",
    "\n",
    "print(\"\")\n",
    "    \n",
    "print(\"Iterate over values:\")\n",
    "for value in fruit_dict.values():\n",
    "    print(value)\n",
    "    \n",
    "print(\"\")\n",
    "    \n",
    "print(\"Iterate over keys AND values simultaneously:\")\n",
    "for key,value in fruit_dict.items():\n",
    "    print(key, value)"
   ]
  },
  {
   "cell_type": "markdown",
   "metadata": {
    "cell_id": "ec36d32df3384b14a446f2cfed96ea99",
    "deepnote_cell_type": "markdown"
   },
   "source": [
    "<div style=\"border-left: 3px solid #000; padding: 1px; padding-left: 10px; background: #F0FAFF; \">\n",
    "    <p>The last example is a nice combination of <b>multiple assignment</b> and iterators.  The <code>items()</code> method generates a tuple for each loop iteration that contains the <code>(key, value)</code> pair, which is then split and assigned to the <code>key</code> and <code>value</code> variables in the for-loop.\n",
    "\n",
    "<p>It is quite common that we will want to iterate over a list of items <b>and</b> at the same time have access to the index (position) of each item within the list. This can be done simply using the tools shown above, but Python also provides a convenient function called <code>enumerate()</code> that makes this easier:\n",
    "</div>"
   ]
  },
  {
   "cell_type": "code",
   "execution_count": 66,
   "metadata": {
    "cell_id": "15f2f95b5d604359828a9c83737d4adc",
    "deepnote_cell_type": "code",
    "deepnote_to_be_reexecuted": true,
    "source_hash": null
   },
   "outputs": [
    {
     "name": "stdout",
     "output_type": "stream",
     "text": [
      "0 hello,\n",
      "1 world.\n",
      "2 How\n",
      "3 are\n",
      "4 you?\n"
     ]
    }
   ],
   "source": [
    "for i,word in enumerate(words_from_hello):\n",
    "    print(i, word)"
   ]
  },
  {
   "cell_type": "markdown",
   "metadata": {
    "cell_id": "9e60be849eb04d849052985a1a342c2f",
    "deepnote_cell_type": "markdown"
   },
   "source": [
    "We generally caution against single letter varaibles, though \"i\" is a common exception to that guideline. Additionally you may see \"ix\" or \"idx\" as shorthand for \"index\". "
   ]
  },
  {
   "cell_type": "markdown",
   "metadata": {
    "cell_id": "2a04193822d840f892e8ad4294d73701",
    "deepnote_cell_type": "markdown"
   },
   "source": [
    "<div style=\"background: #DFF0D8; border-radius: 3px; padding: 10px;\">\n",
    "<p><b>Exercise 2.8:</b>\n",
    "    \n",
    "Create a dictionary with the following keys and values by iterating with a <code>for</code> loop. Start with an empty <code>dict</code> and add one key/value pair at a time.\n",
    "</div>"
   ]
  },
  {
   "cell_type": "code",
   "execution_count": 67,
   "metadata": {
    "cell_id": "5392c453581844fa96f882851bbca3ff",
    "deepnote_cell_type": "code",
    "deepnote_to_be_reexecuted": false,
    "execution_millis": 109,
    "execution_start": 1725946909016,
    "source_hash": null
   },
   "outputs": [
    {
     "name": "stdout",
     "output_type": "stream",
     "text": [
      "{'smuggler': 'Han', 'princess': 'Leia', 'farmboy': 'Luke'}\n"
     ]
    }
   ],
   "source": [
    "key_list   = ['smuggler', 'princess','farmboy']\n",
    "value_list = ['Han', 'Leia', 'Luke']\n",
    "\n",
    "# simple way\n",
    "empty = {}\n",
    "for i in range(3):\n",
    "    empty[key_list[i]] = value_list[i]\n",
    "\n",
    "# using built-in zip function \n",
    "empty = {}\n",
    "for key, value in zip(key_list, value_list):\n",
    "    empty[key] = value\n",
    "    \n",
    "print(empty)"
   ]
  },
  {
   "cell_type": "markdown",
   "metadata": {
    "cell_id": "061a26e048c7437887596a2ea622667a",
    "deepnote_cell_type": "text-cell-h2",
    "formattedRanges": []
   },
   "source": [
    "## List Comprehensions"
   ]
  },
  {
   "cell_type": "markdown",
   "metadata": {
    "cell_id": "1419538f8302433b93c24267c02a43f9",
    "deepnote_cell_type": "markdown"
   },
   "source": [
    "Earlier, we said that a very common operation in programming is to loop over a list, performing the same action once for each item in the list. Python has a cool feature to simplify this process. For example, let's take a list of numbers and compute a new list containing the squares of those numbers:\n"
   ]
  },
  {
   "cell_type": "code",
   "execution_count": 68,
   "metadata": {
    "cell_id": "2317fd22895f4980aae65cde3df32bd3",
    "deepnote_cell_type": "code",
    "deepnote_to_be_reexecuted": false,
    "execution_millis": 77,
    "execution_start": 1726193437518,
    "scrolled": true,
    "source_hash": null
   },
   "outputs": [
    {
     "name": "stdout",
     "output_type": "stream",
     "text": [
      "[4, 36, 9, 64, 16, 49]\n"
     ]
    }
   ],
   "source": [
    "# First, the long way:\n",
    "numbers = [2, 6, 3, 8, 4, 7]\n",
    "squares = []\n",
    "for n in numbers:\n",
    "    squares.append(n**2)\n",
    "    \n",
    "print(squares)"
   ]
  },
  {
   "cell_type": "markdown",
   "metadata": {
    "cell_id": "70ebde05dfb84189b10ed5f4607c6673",
    "deepnote_cell_type": "markdown"
   },
   "source": [
    "<div style=\"border-left: 3px solid #000; padding: 1px; padding-left: 10px; background: #F0FAFF; \">\n",
    "    A <b>list comprehension</b> performs the same operation as above, but condensed into a single line.\n",
    "</div>"
   ]
  },
  {
   "cell_type": "code",
   "execution_count": 69,
   "metadata": {
    "cell_id": "a215fde20b144dae9e01dbc28bcce57b",
    "deepnote_cell_type": "code",
    "deepnote_to_be_reexecuted": false,
    "execution_millis": 43,
    "execution_start": 1726193439773,
    "scrolled": true,
    "source_hash": null
   },
   "outputs": [
    {
     "name": "stdout",
     "output_type": "stream",
     "text": [
      "[4, 36, 9, 64, 16, 49]\n"
     ]
    }
   ],
   "source": [
    "# A one-line version of the same operation:\n",
    "squares = [n**2 for n in numbers]\n",
    "\n",
    "print(squares)"
   ]
  },
  {
   "cell_type": "markdown",
   "metadata": {
    "cell_id": "95352b81b11e4b39b2fb759975f14b7e",
    "deepnote_cell_type": "markdown"
   },
   "source": [
    "<div style=\"border-left: 3px solid #000; padding: 1px; padding-left: 10px; background: #F0FAFF; \">\n",
    "<p>List comprehensions can also be used to filter lists using <code>if</code> statements.  For example, the following prints out the first 100 even valued perfect squares.\n",
    "</div>"
   ]
  },
  {
   "cell_type": "code",
   "execution_count": 70,
   "metadata": {
    "cell_id": "af3eca15b6f54d96aea5cce449e32cef",
    "deepnote_cell_type": "code",
    "deepnote_to_be_reexecuted": false,
    "execution_millis": 32,
    "execution_start": 1726193824000,
    "source_hash": null
   },
   "outputs": [
    {
     "name": "stdout",
     "output_type": "stream",
     "text": [
      "[4, 16, 36, 64]\n",
      "[4, 16, 36, 64]\n"
     ]
    }
   ],
   "source": [
    "# The long way:\n",
    "even_squares = []\n",
    "for x in range(1,10):\n",
    "    if x%2 == 0:\n",
    "        even_squares.append(x * x)\n",
    "        \n",
    "print(even_squares) \n",
    "\n",
    "# The short way:\n",
    "even_squares = [x*x for x in range(1,10) if x%2 == 0]\n",
    "\n",
    "print(even_squares)"
   ]
  },
  {
   "cell_type": "markdown",
   "metadata": {
    "cell_id": "68ce08445e5a432f8c185ad40bfbb0c4",
    "deepnote_cell_type": "markdown"
   },
   "source": [
    "<div style=\"border-left: 3px solid #000; padding: 1px; padding-left: 10px; background: #F0FAFF; \">\n",
    "<p>List comprehensions are frequently-used by Python programmers, so although it is not necessary to use list comprehensions in your own code, you should still understand how to read them.\n",
    "</div>"
   ]
  },
  {
   "cell_type": "markdown",
   "metadata": {
    "cell_id": "aecddb428585470490f784bb5985be15",
    "deepnote_cell_type": "markdown"
   },
   "source": [
    "Combining two lists is performed with the **zip** method. If the two lists are not the same length the longer lists is cut off. Additionally we need to cast the result as a list if we want the result to be human readable; otherwise we get the location in memory."
   ]
  },
  {
   "cell_type": "code",
   "execution_count": 71,
   "metadata": {
    "cell_id": "ae015468a6584476aabf1d17259dd725",
    "deepnote_cell_type": "code",
    "deepnote_to_be_reexecuted": false,
    "execution_millis": 47,
    "execution_start": 1726193897812,
    "source_hash": null
   },
   "outputs": [
    {
     "name": "stdout",
     "output_type": "stream",
     "text": [
      "<zip object at 0x7fe793709f40>\n",
      "[(4, 4), (36, 16), (9, 36), (64, 64)]\n"
     ]
    }
   ],
   "source": [
    "result = zip(squares, even_squares)\n",
    "print(result)\n",
    "print(list(result))"
   ]
  },
  {
   "cell_type": "markdown",
   "metadata": {
    "cell_id": "a623d37e2184441a9958205efb99b190",
    "deepnote_cell_type": "text-cell-h2",
    "formattedRanges": []
   },
   "source": [
    "## Dictionary Comprehensions"
   ]
  },
  {
   "cell_type": "markdown",
   "metadata": {
    "cell_id": "b62a06efd33d4681b7e29af67d190897",
    "deepnote_cell_type": "markdown"
   },
   "source": [
    "We can also do the same kind of logic to create dictionaries using dictionary comprehensions."
   ]
  },
  {
   "cell_type": "code",
   "execution_count": 72,
   "metadata": {
    "cell_id": "697df0b487934d5d8f8b2b0aab64ad4f",
    "deepnote_cell_type": "code",
    "deepnote_to_be_reexecuted": false,
    "execution_millis": 102,
    "execution_start": 1726194708328,
    "source_hash": null
   },
   "outputs": [
    {
     "name": "stdout",
     "output_type": "stream",
     "text": [
      "{'smuggler': 'Han', 'general': 'Leia', 'farmboy': 'Luke'}\n"
     ]
    }
   ],
   "source": [
    "key_list   = ['smuggler', 'general','farmboy']\n",
    "value_list = ['Han', 'Leia', 'Luke']\n",
    "\n",
    "# using dictionary comprehension\n",
    "fandom = { key:value for key,value in zip(key_list, value_list) } \n",
    "print(fandom)"
   ]
  },
  {
   "cell_type": "markdown",
   "metadata": {
    "cell_id": "4bb3d3e9fc8243cda66759a957cdddc8",
    "deepnote_cell_type": "markdown"
   },
   "source": [
    "Dictionary comprehensions can also be used to filter dictionaries using <code>if</code> statements.  For example, the following creates a dictionary where the cube is divisible by 4."
   ]
  },
  {
   "cell_type": "code",
   "execution_count": 73,
   "metadata": {
    "cell_id": "7fc7ef28525f4cc2991583c278e8fb07",
    "deepnote_cell_type": "code",
    "deepnote_to_be_reexecuted": false,
    "execution_millis": 23,
    "execution_start": 1725947021344,
    "source_hash": null
   },
   "outputs": [
    {
     "name": "stdout",
     "output_type": "stream",
     "text": [
      "{0: 0, 2: 8, 4: 64, 6: 216, 8: 512}\n"
     ]
    }
   ],
   "source": [
    "newdict = {x: x**3 for x in range(10) if x**3 % 4 == 0}\n",
    "print(newdict)"
   ]
  },
  {
   "cell_type": "markdown",
   "metadata": {
    "cell_id": "1074f599bd4a4c12addeeb422bc0d404",
    "deepnote_cell_type": "markdown"
   },
   "source": [
    "<div style=\"background: #DFF0D8; border-radius: 3px; padding: 10px;\">\n",
    "    \n",
    "<p><b>Exercise 2.9:</b> \n",
    "    \n",
    "Write code to 'flatten' a nested list.  Can you do this with a list comprehension?  (Caution:  The answer for a list comprehension is very simple but can be quite tricky to work out.)\n",
    "\n",
    "\n",
    "\n",
    "<code>[['a','b'],['c','d']] -> ['a','b','c','d']</code>\n",
    "</div>\n"
   ]
  },
  {
   "cell_type": "code",
   "execution_count": 74,
   "metadata": {
    "cell_id": "316d4ce16078432baded2e826ffdc2df",
    "deepnote_cell_type": "code",
    "deepnote_to_be_reexecuted": true,
    "source_hash": null
   },
   "outputs": [
    {
     "name": "stdout",
     "output_type": "stream",
     "text": [
      "['a', 'b', 'c', 'd']\n",
      "['a', 'b', 'c', 'd']\n"
     ]
    }
   ],
   "source": [
    "X = [['a','b'],['c','d']]\n",
    "\n",
    "flat_list = []\n",
    "for sub_list in X:\n",
    "    for item in sub_list:\n",
    "        flat_list.append(item)\n",
    "print(flat_list)\n",
    "\n",
    "# list comprehension version\n",
    "print([item for sublist in X for item in sublist])"
   ]
  },
  {
   "cell_type": "markdown",
   "metadata": {
    "cell_id": "b4bb6128c39d4bfe9f32f1a095a22e89",
    "deepnote_cell_type": "markdown"
   },
   "source": [
    "\n",
    "<div style=\"background: #DFF0D8; border-radius: 3px; padding: 10px;\">\n",
    "<p><b>Exercise 2.10:</b> \n",
    "    \n",
    "Write a dictionary comprehension that creates a dictionary with the squares of numbers from 1 to 10.\n",
    "</div>\n"
   ]
  },
  {
   "cell_type": "code",
   "execution_count": 75,
   "metadata": {
    "cell_id": "0ef2a6d603074ec5898d6e95fbca10df",
    "deepnote_cell_type": "code",
    "deepnote_to_be_reexecuted": false,
    "execution_millis": 39,
    "execution_start": 1725947443441,
    "source_hash": null
   },
   "outputs": [
    {
     "name": "stdout",
     "output_type": "stream",
     "text": [
      "{1: 1, 2: 4, 3: 9, 4: 16, 5: 25, 6: 36, 7: 49, 8: 64, 9: 81, 10: 100}\n"
     ]
    }
   ],
   "source": [
    "squares = {x: x**2 for x in range(1,11)}\n",
    "print(squares)"
   ]
  }
 ],
 "metadata": {
  "deepnote_execution_queue": [],
  "deepnote_notebook_id": "544afb8338fd41a492a6f918c6a26d70",
  "kernelspec": {
   "display_name": "Python 3 (ipykernel)",
   "language": "python",
   "name": "python3"
  },
  "language_info": {
   "codemirror_mode": {
    "name": "ipython",
    "version": 3
   },
   "file_extension": ".py",
   "mimetype": "text/x-python",
   "name": "python",
   "nbconvert_exporter": "python",
   "pygments_lexer": "ipython3",
   "version": "3.8.0"
  }
 },
 "nbformat": 4,
 "nbformat_minor": 4
}
