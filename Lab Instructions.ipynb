{
 "cells": [
  {
   "cell_type": "markdown",
   "id": "0e6c79bb-ad92-40c5-bdaf-f5b6cee47334",
   "metadata": {},
   "source": [
    "# Lab Instructions"
   ]
  },
  {
   "cell_type": "markdown",
   "id": "ea506d12-028a-4f29-a675-e99624a1fa91",
   "metadata": {},
   "source": [
    "Welcome to the Labs for this introductory Python course!"
   ]
  },
  {
   "cell_type": "markdown",
   "id": "ee4ee137-bf61-447e-9b2d-cb111a053e14",
   "metadata": {},
   "source": [
    "## Lab 1\n",
    "\n",
    "This lab should be completed after modules 1 through 3 as it will use information taught in those modules.\n",
    "\n",
    "This lab is about analyzing text data and creating re-usable code.  It is similar to techniques that would be used\n",
    "for natural language processing or writing machine learning large language models.\n",
    "\n",
    "The Lab 1.ipynb is the instructions with code placeholders for where you should add your code.\n",
    "The Lab 1 Walkthrough.ipynb contains the answers.\n",
    "\n",
    "\n",
    "Module 1\n",
    "- Variables\n",
    "- Built-in Methods\n",
    "- Data structures (List, Dictionary)\n",
    "- Arithmetical Operations\n",
    "- String Operations\n",
    "\n",
    "Module 2\n",
    "- Flow Control\n",
    "- Conditional Evaluation\n",
    "- Iteration\n",
    "\n",
    "Module 3\n",
    "- Functions\n",
    "- Modules\n",
    "\n",
    "## Lab 2\n",
    "\n",
    "This lab should be completed after modules 4 through 7 as it will use information taught in those modules.\n",
    "\n",
    "This lab is about analyzing numerical data and creating basic graphs. It is similar to doing biological data\n",
    "analysis of various kinds of medical data or biological data.\n",
    "\n",
    "The Lab 2.ipynb is the instructions with code placeholders for where you should add your code.\n",
    "The Lab 2 Walkthrough.ipynb contains the answers.\n",
    "\n",
    "Module 4\n",
    "- Object Oriented Programming\n",
    "- Classes\n",
    "- Class Methods\n",
    "- Static Methods\n",
    "- Testing\n",
    "\n",
    "Module 5\n",
    "- File Handling\n",
    "- Advanced String Operations\n",
    "- Regular Expressions\n",
    "\n",
    "Module 6\n",
    "- NumPy\n",
    "- Advanced Lists (Arrays)\n",
    "\n",
    "Module 7 \n",
    "- Pandas\n",
    "\n",
    "## Lab 3\n",
    "\n",
    "This lab should be completed after modules 8 through 10 as it will use information taught in those modules.\n",
    "\n",
    "This lab is about doing a specific analysis of genomic data for protein binding sites.  This is meant to \n",
    "gather all of the techniques you have learned in this class to perform an analysis that might be similar\n",
    "to one that you would need to do in the course of your work.\n",
    "\n",
    "The Lab 3.ipynb is the instructions with code placeholders for where you should add your code.\n",
    "The Lab 3 Walkthrough.ipynb contains the answers.\n",
    "\n",
    "Module 8\n",
    "- Pandas Data Manipulation\n",
    "- Lambda functions\n",
    "- Pivot Tables\n",
    "\n",
    "Module 9\n",
    "- Matplotlib graphing\n",
    "\n",
    "Module 10\n",
    "- Seaborn graphing and visualizations\n",
    "\n",
    "\n",
    "# Congratulations!\n",
    "\n",
    "Once you have finished all 10 modules and 3 Labs you should have "
   ]
  },
  {
   "cell_type": "code",
   "execution_count": null,
   "id": "ca2f037e-38d4-4b51-9193-3aa8d4b13182",
   "metadata": {},
   "outputs": [],
   "source": []
  }
 ],
 "metadata": {
  "kernelspec": {
   "display_name": "Python 3 (ipykernel)",
   "language": "python",
   "name": "python3"
  },
  "language_info": {
   "codemirror_mode": {
    "name": "ipython",
    "version": 3
   },
   "file_extension": ".py",
   "mimetype": "text/x-python",
   "name": "python",
   "nbconvert_exporter": "python",
   "pygments_lexer": "ipython3",
   "version": "3.8.0"
  }
 },
 "nbformat": 4,
 "nbformat_minor": 5
}
