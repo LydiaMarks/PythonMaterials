{
 "cells": [
  {
   "cell_type": "markdown",
   "metadata": {
    "deletable": true,
    "editable": true
   },
   "source": [
    "# File Handling"
   ]
  },
  {
   "cell_type": "markdown",
   "metadata": {
    "deletable": true,
    "editable": true
   },
   "source": [
    "## Reading in a file \n",
    "Text files are one of the most common file formats you'll probably have to deal with. \n",
    "- Cross platform\n",
    "- End in .txt\n",
    "\n",
    "We use the Python open method and provide a file path.  \n",
    "\n",
    "https://docs.python.org/3/tutorial/inputoutput.html#reading-and-writing-files\n",
    "\n",
    "From the Jupyterlab sidebar, look for **months.txt** by clicking on the **support_files** directory and then on the **datasets** directory.\n",
    "\n",
    "We provide these in the order we clicked on them to tell this notebook where to find the file."
   ]
  },
  {
   "cell_type": "code",
   "execution_count": 7,
   "metadata": {
    "collapsed": false,
    "deletable": true,
    "editable": true,
    "jupyter": {
     "outputs_hidden": false
    }
   },
   "outputs": [],
   "source": [
    "f = open(\"./support_files/datasets/months.txt\")"
   ]
  },
  {
   "cell_type": "code",
   "execution_count": 8,
   "metadata": {
    "collapsed": false,
    "deletable": true,
    "editable": true,
    "jupyter": {
     "outputs_hidden": false
    }
   },
   "outputs": [
    {
     "data": {
      "text/plain": [
       "<_io.TextIOWrapper name='./support_files/datasets/months.txt' mode='r' encoding='UTF-8'>"
      ]
     },
     "execution_count": 8,
     "metadata": {},
     "output_type": "execute_result"
    }
   ],
   "source": [
    "# creates a file object\n",
    "f"
   ]
  },
  {
   "cell_type": "code",
   "execution_count": 9,
   "metadata": {
    "collapsed": false,
    "jupyter": {
     "outputs_hidden": false
    }
   },
   "outputs": [
    {
     "name": "stdout",
     "output_type": "stream",
     "text": [
      "January\n",
      "February\n",
      "March\n",
      "April\n",
      "May\n",
      "June\n",
      "July\n",
      "August\n",
      "September\n",
      "October\n",
      "November\n",
      "December\n"
     ]
    }
   ],
   "source": [
    "# now you can read in the file, contents returned as a string\n",
    "print(f.read())"
   ]
  },
  {
   "cell_type": "markdown",
   "metadata": {},
   "source": [
    "Since we have read the entire contents of the file, the cursor that reads the file is now at the end.  \n",
    "\n",
    "If we want to read the file again we need to reset the position of the cursor to the start of the file using the [seek()](https://python-reference.readthedocs.io/en/latest/docs/file/seek.html) method.\n",
    "\n"
   ]
  },
  {
   "cell_type": "code",
   "execution_count": 14,
   "metadata": {},
   "outputs": [
    {
     "data": {
      "text/plain": [
       "0"
      ]
     },
     "execution_count": 14,
     "metadata": {},
     "output_type": "execute_result"
    }
   ],
   "source": [
    "# go to the start of the file\n",
    "f.seek(0)"
   ]
  },
  {
   "cell_type": "markdown",
   "metadata": {},
   "source": [
    "## Reading in a file line by line"
   ]
  },
  {
   "cell_type": "markdown",
   "metadata": {},
   "source": [
    "- End of line characters or control characters: invisibly mark the end of a line in a text file  \n",
    "- You can create with the \"\\n\"  \n",
    "- Derived from back in the typewriter days when you had to enter in a line return"
   ]
  },
  {
   "cell_type": "code",
   "execution_count": 15,
   "metadata": {
    "collapsed": false,
    "jupyter": {
     "outputs_hidden": false
    }
   },
   "outputs": [
    {
     "name": "stdout",
     "output_type": "stream",
     "text": [
      "Here's the first line \n",
      " and here's the second\n"
     ]
    }
   ],
   "source": [
    "print(\"Here's the first line \\n and here's the second\")"
   ]
  },
  {
   "cell_type": "code",
   "execution_count": 16,
   "metadata": {
    "collapsed": false,
    "jupyter": {
     "outputs_hidden": false
    }
   },
   "outputs": [
    {
     "data": {
      "text/plain": [
       "'January\\n'"
      ]
     },
     "execution_count": 16,
     "metadata": {},
     "output_type": "execute_result"
    }
   ],
   "source": [
    "f.readline()"
   ]
  },
  {
   "cell_type": "markdown",
   "metadata": {},
   "source": [
    "## Stripping extra characters\n",
    "- readline returns the new line \n",
    "- print returns the new line\n",
    "- you can end up with a lot of extra lines"
   ]
  },
  {
   "cell_type": "code",
   "execution_count": 18,
   "metadata": {
    "collapsed": false,
    "jupyter": {
     "outputs_hidden": false
    }
   },
   "outputs": [
    {
     "name": "stdout",
     "output_type": "stream",
     "text": [
      "January\n",
      "\n",
      "February\n",
      "\n",
      "March\n",
      "\n",
      "April\n",
      "\n",
      "May\n",
      "\n",
      "June\n",
      "\n",
      "July\n",
      "\n",
      "August\n",
      "\n",
      "September\n",
      "\n",
      "October\n",
      "\n",
      "November\n",
      "\n",
      "December\n"
     ]
    }
   ],
   "source": [
    "f = open(\"support_files/datasets/months.txt\")\n",
    "next = f.readline()\n",
    "while next != \"\":\n",
    "    print(next)\n",
    "    next = f.readline()"
   ]
  },
  {
   "cell_type": "code",
   "execution_count": 20,
   "metadata": {
    "collapsed": false,
    "jupyter": {
     "outputs_hidden": false
    }
   },
   "outputs": [
    {
     "name": "stdout",
     "output_type": "stream",
     "text": [
      "January\n",
      "February\n",
      "March\n",
      "April\n",
      "May\n",
      "June\n",
      "July\n",
      "August\n",
      "September\n",
      "October\n",
      "November\n",
      "December\n"
     ]
    }
   ],
   "source": [
    "f = open(\"support_files/datasets/months.txt\")\n",
    "next = f.readline()\n",
    "while next != \"\":\n",
    "    # use strip to remove the extra newline\n",
    "    print(next.strip())\n",
    "    next = f.readline()"
   ]
  },
  {
   "cell_type": "markdown",
   "metadata": {},
   "source": [
    "## Reading in Every Line\n",
    "- Read in all the lines and return them as a list"
   ]
  },
  {
   "cell_type": "code",
   "execution_count": 22,
   "metadata": {
    "collapsed": false,
    "jupyter": {
     "outputs_hidden": false
    }
   },
   "outputs": [
    {
     "data": {
      "text/plain": [
       "['January\\n',\n",
       " 'February\\n',\n",
       " 'March\\n',\n",
       " 'April\\n',\n",
       " 'May\\n',\n",
       " 'June\\n',\n",
       " 'July\\n',\n",
       " 'August\\n',\n",
       " 'September\\n',\n",
       " 'October\\n',\n",
       " 'November\\n',\n",
       " 'December']"
      ]
     },
     "execution_count": 22,
     "metadata": {},
     "output_type": "execute_result"
    }
   ],
   "source": [
    "f = open(\"support_files/datasets/months.txt\")\n",
    "f.readlines()"
   ]
  },
  {
   "cell_type": "code",
   "execution_count": 23,
   "metadata": {
    "collapsed": false,
    "jupyter": {
     "outputs_hidden": false
    }
   },
   "outputs": [
    {
     "name": "stdout",
     "output_type": "stream",
     "text": [
      "Month = January\n",
      "Month = February\n",
      "Month = March\n",
      "Month = April\n",
      "Month = May\n",
      "Month = June\n",
      "Month = July\n",
      "Month = August\n",
      "Month = September\n",
      "Month = October\n",
      "Month = November\n",
      "Month = December\n"
     ]
    }
   ],
   "source": [
    "f = open(\"support_files/datasets/months.txt\")\n",
    "for month in f.readlines():\n",
    "   print(\"Month = \" + month.strip())"
   ]
  },
  {
   "cell_type": "markdown",
   "metadata": {
    "deletable": true,
    "editable": true
   },
   "source": [
    "## Writing to a file"
   ]
  },
  {
   "cell_type": "raw",
   "metadata": {},
   "source": [
    "open(\"file_path/file.txt\", file_mode)"
   ]
  },
  {
   "cell_type": "markdown",
   "metadata": {},
   "source": [
    "- r = read file\n",
    "- w = write to file, erasing any existing data\n",
    "- a = write new data to end of file\n",
    "- b = binary mode\n",
    "- r\\+ = read and write to file\n",
    "- w\\+ = write to file, create if it doesn't exist\n",
    "- a\\+ = read, append to file, create if it doesn't exist\n",
    "\n",
    "more file modes: https://docs.python.org/3/library/functions.html#open"
   ]
  },
  {
   "cell_type": "code",
   "execution_count": 24,
   "metadata": {
    "collapsed": false,
    "jupyter": {
     "outputs_hidden": false
    }
   },
   "outputs": [],
   "source": [
    "f = open(\"months.txt\", \"a+\")"
   ]
  },
  {
   "cell_type": "code",
   "execution_count": 26,
   "metadata": {},
   "outputs": [],
   "source": [
    "# this would overwrite our month data if we provided the full file path to the support files\n",
    "f = open(\"months.txt\", \"w\")\n",
    "f.write(\"Erasing all the things and adding this!\")\n",
    "f.close()"
   ]
  },
  {
   "cell_type": "markdown",
   "metadata": {},
   "source": [
    "### Closing the file\n",
    "- write does not close the file\n",
    "- changes will not show up until you clsoe the file\n",
    "- good practice, don't leave a process hanging"
   ]
  },
  {
   "cell_type": "markdown",
   "metadata": {
    "collapsed": true,
    "deletable": true,
    "editable": true,
    "jupyter": {
     "outputs_hidden": true
    }
   },
   "source": [
    "## Opening a file with with()\n",
    "- more flexible\n",
    "- automatically closes the file handle when function is finished"
   ]
  },
  {
   "cell_type": "raw",
   "metadata": {
    "collapsed": true,
    "deletable": true,
    "editable": true,
    "jupyter": {
     "outputs_hidden": true
    }
   },
   "source": [
    "with open(newfile, 'w') as f, open(oldfile, 'r', encoding='utf-8') as g:\n",
    "    for line in infile:\n",
    "        print(line)"
   ]
  },
  {
   "cell_type": "markdown",
   "metadata": {},
   "source": [
    "# Parsing Text: Advanced String Operations"
   ]
  },
  {
   "cell_type": "markdown",
   "metadata": {},
   "source": [
    "Most of the time when we're parsing text files, they will have more data than a single column.\n",
    "\n",
    "Let's look at how to parse a file that contains voting data about radishes.\n",
    "\n",
    "There are two columns of data separated by a space, a dash, and then another space. \n",
    "\n",
    "The first column is the name of the voter and the second column is the name of the radish variety."
   ]
  },
  {
   "cell_type": "code",
   "execution_count": 31,
   "metadata": {},
   "outputs": [],
   "source": [
    "in_file = open(\"./support_files/datasets/small_radish.txt\", \"r\")"
   ]
  },
  {
   "cell_type": "code",
   "execution_count": 32,
   "metadata": {},
   "outputs": [
    {
     "name": "stdout",
     "output_type": "stream",
     "text": [
      "Evie Pulsford - April Cross\n",
      "Matilda Condon - April Cross\n",
      "Samantha Mansell - Champion\n",
      "geronima trevisani - cherry belle\n",
      "Alexandra Shoebridge - Snow Belle\n"
     ]
    }
   ],
   "source": [
    "for line in in_file:\n",
    "    print(line.strip())"
   ]
  },
  {
   "cell_type": "markdown",
   "metadata": {},
   "source": [
    "Use the python method [split()](https://docs.python.org/3.3/library/stdtypes.html#str.split) to separate the string into two parts."
   ]
  },
  {
   "cell_type": "code",
   "execution_count": 34,
   "metadata": {},
   "outputs": [
    {
     "name": "stdout",
     "output_type": "stream",
     "text": [
      "['Evie Pulsford', 'April Cross']\n",
      "['Matilda Condon', 'April Cross']\n",
      "['Samantha Mansell', 'Champion']\n",
      "['geronima trevisani', 'cherry belle']\n",
      "['Alexandra Shoebridge', 'Snow Belle']\n"
     ]
    }
   ],
   "source": [
    "for line in open(\"./support_files/datasets/small_radish.txt\"):\n",
    "    # strip trailing new lines \n",
    "    line = line.strip()\n",
    "    parts = line.split(\" - \")\n",
    "    print(parts)"
   ]
  },
  {
   "cell_type": "markdown",
   "metadata": {},
   "source": [
    "### Print who voted for the April Cross radish"
   ]
  },
  {
   "cell_type": "code",
   "execution_count": 36,
   "metadata": {},
   "outputs": [
    {
     "name": "stdout",
     "output_type": "stream",
     "text": [
      "Evie Pulsford voted for April Cross!\n",
      "Matilda Condon voted for April Cross!\n"
     ]
    }
   ],
   "source": [
    "for line in open(\"./support_files/datasets/small_radish.txt\"):\n",
    "   line = line.strip()\n",
    "   parts = line.split(\" - \")\n",
    "   name, vote = parts\n",
    "   if vote == \"April Cross\":\n",
    "      print(name + \" voted for April Cross!\")"
   ]
  },
  {
   "cell_type": "markdown",
   "metadata": {},
   "source": [
    "## Regular Expressions\n",
    "\n",
    "Now that we know how to read files and extract simple data using split to separate on a particular character, we'll want to do additional analysis of text data.\n",
    "\n",
    "This can be done using regular expressions (aka regex or regexes) to match different parts of the string.\n",
    "\n",
    "Regex functionality in Python resides in a module named `re`.\n",
    "\n",
    "https://docs.python.org/3/howto/regex.html"
   ]
  },
  {
   "cell_type": "code",
   "execution_count": 37,
   "metadata": {},
   "outputs": [],
   "source": [
    "import re"
   ]
  },
  {
   "cell_type": "markdown",
   "metadata": {},
   "source": [
    "### Compiling the regular expression\n",
    "\n",
    "Regular expressions use a specific set of tokens to determine what to match.  \n",
    "\n",
    "Most characters only match themselves, so if you're looking for **r** then you would type the letter.  \n",
    "\n",
    "There are two categories of characters that can be used to match multiple characters and find patterns in strings.\n",
    "\n",
    "1. Metacharacters\n",
    "2. Special Sequences\n",
    "\n",
    "\n",
    "#### Metacharacters\n",
    "\n",
    "Metacharacters are used to tell Python to do special actions.  \n",
    "\n",
    "The primary metacharacters are:\n",
    "\n",
    "`[ ] . ^ $ * + ? { } | ( ) \\`\n",
    "\n",
    "The first metacharacters we'll look at are the square brackets `[` and `]`. \n",
    "\n",
    "They’re used for specifying a character class, which is a set of characters that you wish to match. Characters can be listed individually, or a range of characters can be indicated by giving two characters and separating them by a '-'.\n",
    "\n",
    "Ex: [abc] matches the characters a, b, or c\n",
    "\n",
    "Ex: [a-z] matches all lowercase characters of the alphabet\n",
    "\n",
    "The `.` metacharacter matches any one character\n",
    "\n",
    "The `^` metacharacter specifies that the next set of characters must be at the start of a string\n",
    "\n",
    "The `$` metacharacter specified the previous set of characters must be at the end of a string\n",
    "\n",
    "The `*` and `+` metacharacters are use to control how many characters match\n",
    "\n",
    "The `{` and `}` metacharacters are used to specify the number of matches\n",
    "\n",
    "The `|` metacharacter is used to separate characters that are optional matches. ex: A OR B is `A|B`\n",
    "\n",
    "The `(` and `)` metacharacters are used to create groups of matches\n",
    "\n",
    "\n",
    "#### Special Sequences\n",
    "\n",
    "Special sequences use the `\\` metacharacter to tell Python to perform additional actions.\n",
    "\n",
    "\\d\n",
    "Matches any decimal digit; this is equivalent to the class [0-9].\n",
    "\n",
    "\\D\n",
    "Matches any non-digit character; this is equivalent to the class [^0-9].\n",
    "\n",
    "\\s\n",
    "Matches any whitespace character; this is equivalent to the class [ \\t\\n\\r\\f\\v].\n",
    "\n",
    "\\S\n",
    "Matches any non-whitespace character; this is equivalent to the class [^ \\t\\n\\r\\f\\v].\n",
    "\n",
    "\\w\n",
    "Matches any alphanumeric character; this is equivalent to the class [a-zA-Z0-9_].\n",
    "\n",
    "\\W\n",
    "Matches any non-alphanumeric character; this is equivalent to the class [^a-zA-Z0-9_].\n",
    "\n",
    "\n",
    "Once you have determine which tokens to use, you will compile the pattern and then use it to search through multiple strings for matches.\n",
    "\n",
    "https://docs.python.org/3/library/re.html#re.compile\n"
   ]
  },
  {
   "cell_type": "code",
   "execution_count": 52,
   "metadata": {},
   "outputs": [],
   "source": [
    "s = re.compile('little')"
   ]
  },
  {
   "cell_type": "markdown",
   "metadata": {},
   "source": [
    "While there are multiple methods in the re package, we're going to use [search()](https://docs.python.org/3/library/re.html#re.Pattern.search)\n",
    "\n",
    "This allows us to find the first match of the string we're searching for and return it."
   ]
  },
  {
   "cell_type": "code",
   "execution_count": 66,
   "metadata": {},
   "outputs": [
    {
     "data": {
      "text/plain": [
       "<re.Match object; span=(11, 17), match='little'>"
      ]
     },
     "execution_count": 66,
     "metadata": {},
     "output_type": "execute_result"
    }
   ],
   "source": [
    "phrase = \"Mary had a little lamb.  It's fleece was white as snow.\"\n",
    "match = s.search(phrase)\n",
    "match"
   ]
  },
  {
   "cell_type": "code",
   "execution_count": 60,
   "metadata": {},
   "outputs": [
    {
     "data": {
      "text/plain": [
       "'little'"
      ]
     },
     "execution_count": 60,
     "metadata": {},
     "output_type": "execute_result"
    }
   ],
   "source": [
    "# get the first match\n",
    "match.group(0)"
   ]
  },
  {
   "cell_type": "code",
   "execution_count": 61,
   "metadata": {},
   "outputs": [
    {
     "data": {
      "text/plain": [
       "(11, 17)"
      ]
     },
     "execution_count": 61,
     "metadata": {},
     "output_type": "execute_result"
    }
   ],
   "source": [
    "# what coordinates in the string matched the pattern\n",
    "match.span()"
   ]
  },
  {
   "cell_type": "markdown",
   "metadata": {},
   "source": [
    "<div style=\"background: #DFF0D8; border-radius: 3px; padding: 10px;\">\n",
    "<b>Exercise 5.1</b>\n",
    "\n",
    "What coordinates is the word `fleece`?\n",
    "</div>\n"
   ]
  },
  {
   "cell_type": "code",
   "execution_count": 63,
   "metadata": {},
   "outputs": [
    {
     "data": {
      "text/plain": [
       "(30, 36)"
      ]
     },
     "execution_count": 63,
     "metadata": {},
     "output_type": "execute_result"
    }
   ],
   "source": [
    "fleece = re.search('fleece', phrase)\n",
    "fleece.span()"
   ]
  },
  {
   "cell_type": "markdown",
   "metadata": {},
   "source": [
    "## Substitution\n",
    "\n",
    "The `re` package can also be used to subsitute values using [sub()](https://docs.python.org/3/library/re.html#re.sub)\n",
    "\n",
    "It takes 3 arguments\n",
    "\n",
    "1. The pattern to match\n",
    "2. The value used to replace\n",
    "3. The string to match and replace\n"
   ]
  },
  {
   "cell_type": "code",
   "execution_count": 65,
   "metadata": {},
   "outputs": [
    {
     "data": {
      "text/plain": [
       "\"Bob had a little lamb.  It's fleece was white as snow.\""
      ]
     },
     "execution_count": 65,
     "metadata": {},
     "output_type": "execute_result"
    }
   ],
   "source": [
    "bob = re.sub(\"Mary\", \"Bob\", phrase)\n",
    "bob"
   ]
  },
  {
   "cell_type": "markdown",
   "metadata": {},
   "source": [
    "<div style=\"background: #DFF0D8; border-radius: 3px; padding: 10px;\">\n",
    "    <b>Exercise 5.2</b>\n",
    "\n",
    "Fix the grammatical error in the phrase.  Remove the `'` from the string\n",
    "</div>"
   ]
  },
  {
   "cell_type": "code",
   "execution_count": 67,
   "metadata": {},
   "outputs": [
    {
     "data": {
      "text/plain": [
       "'Mary had a little lamb.  Its fleece was white as snow.'"
      ]
     },
     "execution_count": 67,
     "metadata": {},
     "output_type": "execute_result"
    }
   ],
   "source": [
    "fixed = re.sub(\"'\", \"\", phrase)\n",
    "fixed"
   ]
  },
  {
   "cell_type": "markdown",
   "metadata": {},
   "source": [
    "## Conclusion\n",
    "\n",
    "\n",
    "This concludes your introduction to regular expression matching and Python’s re module. Congratulations! \n",
    "\n",
    "Python regular expressions are very powerful in assisting us in analyzing text.\n",
    "\n",
    "You now know how to:\n",
    "\n",
    "Use re.search() to perform regex matching in Python\n",
    "Substitute characters in strings\n",
    "\n",
    "Read up on more ways to use the regular expression module here https://www.pythoncheatsheet.org/cheatsheet/regular-expressions"
   ]
  }
 ],
 "metadata": {
  "kernelspec": {
   "display_name": "Python 3 (ipykernel)",
   "language": "python",
   "name": "python3"
  },
  "language_info": {
   "codemirror_mode": {
    "name": "ipython",
    "version": 3
   },
   "file_extension": ".py",
   "mimetype": "text/x-python",
   "name": "python",
   "nbconvert_exporter": "python",
   "pygments_lexer": "ipython3",
   "version": "3.8.0"
  }
 },
 "nbformat": 4,
 "nbformat_minor": 4
}
