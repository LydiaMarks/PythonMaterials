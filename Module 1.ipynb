{
  "metadata": {
    "kernelspec": {
      "name": "python",
      "display_name": "Python (Pyodide)",
      "language": "python"
    },
    "language_info": {
      "codemirror_mode": {
        "name": "python",
        "version": 3
      },
      "file_extension": ".py",
      "mimetype": "text/x-python",
      "name": "python",
      "nbconvert_exporter": "python",
      "pygments_lexer": "ipython3",
      "version": "3.8"
    },
    "deepnote_execution_queue": [],
    "deepnote_notebook_id": "bd0a9c6ac13c47e5babf8bb5080c874e"
  },
  "nbformat_minor": 4,
  "nbformat": 4,
  "cells": [
    {
      "cell_type": "markdown",
      "source": "# Module 1.0 - Programming Basics",
      "metadata": {
        "cell_id": "36033ff422534ee98bc36f9b789ab677",
        "deepnote_cell_type": "markdown",
        "deletable": true,
        "editable": true
      }
    },
    {
      "cell_type": "markdown",
      "source": "Welcome to this self guided course about learning to program with Python!",
      "metadata": {
        "cell_id": "5098cd592e50402f989234594b0c8608",
        "deepnote_cell_type": "text-cell-p",
        "formattedRanges": []
      }
    },
    {
      "cell_type": "markdown",
      "source": "Python is an interpreted language that is good for a variety of of data tasks.  Python is available at https://www.python.org/ with lots of detailed information and documentation about how to use python to program.  In addition to this course, there are resources available there for further instruction.",
      "metadata": {
        "cell_id": "5dfd7864ee6341d8898f650782743e01",
        "deepnote_cell_type": "text-cell-p",
        "formattedRanges": [
          {
            "fromCodePoint": 103,
            "ranges": [],
            "toCodePoint": 126,
            "type": "link",
            "url": "https://www.python.org/"
          }
        ]
      }
    },
    {
      "cell_type": "markdown",
      "source": "We'll get started with the basic building blocks of programming.",
      "metadata": {
        "cell_id": "69d3612f2e564f5e8395e90b4a5683da",
        "deepnote_cell_type": "text-cell-p",
        "formattedRanges": []
      }
    },
    {
      "cell_type": "markdown",
      "source": "## Variables",
      "metadata": {
        "cell_id": "10b7e12eafa54d50a514dd0b7cb1b53c",
        "deepnote_cell_type": "markdown",
        "deletable": true,
        "editable": true
      }
    },
    {
      "cell_type": "markdown",
      "source": "You can create a name to store a reference to whatever information you need: \n\n- user_age = 2\n- avatar_color = \"green\"\n- unknown_variable = \"\"\n\nMany code environments will autocomplete your variable names for you, so feel free to use descriptive variable names. \n\nRules for Python variables\n- A Python variable name must start with a letter or the underscore character\n- A Python variable name cannot start with a number (1st_place is invalid, but _1st_place is valid)\n- A Python variable name can only contain alpha-numeric characters and underscores (A-z, 0-9, and _ )\n- Variable names are case-sensitive (name, Name, and NAME are three different variables)\n- Variables cannot be one of the reserved keywords in Python (see https://realpython.com/lessons/reserved-keywords/ for a list of reserved keywords)\n    ",
      "metadata": {
        "cell_id": "4f8413ebb97f44709bc515905273f7a5",
        "deepnote_cell_type": "markdown",
        "deletable": true,
        "editable": true
      }
    },
    {
      "cell_type": "markdown",
      "source": "## Print Statements \nIn programming, statements are standalone directions given to the intepreter (aka Python). For example, if you want Python to print something out to the screen, you would issue a print statement telling it what to print.",
      "metadata": {
        "cell_id": "8cba4632445747ed99f2dc9fed98bce4",
        "deepnote_cell_type": "markdown",
        "deletable": true,
        "editable": true
      }
    },
    {
      "cell_type": "code",
      "source": "print(\"This is the result of a print statement!\")",
      "metadata": {
        "cell_id": "f7ef0ea6ae6c481ca38b5f7ad4043a46",
        "collapsed": false,
        "deepnote_cell_type": "code",
        "deepnote_to_be_reexecuted": false,
        "deletable": true,
        "editable": true,
        "execution_millis": 754,
        "execution_start": 1725678023409,
        "jupyter": {
          "outputs_hidden": false
        },
        "source_hash": null
      },
      "outputs": [
        {
          "name": "stdout",
          "output_type": "stream",
          "text": "This is the result of a print statement!\n"
        }
      ],
      "execution_count": 1
    },
    {
      "cell_type": "code",
      "source": "my_statement = \"This is also the result of a print statment.\"\nprint(my_statement)",
      "metadata": {
        "cell_id": "014d330f160d4a55a1f0a5b7d5ab5784",
        "collapsed": false,
        "deepnote_cell_type": "code",
        "deepnote_to_be_reexecuted": false,
        "deletable": true,
        "editable": true,
        "execution_millis": 753,
        "execution_start": 1725678023410,
        "jupyter": {
          "outputs_hidden": false
        },
        "source_hash": null
      },
      "outputs": [
        {
          "name": "stdout",
          "output_type": "stream",
          "text": "This is also the result of a print statment.\n"
        }
      ],
      "execution_count": 2
    },
    {
      "cell_type": "markdown",
      "source": "## Data Types",
      "metadata": {
        "cell_id": "b1ae0b9202e7486ab3650693aff551e6",
        "deepnote_app_block_visible": false,
        "deepnote_cell_type": "text-cell-h2",
        "formattedRanges": [],
        "is_collapsed": false
      }
    },
    {
      "cell_type": "markdown",
      "source": "We will be using some of these terms moving forward, so you should know that some of Python's basic data types are:",
      "metadata": {
        "cell_id": "393c94917e574fdfb9160bd02cff549c",
        "deepnote_app_block_visible": false,
        "deepnote_cell_type": "text-cell-p",
        "formattedRanges": [],
        "is_collapsed": false
      }
    },
    {
      "cell_type": "markdown",
      "source": "- String - text that is inside a pair of quotation marks. These can be single ' ' or double \" \"",
      "metadata": {
        "cell_id": "7b6f0a12497e4644a4df9e30877d9fac",
        "deepnote_app_block_visible": false,
        "deepnote_cell_type": "text-cell-bullet",
        "formattedRanges": [],
        "is_collapsed": false
      }
    },
    {
      "cell_type": "markdown",
      "source": "- Integer - a number that does not have a decimal component; e.g. 456",
      "metadata": {
        "cell_id": "d18443f8ed994db39f82f7cde49c3d2b",
        "deepnote_app_block_visible": false,
        "deepnote_cell_type": "text-cell-bullet",
        "formattedRanges": [],
        "is_collapsed": false
      }
    },
    {
      "cell_type": "markdown",
      "source": "- Float - a number that does include a decimal component; e.g. 456.789",
      "metadata": {
        "cell_id": "eeab6d0e2ede4fcebfcc17a54d4c207c",
        "deepnote_app_block_visible": false,
        "deepnote_cell_type": "text-cell-bullet",
        "formattedRanges": [],
        "is_collapsed": false
      }
    },
    {
      "cell_type": "markdown",
      "source": "- List - a collection of values, separated by commas, inside square brackets. Each element in a list is referenced by its position, starting with zero at the left-end of the list; e.g. [456, \"Abraham Lincoln\", var1]. ",
      "metadata": {
        "cell_id": "9be09587e5ed45acbb488c2b782f49bc",
        "deepnote_app_block_visible": false,
        "deepnote_cell_type": "text-cell-bullet",
        "formattedRanges": [],
        "is_collapsed": false
      }
    },
    {
      "cell_type": "markdown",
      "source": "- Dictionary - also called a dict. This is a collection of pairs of key:value pairs, separated by commas, inside curly braces; Each element is referenced by its key{age: 44, name: \"Alan Smithee\", occupation: \"software engineer\"}. ",
      "metadata": {
        "cell_id": "c76bef76bf3d44f2841131bb0e483247",
        "deepnote_app_block_visible": false,
        "deepnote_cell_type": "text-cell-bullet",
        "formattedRanges": [],
        "is_collapsed": false
      }
    },
    {
      "cell_type": "markdown",
      "source": "Each data type describes the basic object that is created. Every piece of data has an unchangeable type that describes it. A variable name can point to any type. When you don't know what type of object you're working with you can use the type() function. Go ahead and run the code block below to see this in action.",
      "metadata": {
        "cell_id": "2e3b84b7e1ee47619d1d97ca92aa5a8b",
        "deepnote_cell_type": "text-cell-p",
        "formattedRanges": []
      }
    },
    {
      "cell_type": "code",
      "source": "number_2 = 2\n\nprint(type(number_2))\n\nnumber_2 = '2'\n\nprint(type(number_2))",
      "metadata": {
        "cell_id": "23a9c00a19164f0686da4206e2fb1382",
        "deepnote_cell_type": "code",
        "deepnote_to_be_reexecuted": false,
        "execution_millis": 105,
        "execution_start": 1726195917677,
        "source_hash": null,
        "trusted": true
      },
      "outputs": [
        {
          "name": "stdout",
          "output_type": "stream",
          "text": "<class 'int'>\n<class 'str'>\n"
        }
      ],
      "execution_count": 2
    },
    {
      "cell_type": "markdown",
      "source": "In this example, we are assigning a variable name to an integer object. We are then reassigning the variable name to a string-type object. This demonstrates that variables and objects are different in Python. The same variable can be assigned different types (referred to as class as the output).  ",
      "metadata": {
        "cell_id": "4a0a31eb54a146fc8b989cc4c0406cba",
        "deepnote_cell_type": "text-cell-p",
        "formattedRanges": []
      }
    },
    {
      "cell_type": "markdown",
      "source": "### Variable Comparison\n\n- Using the \"=\" allows us to assign a value to a variable \n- The values of two variables may be the same, but they are usually not the same object except for some basic data types\n- The id() statement will tell you the variable's location in memory\n- However, if we want to ask if the value of var1 is equal to the value of var2, we use `==` or `is` to compare",
      "metadata": {
        "cell_id": "66718b1bbc6f4d0ba83ccaa390e4c5b3",
        "deepnote_cell_type": "markdown",
        "deletable": true,
        "editable": true
      }
    },
    {
      "cell_type": "code",
      "source": "var1 = 5\nvar2 = 12\nvar3 = 5\nlist1 = [1, 2, 3]\nlist2 = [1, 2, 3]\n\nprint(f\"memory location for var1 = {id(var1)}\")\n\n# From inside the print() function, we can tell the interpreter to print the results of comparing var1 and var3\nprint(var1 == var3)\nprint(var1 is var3)\nprint(\"list comparison results:\")\nprint(list1 == list2)\nprint(list1 is list2)\n\nvar1 == var2",
      "metadata": {
        "cell_id": "a45a1ebd7f6e4cfa8d50651197546880",
        "collapsed": false,
        "deepnote_cell_type": "code",
        "deepnote_to_be_reexecuted": false,
        "deletable": true,
        "editable": true,
        "execution_millis": 114,
        "execution_start": 1726196372858,
        "jupyter": {
          "outputs_hidden": false
        },
        "source_hash": null
      },
      "outputs": [
        {
          "name": "stdout",
          "output_type": "stream",
          "text": "memory location for var1 = 4417497872\n,True\n,True\n,list comparison results:\n,True\n,False\n"
        },
        {
          "data": {
            "text/plain": [
              "False"
            ]
          },
          "execution_count": 4,
          "metadata": {},
          "output_type": "execute_result"
        }
      ],
      "execution_count": 4
    },
    {
      "cell_type": "markdown",
      "source": "Notice that Jupyter Lab displayed \"False\" even though we didn't tell it to print() the comparison on the last line. This can be a useful shortcut inside the Jupyter interface, but in a code editor or terminal we always need to use something like print() if we expect to have the results displayed.",
      "metadata": {
        "cell_id": "ec674175ed3843eeb2f23a56576fca40",
        "deepnote_cell_type": "text-cell-p",
        "formattedRanges": []
      }
    },
    {
      "cell_type": "markdown",
      "source": "### Multiple Assignment\nIn Python, you can assign multiple values to multiple variables at one time. Assigning multiple variables from a single call reduces the computational overhead and is useful when assignments from a list or dictionary.",
      "metadata": {
        "cell_id": "cdbe077a167d4e368a30d65ee03275e8",
        "deepnote_cell_type": "markdown",
        "deletable": true,
        "editable": true
      }
    },
    {
      "cell_type": "code",
      "source": "a, b, c = \"letter_a\", \"letter_b\", 42\n\nprint(a)\nprint(b)\nprint(c)",
      "metadata": {
        "cell_id": "981179750f444557b06fb82c5724b812",
        "collapsed": false,
        "deepnote_cell_type": "code",
        "deepnote_to_be_reexecuted": false,
        "deletable": true,
        "editable": true,
        "execution_millis": 730,
        "execution_start": 1725678023435,
        "jupyter": {
          "outputs_hidden": false
        },
        "source_hash": null
      },
      "outputs": [
        {
          "name": "stdout",
          "output_type": "stream",
          "text": "letter_a\n,letter_b\n,42\n"
        }
      ],
      "execution_count": 5
    },
    {
      "cell_type": "markdown",
      "source": "## Methods",
      "metadata": {
        "cell_id": "1c0bf6616ba241ff90e25b75008a6c87",
        "deepnote_cell_type": "text-cell-h2",
        "formattedRanges": []
      }
    },
    {
      "cell_type": "markdown",
      "source": "In addition to global statements each Python object has a set of built-in functions called methods. Lists of methods can be found in the python documentation, though there are several websites that provide synopses and examples, such as https://realpython.com/  Some of the more frequently used string methods will correct data entry errors.",
      "metadata": {
        "cell_id": "23af8f05eea44b4a863cb70f66c0afb1",
        "deepnote_cell_type": "text-cell-p",
        "formattedRanges": [
          {
            "fromCodePoint": 237,
            "ranges": [],
            "toCodePoint": 260,
            "type": "link",
            "url": "https://realpython.com/"
          }
        ]
      }
    },
    {
      "cell_type": "markdown",
      "source": "For example, some web browsers will add a trailing space to values that are pasted into a form. We can also find the first instance of a substring, and make text capitalization uniform",
      "metadata": {
        "cell_id": "b988660fee6048b6abaae167cdc1a941",
        "deepnote_cell_type": "text-cell-p",
        "formattedRanges": []
      }
    },
    {
      "cell_type": "code",
      "source": "# remove trailing space\npasted_text = \"Legitimate_email@ipromisethisisreal.com \"\nprint(pasted_text.strip())\n\n# find location of first instance of substring\nprint(pasted_text.find(\"@\"))\n\n# uniform capitalization\nprint(pasted_text.upper())\n\n# replace substring with another substring\nprint(pasted_text.replace(\"Legitimate\", \"Real\"))",
      "metadata": {
        "cell_id": "7f3848a509544a6eb2bdafadc1a4a0b5",
        "deepnote_cell_type": "code",
        "deepnote_to_be_reexecuted": false,
        "execution_millis": 718,
        "execution_start": 1725678023447,
        "source_hash": null
      },
      "outputs": [
        {
          "name": "stdout",
          "output_type": "stream",
          "text": "Legitimate_email@ipromisethisisreal.com\n,16\n,LEGITIMATE_EMAIL@IPROMISETHISISREAL.COM \n,Real_email@ipromisethisisreal.com \n"
        }
      ],
      "execution_count": 6
    },
    {
      "cell_type": "markdown",
      "source": "The Python docs provide an exhaustive list of methods for strings as well as the other types: https://docs.python.org/3/library/string.html",
      "metadata": {
        "cell_id": "e30e0fed09714cb3872c81202806b444",
        "deepnote_cell_type": "text-cell-p",
        "formattedRanges": [
          {
            "fromCodePoint": 94,
            "ranges": [],
            "toCodePoint": 139,
            "type": "link",
            "url": "https://docs.python.org/3/library/string.html"
          }
        ]
      }
    },
    {
      "cell_type": "markdown",
      "source": "## Arithmetical Operations",
      "metadata": {
        "cell_id": "8d42f30d225e42b1afca561ee379d20e",
        "deepnote_cell_type": "text-cell-h2",
        "formattedRanges": []
      }
    },
    {
      "cell_type": "code",
      "source": "a = 1 + 3             # addition / subtraction\nb = 10.0 * 4 / 2      # multiplication / division\nc = 8.5**3            # exponent\nd = 173 % 12          # modulo\ne = 1e2 * (c + a)     # scientific notation, parentheses\nf = 5//2              # integer division\nprint(a, b, c, d, e, f)",
      "metadata": {
        "cell_id": "429c4777e73b4835860f05e1ad8ff490",
        "deepnote_cell_type": "code",
        "deepnote_to_be_reexecuted": false,
        "execution_millis": 717,
        "execution_start": 1725678023448,
        "source_hash": null
      },
      "outputs": [
        {
          "name": "stdout",
          "output_type": "stream",
          "text": "4 20.0 614.125 5 61812.5 2\n"
        }
      ],
      "execution_count": 7
    },
    {
      "cell_type": "markdown",
      "source": "Crucially, multiplication and division have the same precedence in Python; as do addition and subtraction; there is no PEMDAS in core Python. Typically operations are evaluated left to right. Grouping with parentheses and arranging groups are two strategies used to ensure correct calculation. Should you use tools like Pandas, SciPy, NumPy or other packages designed to aid in complex calculations be sure to read the package documentation regarding order of operations.",
      "metadata": {
        "cell_id": "31448343efe746a8812fb5395229ba8a",
        "deepnote_cell_type": "text-cell-p",
        "formattedRanges": []
      }
    },
    {
      "cell_type": "code",
      "source": "# Strings also have addition methods\nprint('hello' + 'world') # concatenation; you're responsible for the spaces\nprint(\" \".join(['hello', 'world'])) # or let Python do it for you",
      "metadata": {
        "cell_id": "783e2bad724048529ed9c49778288983",
        "deepnote_cell_type": "code",
        "deepnote_to_be_reexecuted": false,
        "execution_millis": 717,
        "execution_start": 1725678023449,
        "source_hash": null
      },
      "outputs": [
        {
          "name": "stdout",
          "output_type": "stream",
          "text": "helloworld\n,hello world\n"
        }
      ],
      "execution_count": 8
    },
    {
      "cell_type": "markdown",
      "source": "## Type Casting",
      "metadata": {
        "cell_id": "cfdf62ce23ff46c6b65c5d1a1ddf10c0",
        "deepnote_cell_type": "text-cell-h2",
        "formattedRanges": []
      }
    },
    {
      "cell_type": "code",
      "source": "# Declaring a variable as a type is called 'casting', and changing the data type is recasting. Recasting creates a new object with the new data type.of the required type\na = float(3)      # create float from int\nb = int(3.5)      # coerce float to int (this rounds the value down)\nc = float(\"9.5\")  # convert str to float\nd = str(10)       # convert into to str\nprint([a, b, c, d])",
      "metadata": {
        "cell_id": "abb2df8341134da58f6466b42b7e27c8",
        "deepnote_cell_type": "code",
        "deepnote_to_be_reexecuted": false,
        "execution_millis": 676,
        "execution_start": 1725678023490,
        "source_hash": null
      },
      "outputs": [
        {
          "name": "stdout",
          "output_type": "stream",
          "text": "[3.0, 3, 9.5, '10']\n"
        }
      ],
      "execution_count": 9
    },
    {
      "cell_type": "markdown",
      "source": "<div style=\"background: #DFF0D8; border-radius: 3px; padding: 10px;\">\n<b>Exercise 1.1</b>\n\nA common issue is an API will cast integers as strings, but you'll need to perform some kind of math with that value. \n\nIn your Jupyter Labs file add the following together: \"365\" + 123 + \"-47\" + 56.789",
      "metadata": {
        "cell_id": "2d693b3c10e241dea5a924cdfcab876f",
        "deepnote_cell_type": "text-cell-h2",
        "formattedRanges": []
      }
    },
    {
      "cell_type": "code",
      "source": "\"365\" + 123 + \"-47\" + 56.789",
      "metadata": {},
      "outputs": [
        {
          "ename": "TypeError",
          "evalue": "can only concatenate str (not \"int\") to str",
          "output_type": "error",
          "traceback": [
            "\u001b[0;31m---------------------------------------------------------------------------\u001b[0m",
            "\u001b[0;31mTypeError\u001b[0m                                 Traceback (most recent call last)",
            "Cell \u001b[0;32mIn[1], line 1\u001b[0m\n\u001b[0;32m----> 1\u001b[0m \u001b[38;5;124;43m\"\u001b[39;49m\u001b[38;5;124;43m365\u001b[39;49m\u001b[38;5;124;43m\"\u001b[39;49m\u001b[43m \u001b[49m\u001b[38;5;241;43m+\u001b[39;49m\u001b[43m \u001b[49m\u001b[38;5;241;43m123\u001b[39;49m \u001b[38;5;241m+\u001b[39m \u001b[38;5;124m\"\u001b[39m\u001b[38;5;124m-47\u001b[39m\u001b[38;5;124m\"\u001b[39m \u001b[38;5;241m+\u001b[39m \u001b[38;5;241m56.789\u001b[39m\n",
            "\u001b[0;31mTypeError\u001b[0m: can only concatenate str (not \"int\") to str"
          ]
        }
      ],
      "execution_count": 1
    },
    {
      "cell_type": "markdown",
      "source": "This causes a TypeError if you execute that exact string.  Use Type Casting to convert each piece of the equation.\n",
      "metadata": {}
    },
    {
      "cell_type": "code",
      "source": "float(\"365\") + 123 + float(\"-47\") + 56.789",
      "metadata": {
        "cell_id": "6937176a3d3249f985d36ba94990265e",
        "deepnote_app_is_code_hidden": true,
        "deepnote_app_is_output_hidden": true,
        "deepnote_cell_type": "code",
        "deepnote_to_be_reexecuted": false,
        "execution_millis": 665,
        "execution_start": 1725678023501,
        "is_code_hidden": true,
        "is_output_hidden": true,
        "source_hash": null
      },
      "outputs": [
        {
          "data": {
            "text/plain": [
              "497.789"
            ]
          },
          "execution_count": 2,
          "metadata": {},
          "output_type": "execute_result"
        }
      ],
      "execution_count": 2
    },
    {
      "cell_type": "markdown",
      "source": "### String conversion",
      "metadata": {
        "cell_id": "c1432a9e7da442819e8b5821c43a6274",
        "deepnote_cell_type": "text-cell-h3",
        "formattedRanges": []
      }
    },
    {
      "cell_type": "code",
      "source": "# Python will convert a float to an int, and round down (called \"flooring\") \n\nprint(int(1.23))\nprint(float(1)) # This will add a decimal and a placeholder zero in the tens place\nprint(float(\"1.23\"))",
      "metadata": {
        "cell_id": "8d3c06104f2d4610a69c768705f9e920",
        "deepnote_cell_type": "code",
        "deepnote_to_be_reexecuted": false,
        "execution_millis": 83,
        "execution_start": 1726198983403,
        "source_hash": null
      },
      "outputs": [
        {
          "name": "stdout",
          "output_type": "stream",
          "text": "1\n,1.0\n,1.23\n"
        }
      ],
      "execution_count": 11
    },
    {
      "cell_type": "code",
      "source": "# Python will not convert a string that appears to be a float to an int\nprint(int(\"1.23\"))\n# See? Comment that line, \n# uncomment the one below this and run it again. \n# print(int(float(\"1.23\")))\n# This is called method chaining. Beware the added complexity this can introduce.",
      "metadata": {
        "cell_id": "ee2f8ca921fd4866a28848ccfce1b739",
        "deepnote_cell_type": "code",
        "deepnote_to_be_reexecuted": false,
        "execution_millis": 103,
        "execution_start": 1726199074081,
        "source_hash": null
      },
      "outputs": [
        {
          "ename": "ValueError",
          "evalue": "invalid literal for int() with base 10: '1.23'",
          "output_type": "error",
          "traceback": [
            "\u001b[0;31m---------------------------------------------------------------------------\u001b[0m",
            "\u001b[0;31mValueError\u001b[0m                                Traceback (most recent call last)",
            "Cell \u001b[0;32mIn[12], line 2\u001b[0m\n\u001b[1;32m      1\u001b[0m \u001b[38;5;66;03m# Python will not convert a string that appears to be a float to an int\u001b[39;00m\n\u001b[0;32m----> 2\u001b[0m \u001b[38;5;28mprint\u001b[39m(\u001b[38;5;28;43mint\u001b[39;49m\u001b[43m(\u001b[49m\u001b[38;5;124;43m\"\u001b[39;49m\u001b[38;5;124;43m1.23\u001b[39;49m\u001b[38;5;124;43m\"\u001b[39;49m\u001b[43m)\u001b[49m)\n\u001b[1;32m      3\u001b[0m \u001b[38;5;66;03m# See? Comment that line, \u001b[39;00m\n\u001b[1;32m      4\u001b[0m \u001b[38;5;66;03m# uncomment the one below this and run it again. \u001b[39;00m\n\u001b[1;32m      5\u001b[0m \u001b[38;5;66;03m# print(int(float(\"1.23\")))\u001b[39;00m\n\u001b[1;32m      6\u001b[0m \u001b[38;5;66;03m# This is called method chaining. Beware the added complexity this can introduce.\u001b[39;00m\n",
            "\u001b[0;31mValueError\u001b[0m: invalid literal for int() with base 10: '1.23'"
          ]
        }
      ],
      "execution_count": 12
    },
    {
      "cell_type": "markdown",
      "source": "<div style=\"background: #DFF0D8; border-radius: 3px; padding: 10px;\">\n<b>Exercise 1.2</b>\n    \nIn addition to not converting float-like strings to ints, Python also does not support commas as a decimal delimiter. \n\nUsing what you read above, convert the following from a comma to a period: \"123,4567\"\n</div>",
      "metadata": {
        "cell_id": "2d44fa11cd824ce28ad1be17917d1e0d",
        "deepnote_cell_type": "text-cell-h2",
        "formattedRanges": []
      }
    },
    {
      "cell_type": "code",
      "source": "# Answer 1.2\nprint(\"123,4567\".replace(\",\",\".\"))\n",
      "metadata": {
        "cell_id": "79d53e91f6d04545a0baf17e55c5017d",
        "deepnote_cell_type": "markdown"
      },
      "outputs": [
        {
          "name": "stdout",
          "output_type": "stream",
          "text": "123.4567\n"
        }
      ],
      "execution_count": 3
    },
    {
      "cell_type": "markdown",
      "source": "That's not particularly easy to read with all that punctuation. but what we're telling python to do is consider the string, find the comma and replace it with a period. The punctuation marks are wrapped in quotation marks to denote they're strings. Separating the values with a comma is a common paradigm.",
      "metadata": {}
    },
    {
      "cell_type": "markdown",
      "source": "## String Splitting",
      "metadata": {
        "cell_id": "b27c11230573415ea7cf3b70f6767eb5",
        "deepnote_cell_type": "text-cell-h2",
        "formattedRanges": []
      }
    },
    {
      "cell_type": "markdown",
      "source": "Another very common operation to perform on strings is to split the string into smaller pieces. For example, let's say we want to take the string \"Hello, world\" and split it into the two parts that come before and after the comma. Strings provide a handy split() method for this purpose:",
      "metadata": {
        "cell_id": "1ce30e27467545cd90269b6f99f54889",
        "deepnote_cell_type": "text-cell-p",
        "formattedRanges": []
      }
    },
    {
      "cell_type": "code",
      "source": "hello = \"Hello, world\"\nwords_from_hello = hello.split(\", \")\nprint(words_from_hello)",
      "metadata": {
        "cell_id": "7f02b8050ff34567b8c0f49fa8fbefbf",
        "deepnote_cell_type": "code",
        "deepnote_to_be_reexecuted": false,
        "execution_millis": 88,
        "execution_start": 1725680048546,
        "source_hash": null
      },
      "outputs": [
        {
          "name": "stdout",
          "output_type": "stream",
          "text": "['Hello', 'world']\n"
        }
      ],
      "execution_count": 5
    },
    {
      "cell_type": "code",
      "source": "# Now that we've split this string, what kind of object is it? \ntype(words_from_hello)",
      "metadata": {
        "cell_id": "18d48a0a760f4cd496269b3999ccb46a",
        "deepnote_cell_type": "code",
        "deepnote_to_be_reexecuted": false,
        "execution_millis": 61,
        "execution_start": 1725680050790,
        "source_hash": null
      },
      "outputs": [
        {
          "data": {
            "text/plain": [
              "list"
            ]
          },
          "execution_count": 6,
          "metadata": {},
          "output_type": "execute_result"
        }
      ],
      "execution_count": 6
    },
    {
      "cell_type": "markdown",
      "source": "## List",
      "metadata": {
        "cell_id": "ceebe30481934086b69720c59637ca94",
        "deepnote_cell_type": "text-cell-h2",
        "formattedRanges": []
      }
    },
    {
      "cell_type": "markdown",
      "source": "A list is a standard Python type that contains multiple values.  \n1. Ordered - Each item in the list is always in the same order\n2. Addressable  - Each item in the list can be accessed individually\n3. Mutable - values can be changed\n\nComputers use binary for their language, so lists start at 0\nLists in python are created using square brackets or with methods that emit multiple items from one (like split)",
      "metadata": {
        "cell_id": "6568a7bb5c1a4e52b19300e639be7840",
        "deepnote_cell_type": "markdown"
      }
    },
    {
      "cell_type": "code",
      "source": "# A 'list' is another fundamental type, or object, that is:\n\n# 1) ordered\n# words_from_hello[0] comes before words_from_hello[1]\n# There is a method to reverse the order\nwords_from_hello.reverse()\nprint(words_from_hello)\nwords_from_hello.reverse()\n\n# 2) addressable       \n# Data in a list can be accessed with an index, starting from 0\nprint(words_from_hello[0])\nprint(words_from_hello[1])\n\n# 3) mutable\nwords_from_hello[0] = 'goodbye'      # overwrite the first value\nwords_from_hello.insert(1, 'Spice')  # insert a new value\nprint(words_from_hello)",
      "metadata": {
        "cell_id": "31fe34d7c28042feb82f3ef4ad5c6fdf",
        "deepnote_cell_type": "code",
        "deepnote_to_be_reexecuted": false,
        "execution_millis": 66,
        "execution_start": 1725680053199,
        "source_hash": null
      },
      "outputs": [
        {
          "name": "stdout",
          "output_type": "stream",
          "text": "['world', 'Hello']\n,Hello\n,world\n,['goodbye', 'Spice', 'world']\n"
        }
      ],
      "execution_count": 7
    },
    {
      "cell_type": "markdown",
      "source": "The cell below creates the name my_new_list and assigns it with words_from_hello.  Assign a new value to the first element of my_new_list.  What are the values of my_new_list and words_from_hello?  ",
      "metadata": {
        "cell_id": "5d923c17844f4d97b1274f4bc848a4ba",
        "deepnote_cell_type": "text-cell-p",
        "formattedRanges": []
      }
    },
    {
      "cell_type": "code",
      "source": "my_new_list = words_from_hello\n\nmy_new_list[0] = 'Good Morning'\n\nprint(f\"my_new_list = {my_new_list} and words_from_hello = {words_from_hello})\")",
      "metadata": {
        "cell_id": "b2f02541c19c4bd490e3fb0d501f3cdb",
        "deepnote_cell_type": "code",
        "deepnote_to_be_reexecuted": false,
        "execution_millis": 86,
        "execution_start": 1725680056386,
        "source_hash": null
      },
      "outputs": [
        {
          "name": "stdout",
          "output_type": "stream",
          "text": "my_new_list = ['Good Morning', 'Spice', 'world'] and words_from_hello = ['Good Morning', 'Spice', 'world'])\n"
        }
      ],
      "execution_count": 8
    },
    {
      "cell_type": "markdown",
      "source": "Recall that Python does not make a new object when creating a new variable name, so both my_new_list and words_from_hello point to the same object in memory.  It's also notable that the request was to assign a new value to the first element of my_new_list. It is easy to forget about zero-indexing and make changes to my_new_list[1] instead of my_new_list[0] which is the first element in the list. ",
      "metadata": {
        "cell_id": "f72c6ac0a658440aaf061a5432ef6494",
        "deepnote_cell_type": "text-cell-p",
        "formattedRanges": []
      }
    },
    {
      "cell_type": "markdown",
      "source": "What happens if we try to print(words_from_hello[3])?",
      "metadata": {
        "cell_id": "a5c41898ad124507ad573d36ce485e0f",
        "deepnote_cell_type": "text-cell-p",
        "formattedRanges": []
      }
    },
    {
      "cell_type": "code",
      "source": "print(words_from_hello[3])",
      "metadata": {
        "cell_id": "12e92c9c8c284ac1b2693ff82c670417",
        "deepnote_app_is_code_hidden": true,
        "deepnote_cell_type": "code",
        "deepnote_to_be_reexecuted": false,
        "execution_millis": 117,
        "execution_start": 1725679117496,
        "is_code_hidden": false,
        "source_hash": null
      },
      "outputs": [
        {
          "ename": "IndexError",
          "evalue": "list index out of range",
          "output_type": "error",
          "traceback": [
            "\u001b[0;31m---------------------------------------------------------------------------\u001b[0m",
            "\u001b[0;31mIndexError\u001b[0m                                Traceback (most recent call last)",
            "Cell \u001b[0;32mIn[9], line 1\u001b[0m\n\u001b[0;32m----> 1\u001b[0m \u001b[38;5;28mprint\u001b[39m(\u001b[43mwords_from_hello\u001b[49m\u001b[43m[\u001b[49m\u001b[38;5;241;43m3\u001b[39;49m\u001b[43m]\u001b[49m)\n",
            "\u001b[0;31mIndexError\u001b[0m: list index out of range"
          ]
        }
      ],
      "execution_count": 9
    },
    {
      "cell_type": "markdown",
      "source": "Despite including four words, there are only three entries in words_from_hello, and Python indexes from zero. Let's dissect the error message:",
      "metadata": {
        "cell_id": "2dba1a6532fc49639a2b1b214b78a17b",
        "deepnote_cell_type": "text-cell-p",
        "formattedRanges": []
      }
    },
    {
      "cell_type": "markdown",
      "source": " IndexError: list index out of range",
      "metadata": {
        "cell_id": "81568e0713c74b04aeb09b3e46857b3f",
        "deepnote_cell_type": "text-cell-p",
        "formattedRanges": []
      }
    },
    {
      "cell_type": "markdown",
      "source": "There are some important clues in this message: ",
      "metadata": {
        "cell_id": "7687030a59814d489a8a235392d9445d",
        "deepnote_cell_type": "text-cell-p",
        "formattedRanges": []
      }
    },
    {
      "cell_type": "markdown",
      "source": "We were accessing a list when the error occurred\nThe index we used to access the list (in this case 3) was invalid\nPython handles errors by creating an object that describes the error. The type of the error object depends on the kind of error that occurred.  Using a bad index here generates an IndexError.  We will see many other error types later.",
      "metadata": {
        "cell_id": "320c9958128e412bbf786fed2b1ffa92",
        "deepnote_cell_type": "text-cell-p",
        "formattedRanges": []
      }
    },
    {
      "cell_type": "code",
      "source": "# Common methods for lists\nwords_from_hello.append('!')        # add an object to a list\nprint(words_from_hello)\nwords_from_hello.remove('Spice')    # remove the first instance of a given object\nprint(words_from_hello)\nwords_from_hello.insert(1,'beautiful')  # insert an object at a given index\nprint(words_from_hello)\nwords_from_hello.pop(3)             # remove the item at a specific index\nprint(words_from_hello)",
      "metadata": {
        "cell_id": "afb5a948e2784a60bde5ac90e12af4b1",
        "deepnote_cell_type": "code",
        "deepnote_to_be_reexecuted": false,
        "execution_millis": 85,
        "execution_start": 1725680062412,
        "source_hash": null
      },
      "outputs": [
        {
          "name": "stdout",
          "output_type": "stream",
          "text": "['Good Morning', 'Spice', 'world', '!']\n,['Good Morning', 'world', '!']\n,['Good Morning', 'beautiful', 'world', '!']\n,['Good Morning', 'beautiful', 'world']\n"
        }
      ],
      "execution_count": 10
    },
    {
      "cell_type": "markdown",
      "source": "<div style=\"background: #DFF0D8; border-radius: 3px; padding: 10px;\">\n<b>Exercise 1.3</b>\n\nUsing the methods above, change words_from_hello such that its value is ['hello', 'beautiful',' world', '!']",
      "metadata": {
        "cell_id": "795b6d1deebe4ca3b97bc5d19588e756",
        "deepnote_cell_type": "text-cell-h2",
        "formattedRanges": []
      }
    },
    {
      "cell_type": "code",
      "source": "# Answer 1.3\nprint(words_from_hello)",
      "metadata": {
        "cell_id": "a516a764bf4d46458848e7dbbc42f4e2",
        "deepnote_cell_type": "code",
        "deepnote_to_be_reexecuted": false,
        "execution_millis": 33,
        "execution_start": 1725680078846,
        "source_hash": null
      },
      "outputs": [
        {
          "name": "stdout",
          "output_type": "stream",
          "text": "['Good Morning', 'beautiful', 'world']\n"
        }
      ],
      "execution_count": 11
    },
    {
      "cell_type": "code",
      "source": "words_from_hello[0] = 'hello'\nprint(words_from_hello)\n\nwords_from_hello[1] = 'beautiful'\nprint(words_from_hello)\n\nwords_from_hello.append('!')\nprint(words_from_hello)",
      "metadata": {
        "cell_id": "a60d01c739754125b8087d6b5952b2a6",
        "deepnote_cell_type": "code",
        "deepnote_to_be_reexecuted": false,
        "execution_millis": 20,
        "execution_start": 1725680102606,
        "source_hash": null
      },
      "outputs": [
        {
          "name": "stdout",
          "output_type": "stream",
          "text": "['hello', 'beautiful', 'world']\n,['hello', 'beautiful', 'world']\n,['hello', 'beautiful', 'world', '!']\n"
        }
      ],
      "execution_count": 12
    },
    {
      "cell_type": "markdown",
      "source": "Why are these code blocks separated? Try running the #answer code block again. Python is always pointing to the object as it is now. It doesn't remember that words_from_hello was ['Good Morning', 'beautiful', 'world'] a few minutes ago.",
      "metadata": {
        "cell_id": "b8e66019a5e24c6e84fdcf25b7e37066",
        "deepnote_cell_type": "text-cell-p",
        "formattedRanges": []
      }
    },
    {
      "cell_type": "markdown",
      "source": "So we have learned that all data in Python is represented as objects, that each object is of a specific type, and that each type has specific methods associated with it (strings have lower() and replace(), lists have append() and remove(), etc).",
      "metadata": {
        "cell_id": "64801287109e489db38f2ddef18a333c",
        "deepnote_cell_type": "text-cell-p",
        "formattedRanges": []
      }
    },
    {
      "cell_type": "markdown",
      "source": "Given an object of a particular type, how can we determine the list of all methods available for that object? We have a few options:",
      "metadata": {
        "cell_id": "ffc8bbcdc3ca42eca477b61f927d67ce",
        "deepnote_cell_type": "text-cell-p",
        "formattedRanges": []
      }
    },
    {
      "cell_type": "markdown",
      "source": "- Read the documentation for that type",
      "metadata": {
        "cell_id": "bb4532f219db46eb92ca8c2b742aebc3",
        "deepnote_cell_type": "text-cell-bullet",
        "formattedRanges": []
      }
    },
    {
      "cell_type": "markdown",
      "source": "- Use Python's built-in help system",
      "metadata": {
        "cell_id": "5e8659f83a124538a18be120f89a636c",
        "deepnote_cell_type": "text-cell-bullet",
        "formattedRanges": []
      }
    },
    {
      "cell_type": "markdown",
      "source": "- Directly list the available attributes of the object",
      "metadata": {
        "cell_id": "bb1676d38d9041589d1f6c6ad14f5fb9",
        "deepnote_cell_type": "text-cell-bullet",
        "formattedRanges": []
      }
    },
    {
      "cell_type": "markdown",
      "source": "- The documentation for Python's built-in object types can be found here. Later, we will make use of object types that are useful for numerical and scientific work, but that are not built directly into Python. Each of these third-party types will have its own source for documentation.",
      "metadata": {
        "cell_id": "29d3179f42694dcf9cd6e4f9992ccd7d",
        "deepnote_cell_type": "text-cell-bullet",
        "formattedRanges": [
          {
            "fromCodePoint": 66,
            "ranges": [],
            "toCodePoint": 70,
            "type": "link",
            "url": "https://docs.python.org/3/library/functions.html"
          }
        ]
      }
    },
    {
      "cell_type": "markdown",
      "source": "One very useful feature of Python is that it allows you to embed the documentation for your code directly into the code itself. This allows us to retrieve the documentation directly from the Python interpreter using the help() function:",
      "metadata": {
        "cell_id": "adae3e051a46490f99c088d01a7bbc4e",
        "deepnote_cell_type": "text-cell-p",
        "formattedRanges": []
      }
    },
    {
      "cell_type": "code",
      "source": "help(words_from_hello)",
      "metadata": {
        "cell_id": "376a4714ba3f41578712508182b393ef",
        "deepnote_cell_type": "code",
        "deepnote_to_be_reexecuted": false,
        "execution_millis": 12,
        "execution_start": 1725678416818,
        "source_hash": null
      },
      "outputs": [
        {
          "name": "stdout",
          "output_type": "stream",
          "text": "Help on list object:\n,\n,class list(object)\n, |  list(iterable=(), /)\n, |  \n, |  Built-in mutable sequence.\n, |  \n, |  If no argument is given, the constructor creates a new empty list.\n, |  The argument must be an iterable if specified.\n, |  \n, |  Methods defined here:\n, |  \n, |  __add__(self, value, /)\n, |      Return self+value.\n, |  \n, |  __contains__(self, key, /)\n, |      Return key in self.\n, |  \n, |  __delitem__(self, key, /)\n, |      Delete self[key].\n, |  \n, |  __eq__(self, value, /)\n, |      Return self==value.\n, |  \n, |  __ge__(self, value, /)\n, |      Return self>=value.\n, |  \n, |  __getattribute__(self, name, /)\n, |      Return getattr(self, name).\n, |  \n, |  __getitem__(...)\n, |      x.__getitem__(y) <==> x[y]\n, |  \n, |  __gt__(self, value, /)\n, |      Return self>value.\n, |  \n, |  __iadd__(self, value, /)\n, |      Implement self+=value.\n, |  \n, |  __imul__(self, value, /)\n, |      Implement self*=value.\n, |  \n, |  __init__(self, /, *args, **kwargs)\n, |      Initialize self.  See help(type(self)) for accurate signature.\n, |  \n, |  __iter__(self, /)\n, |      Implement iter(self).\n, |  \n, |  __le__(self, value, /)\n, |      Return self<=value.\n, |  \n, |  __len__(self, /)\n, |      Return len(self).\n, |  \n, |  __lt__(self, value, /)\n, |      Return self<value.\n, |  \n, |  __mul__(self, value, /)\n, |      Return self*value.\n, |  \n, |  __ne__(self, value, /)\n, |      Return self!=value.\n, |  \n, |  __repr__(self, /)\n, |      Return repr(self).\n, |  \n, |  __reversed__(self, /)\n, |      Return a reverse iterator over the list.\n, |  \n, |  __rmul__(self, value, /)\n, |      Return value*self.\n, |  \n, |  __setitem__(self, key, value, /)\n, |      Set self[key] to value.\n, |  \n, |  __sizeof__(self, /)\n, |      Return the size of the list in memory, in bytes.\n, |  \n, |  append(self, object, /)\n, |      Append object to the end of the list.\n, |  \n, |  clear(self, /)\n, |      Remove all items from list.\n, |  \n, |  copy(self, /)\n, |      Return a shallow copy of the list.\n, |  \n, |  count(self, value, /)\n, |      Return number of occurrences of value.\n, |  \n, |  extend(self, iterable, /)\n, |      Extend list by appending elements from the iterable.\n, |  \n, |  index(self, value, start=0, stop=9223372036854775807, /)\n, |      Return first index of value.\n, |      \n, |      Raises ValueError if the value is not present.\n, |  \n, |  insert(self, index, object, /)\n, |      Insert object before index.\n, |  \n, |  pop(self, index=-1, /)\n, |      Remove and return item at index (default last).\n, |      \n, |      Raises IndexError if list is empty or index is out of range.\n, |  \n, |  remove(self, value, /)\n, |      Remove first occurrence of value.\n, |      \n, |      Raises ValueError if the value is not present.\n, |  \n, |  reverse(self, /)\n, |      Reverse *IN PLACE*.\n, |  \n, |  sort(self, /, *, key=None, reverse=False)\n, |      Sort the list in ascending order and return None.\n, |      \n, |      The sort is in-place (i.e. the list itself is modified) and stable (i.e. the\n, |      order of two equal elements is maintained).\n, |      \n, |      If a key function is given, apply it once to each list item and sort them,\n, |      ascending or descending, according to their function values.\n, |      \n, |      The reverse flag can be set to sort in descending order.\n, |  \n, |  ----------------------------------------------------------------------\n, |  Static methods defined here:\n, |  \n, |  __new__(*args, **kwargs) from builtins.type\n, |      Create and return a new object.  See help(type) for accurate signature.\n, |  \n, |  ----------------------------------------------------------------------\n, |  Data and other attributes defined here:\n, |  \n, |  __hash__ = None\n,\n"
        }
      ],
      "execution_count": 21
    },
    {
      "cell_type": "markdown",
      "source": "In the help() documentation above, we see many methods that begin with *double underscore* __ AKA \"dunder\". These methods are considered private to the object; ignore these for now. The remaining methods are meant to be public (we are encouraged to use them).",
      "metadata": {
        "cell_id": "309ef27e5f534558a3c39652429c214b",
        "deepnote_cell_type": "markdown"
      }
    },
    {
      "cell_type": "markdown",
      "source": "Another very useful feature of Python is that is allows introspection--we can ask the Python interpreter questions like \"what variables are available from here\", \"what type is this object\", and \"what methods are available through this object\".",
      "metadata": {
        "cell_id": "4bda3fe9666047f49bc6625ef0e1e52d",
        "deepnote_cell_type": "text-cell-p",
        "formattedRanges": []
      }
    },
    {
      "cell_type": "code",
      "source": "print(dir(words_from_hello))",
      "metadata": {
        "cell_id": "e837afe059134b939af0b807607a3e07",
        "deepnote_cell_type": "code",
        "deepnote_to_be_reexecuted": false,
        "execution_millis": 38,
        "execution_start": 1725678457740,
        "source_hash": null
      },
      "outputs": [
        {
          "name": "stdout",
          "output_type": "stream",
          "text": "['__add__', '__class__', '__contains__', '__delattr__', '__delitem__', '__dir__', '__doc__', '__eq__', '__format__', '__ge__', '__getattribute__', '__getitem__', '__gt__', '__hash__', '__iadd__', '__imul__', '__init__', '__init_subclass__', '__iter__', '__le__', '__len__', '__lt__', '__mul__', '__ne__', '__new__', '__reduce__', '__reduce_ex__', '__repr__', '__reversed__', '__rmul__', '__setattr__', '__setitem__', '__sizeof__', '__str__', '__subclasshook__', 'append', 'clear', 'copy', 'count', 'extend', 'index', 'insert', 'pop', 'remove', 'reverse', 'sort']\n"
        }
      ],
      "execution_count": 22
    },
    {
      "cell_type": "markdown",
      "source": "<div style=\"background: #DFF0D8; border-radius: 3px; padding: 10px;\">\n<b>Exercise 1.5</b>\n\nSort all the words words_from_hello alphabetically\n</div>",
      "metadata": {
        "cell_id": "9573960a7c284546b434c6f36c1c5aa9",
        "deepnote_cell_type": "text-cell-h2",
        "formattedRanges": []
      }
    },
    {
      "cell_type": "code",
      "source": "words_from_hello.sort()\nprint(words_from_hello)",
      "metadata": {
        "cell_id": "101cac225ee74eff8b2afa2ed49ee5a7",
        "deepnote_cell_type": "code",
        "deepnote_to_be_reexecuted": false,
        "execution_millis": 71,
        "execution_start": 1725680109195,
        "source_hash": null
      },
      "outputs": [
        {
          "name": "stdout",
          "output_type": "stream",
          "text": "['!', 'beautiful', 'hello', 'world']\n"
        }
      ],
      "execution_count": 13
    },
    {
      "cell_type": "markdown",
      "source": "Interesting! sort() **mutates** the original object. What if we want to experiment with the data but still want to keep the original object? Try this out: ",
      "metadata": {
        "cell_id": "e7ebc01a10274e3c923f192a23ccd69c",
        "deepnote_cell_type": "markdown"
      }
    },
    {
      "cell_type": "code",
      "source": "my_list_copy = words_from_hello.copy()\nprint(words_from_hello)\nprint(my_list_copy)\nmy_list_copy",
      "metadata": {
        "cell_id": "33073db724dc43448bc11b8cd947c844",
        "deepnote_cell_type": "code",
        "deepnote_to_be_reexecuted": false,
        "execution_millis": 93,
        "execution_start": 1725680122308,
        "source_hash": null
      },
      "outputs": [
        {
          "name": "stdout",
          "output_type": "stream",
          "text": "['!', 'beautiful', 'hello', 'world']\n,['!', 'beautiful', 'hello', 'world']\n"
        },
        {
          "data": {
            "text/plain": [
              "['!', 'beautiful', 'hello', 'world']"
            ]
          },
          "execution_count": 14,
          "metadata": {},
          "output_type": "execute_result"
        }
      ],
      "execution_count": 14
    },
    {
      "cell_type": "code",
      "source": "my_list_copy[1] = \"wacky\"\nprint(my_list_copy)\nprint(words_from_hello)",
      "metadata": {
        "cell_id": "a782a58b8e534da0ab6cdc32521ddb90",
        "deepnote_cell_type": "code",
        "deepnote_to_be_reexecuted": false,
        "execution_millis": 101,
        "execution_start": 1725680168485,
        "source_hash": null
      },
      "outputs": [
        {
          "name": "stdout",
          "output_type": "stream",
          "text": "['!', 'wacky', 'hello', 'world']\n,['!', 'beautiful', 'hello', 'world']\n"
        }
      ],
      "execution_count": 25
    },
    {
      "cell_type": "markdown",
      "source": "Excellent! Lists are **mutable objects** and need to be copied if we want to work with their data but retain the original.",
      "metadata": {
        "cell_id": "fc29f3fa8b0a47bba1203e207a7c5e91",
        "deepnote_cell_type": "markdown"
      }
    },
    {
      "cell_type": "markdown",
      "source": "You can create new lists using a comma-separated list of objects inside square brackets [].  Lists may contain *any* kind of python object, including, for example, other lists.  Every element in a list need not be of the same type. ",
      "metadata": {
        "cell_id": "587d017f99e945baa0cd361da400e968",
        "deepnote_cell_type": "markdown"
      }
    },
    {
      "cell_type": "code",
      "source": "my_new_list = [hello, 'hey', 1.0, 3, words_from_hello]\nprint(my_new_list)",
      "metadata": {
        "cell_id": "6354584c203e4667ac9f18b961a1754f",
        "deepnote_cell_type": "code",
        "deepnote_to_be_reexecuted": false,
        "execution_millis": 108,
        "execution_start": 1725680858146,
        "source_hash": null
      },
      "outputs": [
        {
          "name": "stdout",
          "output_type": "stream",
          "text": "['Hello, world', 'hey', 1.0, 3, ['!', 'beautiful', 'hello', 'world']]\n"
        }
      ],
      "execution_count": 26
    },
    {
      "cell_type": "markdown",
      "source": "Python has a type called **range** that describes sequences of **integers**.  We can create ranges by calling the built-in function helpfully called *range*.  Casting these to a list is an easy way to create lists of integers.  \n\nNotice that the entries here run from 0 to 9 when we ask for a list of length 10.",
      "metadata": {
        "cell_id": "efb065cebf5e4b7f913bfe8457db7ecd",
        "deepnote_cell_type": "markdown"
      }
    },
    {
      "cell_type": "code",
      "source": "my_ints = list(range(10))\nprint(my_ints)",
      "metadata": {
        "cell_id": "54f2b5cdf8d84cfc8f59066873a532dc",
        "deepnote_cell_type": "code",
        "deepnote_to_be_reexecuted": false,
        "execution_millis": 65,
        "execution_start": 1725680939726,
        "source_hash": null
      },
      "outputs": [
        {
          "name": "stdout",
          "output_type": "stream",
          "text": "[0, 1, 2, 3, 4, 5, 6, 7, 8, 9]\n"
        }
      ],
      "execution_count": 27
    },
    {
      "cell_type": "markdown",
      "source": "**len()** is a convenient function to find out the length of certain types of objects, like strings and lists:",
      "metadata": {
        "cell_id": "ce46ce0b7e4c40c1af6f62e1107df282",
        "deepnote_cell_type": "markdown"
      }
    },
    {
      "cell_type": "code",
      "source": "print(len(my_ints))\nprint(len(words_from_hello))\nprint(len(\"hello\"))",
      "metadata": {
        "cell_id": "edd262572542423c9405bd4a5267e0e0",
        "deepnote_cell_type": "code",
        "deepnote_to_be_reexecuted": false,
        "execution_millis": 14,
        "execution_start": 1725681298882,
        "source_hash": null
      },
      "outputs": [
        {
          "name": "stdout",
          "output_type": "stream",
          "text": "10\n,4\n,5\n"
        }
      ],
      "execution_count": 28
    },
    {
      "cell_type": "markdown",
      "source": "Aside from referncing an index, we can also reference a subset of the list using slicing. The syntax is the same as slicing in strings which is [start:stop:step].  The default value for start is 0, the default value for stop is the length of the list, and the default value for step is 1. We do not have to enter a value is is one of these defaults. \n\"start\" will begin at the index specified in start. \"stop\" will end at the index specified in stop but **will not include the index specified in stop** (it is \"exclusive of stop\" or \"non-inclusive\"), and \"step\" will step by the number specified in step.",
      "metadata": {
        "cell_id": "3333b36811824cf49daa55e3c2e3470b",
        "deepnote_cell_type": "markdown"
      }
    },
    {
      "cell_type": "code",
      "source": "print(my_new_list)\nprint(my_new_list[2:4])    # The upper limit of '4' is non-inclusive; this will return a list of length 2\nprint(my_new_list[:3])     # This will return the first three elements, \n                           # but remember you're not asking for three elements, you're telling Python to stop when it gets to index 3\nprint(my_new_list[-2:])    # You can also index from the end of an array.  This returns the last two elements",
      "metadata": {
        "cell_id": "6c149c53d4b1470fac268cf51e0133c0",
        "deepnote_cell_type": "code",
        "deepnote_to_be_reexecuted": false,
        "execution_millis": 349,
        "execution_start": 1725682507202,
        "source_hash": null
      },
      "outputs": [
        {
          "name": "stdout",
          "output_type": "stream",
          "text": "['Hello, world', 'hey', 1.0, 3, ['!', 'beautiful', 'hello', 'world']]\n,[1.0, 3]\n,['Hello, world', 'hey', 1.0]\n,[3, ['!', 'beautiful', 'hello', 'world']]\n"
        }
      ],
      "execution_count": 29
    },
    {
      "cell_type": "markdown",
      "source": "<div style=\"background: #DFF0D8; border-radius: 3px; padding: 10px;\">\n<b>Exercise 1.6</b>\n\nReplace the extension in a filename string without using the replace or string slicing methods (hint: list slicing, above, can do this)\n\n'my_file.txt' -> 'my_file.pdf'\n</div>",
      "metadata": {
        "cell_id": "f7de708973e54250a757d22215dc68d5",
        "deepnote_cell_type": "text-cell-h2",
        "formattedRanges": []
      }
    },
    {
      "cell_type": "code",
      "source": "# Answer 1.6\nfilename = 'myfile.txt'\nfilename = filename[:-3]+'pdf'\nprint(filename)",
      "metadata": {
        "cell_id": "0ea05d38e7544ad68491865f76e9584c",
        "deepnote_cell_type": "code",
        "deepnote_to_be_reexecuted": false,
        "execution_millis": 161,
        "execution_start": 1726196769196,
        "source_hash": null
      },
      "outputs": [
        {
          "name": "stdout",
          "output_type": "stream",
          "text": "myfile.pdf\n"
        }
      ],
      "execution_count": 15
    },
    {
      "cell_type": "markdown",
      "source": "**WHAT?!** Let's break this down. Telling Python to slice a copy of a string and stop at -3 will remove the last three indicies (i.e. '.txt') from the filename. Then, as you've seen before, we use the \"+\" operator to add 'pdf' to the end of the filename. \nWhat if we started at index 2 instead of the default of 0?",
      "metadata": {
        "cell_id": "fb11e6cf8af042918832b5481f1ee63d",
        "deepnote_cell_type": "markdown"
      }
    },
    {
      "cell_type": "code",
      "source": "new_filename = filename[2:-3]+'pdf'\nprint(new_filename)\nprint(filename)",
      "metadata": {
        "cell_id": "b5b069080c9a4737ac6fd1be2f538197",
        "deepnote_cell_type": "code",
        "deepnote_to_be_reexecuted": false,
        "execution_millis": 18,
        "execution_start": 1725683861878,
        "source_hash": null
      },
      "outputs": [
        {
          "name": "stdout",
          "output_type": "stream",
          "text": "file.pdf\n,myfile.pdf\n"
        }
      ],
      "execution_count": 16
    },
    {
      "cell_type": "markdown",
      "source": "### Strings vs Lists: mutability",
      "metadata": {
        "cell_id": "3db96c4944bf493d9c02e9775b0fd7ee",
        "deepnote_cell_type": "text-cell-h3",
        "formattedRanges": []
      }
    },
    {
      "cell_type": "markdown",
      "source": "We didn't need to do anything fancy to make a copy of this string because they are **immutable**. A consequece of this is that if we want to change a string, we have to make a copy. When assigning a variable to an existing string Python makes a copy of the original string and points the new variable at the copy. ",
      "metadata": {
        "cell_id": "3a2f3bd26d004b80bc9b89988ecd792f",
        "deepnote_cell_type": "markdown"
      }
    },
    {
      "cell_type": "markdown",
      "source": "**Lists** are mutable, and we've been using that feature to update my_new_list whenever we changed a value at an index. When we used **sort()** the original list was changed and the entries were rearranged into alphabetical order. We had to specifically make a copy if we wanted the original list to remain unchanged.\n**Strings**, in contrast, don't have a sort() method, and you can't change an individual \"index\" in a string. If you have horse_food = \"hey\" and want to correct the spelling, there isn't a way to do something like horse_food[1] = \"a\", you would get an error.\nWhile there is a \"replace()\" method, recall that you can only use replace on a new string. You can type proper_horse_food = horse_food.replace(\"hey\", \"hay\") and when Python makes the copy of the string it will make the change; this is the same process as using the [start:stop:step] splicing technique. But the original string is still \"hey\". If you need to make a change to a string you have to give the variable an entire new value. horse_food = \"horses eat hay\" is a valid way to correct or change the value stored in the variable because you are replaceing the entire value. You can also reuse the variable name and include the original variable value, e.g. horse_food = \"horses eat\" + horse_food (though in this case the result would be \"horses eat hey\", but reassigning to a variable is a frequently used technique to change immutable objects).",
      "metadata": {
        "cell_id": "49928cca0cf44c028c31516f4714c411",
        "deepnote_cell_type": "markdown"
      }
    },
    {
      "cell_type": "markdown",
      "source": "## Tuple",
      "metadata": {
        "cell_id": "211fb0b1d3794403b99a9f45678ae0aa",
        "deepnote_cell_type": "text-cell-h2",
        "formattedRanges": []
      }
    },
    {
      "cell_type": "markdown",
      "source": "Now that we understand immutability a little better we can talk about tuples. A **tuple** is 1) addressable, 2) ordered, 3) immutable.\n\nThe primary difference from a 'list' is that tuples are immutable.  They cannot be altered once created.  They are indicated by *parentheses* rather than brackets.",
      "metadata": {
        "cell_id": "763cea89c8884c2f8fa5c4705e9b5363",
        "deepnote_cell_type": "markdown"
      }
    },
    {
      "cell_type": "code",
      "source": "my_new_tuple = ('hey', 2.0, 3, words_from_hello)\nprint(my_new_tuple)",
      "metadata": {
        "cell_id": "e6c94e249dc44112818138bb65dac7f6",
        "deepnote_cell_type": "code",
        "deepnote_to_be_reexecuted": false,
        "execution_millis": 53,
        "execution_start": 1725685651615,
        "source_hash": null
      },
      "outputs": [
        {
          "name": "stdout",
          "output_type": "stream",
          "text": "('hey', 2.0, 3, ['!', 'beautiful', 'hello', 'world'])\n"
        }
      ],
      "execution_count": 32
    },
    {
      "cell_type": "code",
      "source": "my_new_tuple[0] = \"hay\"",
      "metadata": {
        "cell_id": "8c1761c6d012405d8cd10f503330fe77",
        "deepnote_cell_type": "code",
        "deepnote_to_be_reexecuted": false,
        "execution_millis": 119,
        "execution_start": 1725685292303,
        "source_hash": null
      },
      "outputs": [
        {
          "ename": "TypeError",
          "evalue": "'tuple' object does not support item assignment",
          "output_type": "error",
          "traceback": [
            "\u001b[0;31m---------------------------------------------------------------------------\u001b[0m",
            "\u001b[0;31mTypeError\u001b[0m                                 Traceback (most recent call last)",
            "Cell \u001b[0;32mIn[33], line 1\u001b[0m\n\u001b[0;32m----> 1\u001b[0m \u001b[43mmy_new_tuple\u001b[49m\u001b[43m[\u001b[49m\u001b[38;5;241;43m0\u001b[39;49m\u001b[43m]\u001b[49m \u001b[38;5;241m=\u001b[39m \u001b[38;5;124m\"\u001b[39m\u001b[38;5;124mhay\u001b[39m\u001b[38;5;124m\"\u001b[39m\n",
            "\u001b[0;31mTypeError\u001b[0m: 'tuple' object does not support item assignment"
          ]
        }
      ],
      "execution_count": 33
    },
    {
      "cell_type": "markdown",
      "source": "**Note** if an element in a tuple is itself mutable, that element can be changed.",
      "metadata": {
        "cell_id": "bb86a79029ae4234b5f2c3613e4a9aa2",
        "deepnote_cell_type": "markdown"
      }
    },
    {
      "cell_type": "code",
      "source": "print(my_new_tuple)\nmy_new_tuple[3][0] = 'hello'  # index 3 is our list, and we're going to replace the \"!\" with \"hello\"\nprint(my_new_tuple)",
      "metadata": {
        "cell_id": "636445e9d573428895c8a4b5ded60256",
        "deepnote_cell_type": "code",
        "deepnote_to_be_reexecuted": false,
        "execution_millis": 40,
        "execution_start": 1725685692796,
        "source_hash": null
      },
      "outputs": [
        {
          "name": "stdout",
          "output_type": "stream",
          "text": "('hey', 2.0, 3, ['!', 'beautiful', 'hello', 'world'])\n,('hey', 2.0, 3, ['hello', 'beautiful', 'hello', 'world'])\n"
        }
      ],
      "execution_count": 34
    },
    {
      "cell_type": "markdown",
      "source": "Recall, or scroll, above where we talked about multiple assignment? Tuples are how we're able to assign variable names to a \"list\" of values (\"list\" like humans use the word, not the data structure).",
      "metadata": {
        "cell_id": "23b9be40ecde4d0fbabc0f21f7561e05",
        "deepnote_cell_type": "markdown"
      }
    },
    {
      "cell_type": "code",
      "source": "x, y, z, w = my_new_tuple\nprint(x)\nprint(y)\nprint(z)\nprint(w)",
      "metadata": {
        "cell_id": "775ea1a28ec74ef18c320017aa252d78",
        "deepnote_cell_type": "code",
        "deepnote_to_be_reexecuted": false,
        "execution_millis": 79,
        "execution_start": 1725685836609,
        "source_hash": null
      },
      "outputs": [
        {
          "name": "stdout",
          "output_type": "stream",
          "text": "hey\n,2.0\n,3\n,['hello', 'beautiful', 'hello', 'world']\n"
        }
      ],
      "execution_count": 35
    },
    {
      "cell_type": "markdown",
      "source": "We can also add values to tuple when making a copy, just as we were able to add \"pdf\" to the string \"filename\".",
      "metadata": {
        "cell_id": "585203741eb74488a7bc9184de42e4df",
        "deepnote_cell_type": "markdown"
      }
    },
    {
      "cell_type": "code",
      "source": "my_tuple = (1,2,3)\nmy_tuple = my_tuple + (4,5,6) + (7,)\nprint(my_tuple)",
      "metadata": {
        "cell_id": "466d3432fd8844ce919754c56e1bf693",
        "deepnote_cell_type": "code",
        "deepnote_to_be_reexecuted": false,
        "execution_millis": 138,
        "execution_start": 1725686046960,
        "source_hash": null
      },
      "outputs": [
        {
          "name": "stdout",
          "output_type": "stream",
          "text": "(1, 2, 3, 4, 5, 6, 7)\n"
        }
      ],
      "execution_count": 36
    },
    {
      "cell_type": "markdown",
      "source": "As we looked at with strings, we reassigned my_tuple to have a new value that included the original my_tuple, then added a new tuple that included 4, 5, 6, and another tuple that included 7. If we tried to add 7 as an integer, or even 7 wrapped in parentheses, we would get an error. We have to use the (7,) paradigm to make it a proper tuple.",
      "metadata": {
        "cell_id": "1b2435c47b5d42cc82347fca330d1799",
        "deepnote_cell_type": "markdown"
      }
    },
    {
      "cell_type": "markdown",
      "source": "## Dictionaries",
      "metadata": {
        "cell_id": "bba166df5daf41f5aee16a2588b3ff0b",
        "deepnote_cell_type": "text-cell-h2",
        "formattedRanges": []
      }
    },
    {
      "cell_type": "markdown",
      "source": "### AKA Dict / hash table / map / hash map",
      "metadata": {
        "cell_id": "3fda4262c17742748164afe152c30030",
        "deepnote_cell_type": "text-cell-h3",
        "formattedRanges": []
      }
    },
    {
      "cell_type": "markdown",
      "source": "Finding an index of an array or tuple is pretty useful, providing you know the index. But what if you want to search by name, such as employee_directory['Sally']? This is a very common programming problem that can be solved with dictionaries. \nDictionaries are 1) addressable, 2) mutable and 3) unordered.",
      "metadata": {
        "cell_id": "ea519c7e6e814268bb77ff2ba692f70c",
        "deepnote_cell_type": "markdown"
      }
    },
    {
      "cell_type": "code",
      "source": "# A phonebook, the awkward way:\nphonebook_names = ['Luke', 'Michelle', 'Shawn']\nphonebook_numbers = [9194280943, 2048675309, 5780239432]\n\n# Look up Luke's index, and then phone number:\nluke_index = phonebook_names.index('Luke')\nprint(f\"phonebook_names[luke_index]: {phonebook_numbers[luke_index]}\")\n\n# A phonebook, as Guido intended:\nphonebook = {'Luke': 9194280943, 'Michelle': 2048675309, 'Shawn': 5780239432}\nprint(f\"phonebook['Luke']: {phonebook['Luke']}\")  \n",
      "metadata": {
        "cell_id": "675180a1a0434f1c813170608d564ca1",
        "deepnote_cell_type": "code",
        "deepnote_to_be_reexecuted": false,
        "execution_millis": 94,
        "execution_start": 1725939736490,
        "source_hash": null
      },
      "outputs": [
        {
          "name": "stdout",
          "output_type": "stream",
          "text": "phonebook_names[luke_index]: 9194280943\n,phonebook['Luke']: 9194280943\n"
        }
      ],
      "execution_count": 37
    },
    {
      "cell_type": "markdown",
      "source": "Empty dicts are created by assigning empty curly braces to a variable, like so: new_dict = {}. Adding values to dicts is easy so long as you address a key: new_dict['first_entry'] = 1  You will get an error if you try to reference a key that doesn't exist",
      "metadata": {
        "cell_id": "d06c9236b752404286dd610879a6ed24",
        "deepnote_cell_type": "text-cell-p",
        "formattedRanges": []
      }
    },
    {
      "cell_type": "code",
      "source": "words_dict = {}\nprint(words_dict)\n\nwords_dict['X'] = 1\nwords_dict['Y'] = 2\nwords_dict['Z'] = \"hello\"\n\nprint(words_dict)\n\nwords_dict['Z']",
      "metadata": {
        "cell_id": "23efd77c24d94d02933133e573c79569",
        "deepnote_cell_type": "code",
        "deepnote_to_be_reexecuted": false,
        "execution_millis": 326,
        "execution_start": 1725939917988,
        "source_hash": null
      },
      "outputs": [
        {
          "name": "stdout",
          "output_type": "stream",
          "text": "{}\n,{'X': 1, 'Y': 2, 'Z': 'hello'}\n"
        },
        {
          "data": {
            "text/plain": [
              "'hello'"
            ]
          },
          "execution_count": 38,
          "metadata": {},
          "output_type": "execute_result"
        }
      ],
      "execution_count": 38
    },
    {
      "cell_type": "code",
      "source": "print(words_dict['J'])",
      "metadata": {
        "cell_id": "ebb7ae4f7b10454f8351647d74d2f957",
        "deepnote_cell_type": "code",
        "deepnote_to_be_reexecuted": false,
        "execution_millis": 1090,
        "execution_start": 1725939937028,
        "source_hash": null
      },
      "outputs": [
        {
          "ename": "KeyError",
          "evalue": "'J'",
          "output_type": "error",
          "traceback": [
            "\u001b[0;31m---------------------------------------------------------------------------\u001b[0m",
            "\u001b[0;31mKeyError\u001b[0m                                  Traceback (most recent call last)",
            "Cell \u001b[0;32mIn[39], line 1\u001b[0m\n\u001b[0;32m----> 1\u001b[0m \u001b[38;5;28mprint\u001b[39m(\u001b[43mwords_dict\u001b[49m\u001b[43m[\u001b[49m\u001b[38;5;124;43m'\u001b[39;49m\u001b[38;5;124;43mJ\u001b[39;49m\u001b[38;5;124;43m'\u001b[39;49m\u001b[43m]\u001b[49m)\n",
            "\u001b[0;31mKeyError\u001b[0m: 'J'"
          ]
        }
      ],
      "execution_count": 39
    },
    {
      "cell_type": "markdown",
      "source": "<div style=\"background: #DFF0D8; border-radius: 3px; padding: 10px;\">\n<b>Exercise 1.7</b>\n\n\nGo ahead and practice making a dictionary about you. It should have your school, major, graduation year, and a hobby\n</div>",
      "metadata": {
        "cell_id": "4bf9bad89ebf45318f02ff5981546614",
        "deepnote_cell_type": "text-cell-h2",
        "formattedRanges": []
      }
    },
    {
      "cell_type": "code",
      "source": "# Answer 1.7\nmy_dictionary = {}\nmy_dictionary['school'] = 'hard knocks'\nmy_dictionary['major'] = 'PE'\nmy_dictionary['hobby'] = 'neuroscience'\nmy_dictionary['year of graduation'] = '1984'\nprint(my_dictionary)",
      "metadata": {
        "cell_id": "2a2f79cd76a1463d9a27be58e6a67ec6",
        "deepnote_cell_type": "code",
        "deepnote_to_be_reexecuted": false,
        "execution_millis": 21,
        "execution_start": 1725940097352,
        "source_hash": null
      },
      "outputs": [
        {
          "name": "stdout",
          "output_type": "stream",
          "text": "{'school': 'hard knocks', 'major': 'PE', 'hobby': 'neuroscience', 'year of graduation': '1984'}\n"
        }
      ],
      "execution_count": 17
    },
    {
      "cell_type": "markdown",
      "source": "<div style=\"background: #DFF0D8; border-radius: 3px; padding: 10px;\">\n<b>Exercise 1.8</b>\n\nNow add info about two other people to a new dictionary in the same format; this might be a good chance to learn something about your coworkers or friends.\n</div>",
      "metadata": {
        "cell_id": "299fe1ada1ff4624807283a75b85b1df",
        "deepnote_cell_type": "text-cell-h2",
        "formattedRanges": []
      }
    },
    {
      "cell_type": "code",
      "source": "# Answer 1.8\nour_dictionary = {}\nour_dictionary['me'] = my_dictionary\nour_dictionary['my coworker'] = {\n    'school': 'Hard Rock',\n    'major': 'guitar',\n    'hobby': 'rocking',\n    'year of graduation': '1980'\n}\nprint(our_dictionary)",
      "metadata": {
        "cell_id": "4818574594e64b9382cbed083a0793ed",
        "deepnote_cell_type": "code",
        "deepnote_to_be_reexecuted": false,
        "execution_millis": 105,
        "execution_start": 1725940274631,
        "source_hash": null
      },
      "outputs": [
        {
          "name": "stdout",
          "output_type": "stream",
          "text": "{'me': {'school': 'hard knocks', 'major': 'PE', 'hobby': 'neuroscience', 'year of graduation': '1984'}, 'my coworker': {'school': 'Hard Rock', 'major': 'guitar', 'hobby': 'rocking', 'year of graduation': '1980'}}\n"
        }
      ],
      "execution_count": 19
    },
    {
      "cell_type": "markdown",
      "source": "## Review\n1) All variables are objects. Objects have methods.\n2) Data Structures: list, tuple, dict\n3) Data Types: str, float, int",
      "metadata": {
        "cell_id": "64c2369c9bac4665becb8644fe840851",
        "deepnote_cell_type": "markdown"
      }
    },
    {
      "cell_type": "markdown",
      "source": "<div style=\"background: #DFF0D8; border-radius: 3px; padding: 10px;\">\n<b>Exercise 1.9</b>  \nThe following variables are allowed (T/F):\n<ul>\n<li>3Dgraph</li>\n<li>hello_world</li>\n<li>January2008</li>\n<li>Trial#1</li>\n<li>myData</li>\n</ul>\n</div>",
      "metadata": {
        "cell_id": "0ccfbf90abd54ea8a76b374f84004031",
        "deepnote_cell_type": "markdown"
      }
    },
    {
      "cell_type": "markdown",
      "source": "### Answer 1.9\n<ul>\n<li>3Dgraph - False, variables cannot begin with a digit</li>\n<li>hello_world - True</li>\n<li>January2008 - True</li>\n<li>Trial#1 - False, variables must only use letters, digits or underscores</li>\n<li>myData - True</li>\n</ul>",
      "metadata": {
        "cell_id": "2c9ea069199d49a68345e66cd9810e4c",
        "deepnote_cell_type": "markdown"
      }
    },
    {
      "cell_type": "markdown",
      "source": "<div style=\"background: #DFF0D8; border-radius: 3px; padding: 10px;\">\n<b>Exercise 1.10</b>\n    \nWrite a series of statements that perform the following functions:\n\n1) Assign 3 to 'a'.\n2) Add 5 to 'a' and assign the result to 'b'.\n3) Divide 'b' by 2 and assign the result to 'c'.\n4) Print 'c'.\n</div>",
      "metadata": {
        "cell_id": "3e00d50710994c06ba1d96bf8983203e",
        "deepnote_cell_type": "markdown"
      }
    },
    {
      "cell_type": "code",
      "source": "# Answer 1.10\na = 3\nb = a + 5\nc = b / 2\nprint(c)",
      "metadata": {
        "cell_id": "95c328d1341f47d98656aa2ac11a954b",
        "deepnote_cell_type": "code",
        "deepnote_to_be_reexecuted": false,
        "execution_millis": 95,
        "execution_start": 1725942291780,
        "source_hash": null
      },
      "outputs": [
        {
          "name": "stdout",
          "output_type": "stream",
          "text": "4.0\n"
        }
      ],
      "execution_count": 20
    },
    {
      "cell_type": "markdown",
      "source": "<div style=\"background: #DFF0D8; border-radius: 3px; padding: 10px;\">\n<b>Exercise 1.11</b>\n\n    \nConvert a temperature in Celsius to Fahrenheit (f = 9/5 x c + 32) (Hint: keep in mind how using float and int types can affect multiplication and division).\n</div>",
      "metadata": {
        "cell_id": "fa1a9133658c44a69e80afbfc6c25d74",
        "deepnote_cell_type": "markdown"
      }
    },
    {
      "cell_type": "code",
      "source": "# Answer 1.11\nc = 38\nf = (9.0/5.0)*c + 32\nprint(f)",
      "metadata": {
        "cell_id": "1bb1985f9dc04eafb3a421c376143d31",
        "deepnote_cell_type": "code",
        "deepnote_to_be_reexecuted": false,
        "execution_millis": 19,
        "execution_start": 1725942364359,
        "source_hash": null
      },
      "outputs": [
        {
          "name": "stdout",
          "output_type": "stream",
          "text": "100.4\n"
        }
      ],
      "execution_count": 21
    },
    {
      "cell_type": "code",
      "source": "# Answer 1.11\nc = -40\nf = (9.0/5.0)*c + 32\nprint(f)",
      "metadata": {
        "cell_id": "92598819140e4e47b5b070e1ef19e0f3",
        "deepnote_cell_type": "code",
        "deepnote_to_be_reexecuted": false,
        "execution_millis": 108,
        "execution_start": 1725942361462,
        "source_hash": null
      },
      "outputs": [
        {
          "name": "stdout",
          "output_type": "stream",
          "text": "-40.0\n"
        }
      ],
      "execution_count": 22
    },
    {
      "cell_type": "markdown",
      "source": "<div style=\"background: #DFF0D8; border-radius: 3px; padding: 10px;\">\n<b>Exercise 1.12</b>\n                \n Print the last five objects in this list: [1,2,3,4,5,6,7,8,9]\n </div>",
      "metadata": {
        "cell_id": "d8e11fef3a764b189ed772699a9d0583",
        "deepnote_cell_type": "markdown"
      }
    },
    {
      "cell_type": "code",
      "source": "# Answer 1.12\nlist = [1,2,3,4,5,6,7,8,9] \nprint(list[-5:])",
      "metadata": {
        "cell_id": "966348dadf594531867cfc611fd7af96",
        "deepnote_cell_type": "code",
        "deepnote_to_be_reexecuted": false,
        "execution_millis": 40,
        "execution_start": 1725943862636,
        "source_hash": null
      },
      "outputs": [
        {
          "name": "stdout",
          "output_type": "stream",
          "text": "[5, 6, 7, 8, 9]\n"
        }
      ],
      "execution_count": 23
    },
    {
      "cell_type": "markdown",
      "source": "<div style=\"background: #DFF0D8; border-radius: 3px; padding: 10px;\">\n<b>Exercise 1.13</b>\n    \nReplace every instance of a character (e.g. 'l') in a string with another (e.g. 'y').\n\n             'hello' -> 'heyyo'\n</div>",
      "metadata": {
        "cell_id": "6a11abfab76d483287dc0ff3627b6ca7",
        "deepnote_cell_type": "markdown"
      }
    },
    {
      "cell_type": "code",
      "source": "# Answer 1.13\ns = 'hello'\ns = s.replace('l','y')\nprint(s)",
      "metadata": {
        "cell_id": "e068c4892e2b441fb6c39ca690a1c811",
        "deepnote_cell_type": "code",
        "deepnote_to_be_reexecuted": false,
        "execution_millis": 29,
        "execution_start": 1725943954892,
        "source_hash": null
      },
      "outputs": [
        {
          "name": "stdout",
          "output_type": "stream",
          "text": "heyyo\n"
        }
      ],
      "execution_count": 24
    },
    {
      "cell_type": "markdown",
      "source": "<div style=\"background: #DFF0D8; border-radius: 3px; padding: 10px;\">\n<b>Exercise 1.14</b>\n                       \nReverse the word order in a sentence.\n</b>",
      "metadata": {
        "cell_id": "d3b0b041feb846af870be578c9c7306d",
        "deepnote_cell_type": "markdown"
      }
    },
    {
      "cell_type": "code",
      "source": "sentence = 'that rug really tied the room together'",
      "metadata": {
        "cell_id": "92d6a326928146e388394d7dcb81443f",
        "deepnote_cell_type": "code"
      },
      "outputs": [],
      "execution_count": 25
    },
    {
      "cell_type": "code",
      "source": "# Answer 1.14\nsentence_list = sentence.split(\" \")\nsentence_list.reverse()\n\nreversed_sentence = \" \".join(sentence_list)\nprint(reversed_sentence)",
      "metadata": {
        "cell_id": "0f97ce44500c47d8ba5f74a745d29028",
        "deepnote_cell_type": "code"
      },
      "outputs": [
        {
          "name": "stdout",
          "output_type": "stream",
          "text": "together room the tied really rug that\n"
        }
      ],
      "execution_count": 26
    },
    {
      "cell_type": "markdown",
      "source": "<div style=\"background: #DFF0D8; border-radius: 3px; padding: 10px;\">\n<b>Exercise 1.15</b>\n    \nWrite a function to get the the decimal component of a float without using subtraction.\n\n`12.345` -> `0.345`\n</div>",
      "metadata": {
        "cell_id": "d73abdefa35544c4834c0d224a480f5b",
        "deepnote_cell_type": "markdown"
      }
    },
    {
      "cell_type": "code",
      "source": "# Answer 1.15\ndef get_decimal(in_val):\n    new_val = str(float(in_val)) #cast to float first, just in case it wasn't already, then to string\n    deci = new_val.split(\".\")[-1] #split on the decimal\n    return float('0.'+deci) #add a '0.' to the front of the string, cast as float, then return\n\nget_decimal(3.14159265359)",
      "metadata": {
        "cell_id": "5818031e584146db9d0fefaf25699c13",
        "deepnote_cell_type": "code",
        "deepnote_to_be_reexecuted": false,
        "execution_millis": 49,
        "execution_start": 1725944052686,
        "source_hash": null
      },
      "outputs": [
        {
          "data": {
            "text/plain": [
              "0.14159265359"
            ]
          },
          "execution_count": 27,
          "metadata": {},
          "output_type": "execute_result"
        }
      ],
      "execution_count": 27
    },
    {
      "cell_type": "markdown",
      "source": "<div style=\"background: #DFF0D8; border-radius: 3px; padding: 10px;\">\n<b>Exercise 1.16</b>\n    \n Find the maximum and minimum element in a list of numbers.  (This can be done with tools you have just seen or with a built in function.)\n </div>",
      "metadata": {
        "cell_id": "0d20883a72a54f13a4b26aa080f8b5d2",
        "deepnote_cell_type": "markdown"
      }
    },
    {
      "cell_type": "code",
      "source": "# Answer 1.16\nvals = [8,1,95,3,-1,55,4.6]\nprint(vals)\n\n#using methods from above:\nvals.sort()\nprint('using list sorting:')\nprint('minimum:')\nprint(vals[0])\nprint\nprint('maximum:')\nprint(vals[-1])\nprint\n\n#using built ins:\nprint('using min and max built-in functions:')\nprint('minimum:')\nprint(min(vals))\nprint\nprint('maximum:')\nprint(max(vals))",
      "metadata": {
        "cell_id": "744cb5c827f04ebbb7097842a9dbbee7",
        "deepnote_cell_type": "code",
        "deepnote_to_be_reexecuted": false,
        "execution_millis": 35,
        "execution_start": 1725944136708,
        "source_hash": null
      },
      "outputs": [
        {
          "name": "stdout",
          "output_type": "stream",
          "text": "[8, 1, 95, 3, -1, 55, 4.6]\n,using list sorting:\n,minimum:\n,-1\n,maximum:\n,95\n,using min and max built-in functions:\n,minimum:\n,-1\n,maximum:\n,95\n"
        }
      ],
      "execution_count": 28
    },
    {
      "cell_type": "markdown",
      "source": "<div style=\"background: #DFF0D8; border-radius: 3px; padding: 10px;\">\n<b>Exercise 1.17</b>\n    \nTake a look at the methods available on the `dict` object.  Using the supplied dictionaries below, insert the contents of dictionary `b` into dictionary `a`.\n</div>",
      "metadata": {
        "cell_id": "17cd8ac3a9f44994843652a41d10147a",
        "deepnote_cell_type": "markdown"
      }
    },
    {
      "cell_type": "code",
      "source": "# Answer 1.17\na = { 'a': 100, 'c': 400 }\nb = { 'a': 300, 'b': 200 }\na.update(b)\nprint(a)",
      "metadata": {
        "cell_id": "1eb122e61e5e42fea3b0d4b428a7cfae",
        "deepnote_cell_type": "code",
        "deepnote_to_be_reexecuted": false,
        "execution_millis": 103,
        "execution_start": 1725944189364,
        "source_hash": null
      },
      "outputs": [
        {
          "name": "stdout",
          "output_type": "stream",
          "text": "{'a': 300, 'c': 400, 'b': 200}\n"
        }
      ],
      "execution_count": 29
    }
  ]
}